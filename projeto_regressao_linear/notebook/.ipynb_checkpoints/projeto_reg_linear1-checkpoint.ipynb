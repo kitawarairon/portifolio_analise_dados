{
 "cells": [
  {
   "cell_type": "markdown",
   "id": "8fed44ca-86de-4c99-aafe-21b1e8e4c2ba",
   "metadata": {},
   "source": [
    "# Projeto - Regressão linear para o consumo de cerveja\n",
    "\n",
    "\n",
    "https://medium.com/@eduardocorreaaraujo8/gr%C3%A1fico-de-linhas-no-plotly-em-python-1eafd35ca73a"
   ]
  },
  {
   "cell_type": "code",
   "execution_count": 188,
   "id": "e1d56d73-2351-45ce-b8bf-73eda1758349",
   "metadata": {},
   "outputs": [],
   "source": [
    "import pandas as pd\n",
    "import seaborn as sns\n",
    "import matplotlib.pyplot as plt\n",
    "import numpy as np\n",
    "import itertools\n",
    "import plotly.graph_objects as go\n",
    "import plotly.express as px\n",
    "from biokit.viz import corrplot\n",
    "\n",
    "# configurações\n",
    "import warnings\n",
    "warnings.filterwarnings('ignore')"
   ]
  },
  {
   "cell_type": "markdown",
   "id": "7414e4c1-3bca-418d-8e53-18d57d58aa52",
   "metadata": {},
   "source": [
    "# Análise dos dados\n",
    "\n",
    "## Verificações iniciais"
   ]
  },
  {
   "cell_type": "code",
   "execution_count": 189,
   "id": "09490c5e-7510-44a8-b444-0f2b7289fa1c",
   "metadata": {},
   "outputs": [],
   "source": [
    "cerveja = pd.read_csv('../data/Consumo_cerveja.csv', sep=';')"
   ]
  },
  {
   "cell_type": "code",
   "execution_count": 190,
   "id": "631ac826-3f52-4125-bded-13f2e4aee1aa",
   "metadata": {},
   "outputs": [
    {
     "data": {
      "text/html": [
       "<div>\n",
       "<style scoped>\n",
       "    .dataframe tbody tr th:only-of-type {\n",
       "        vertical-align: middle;\n",
       "    }\n",
       "\n",
       "    .dataframe tbody tr th {\n",
       "        vertical-align: top;\n",
       "    }\n",
       "\n",
       "    .dataframe thead th {\n",
       "        text-align: right;\n",
       "    }\n",
       "</style>\n",
       "<table border=\"1\" class=\"dataframe\">\n",
       "  <thead>\n",
       "    <tr style=\"text-align: right;\">\n",
       "      <th></th>\n",
       "      <th>data</th>\n",
       "      <th>temp_media</th>\n",
       "      <th>temp_min</th>\n",
       "      <th>temp_max</th>\n",
       "      <th>chuva</th>\n",
       "      <th>fds</th>\n",
       "      <th>consumo</th>\n",
       "    </tr>\n",
       "  </thead>\n",
       "  <tbody>\n",
       "    <tr>\n",
       "      <th>305</th>\n",
       "      <td>02/11/2015</td>\n",
       "      <td>21.82</td>\n",
       "      <td>18.3</td>\n",
       "      <td>27.2</td>\n",
       "      <td>39.6</td>\n",
       "      <td>0</td>\n",
       "      <td>20648</td>\n",
       "    </tr>\n",
       "    <tr>\n",
       "      <th>217</th>\n",
       "      <td>06/08/2015</td>\n",
       "      <td>21.06</td>\n",
       "      <td>16.3</td>\n",
       "      <td>27.7</td>\n",
       "      <td>0.0</td>\n",
       "      <td>0</td>\n",
       "      <td>26127</td>\n",
       "    </tr>\n",
       "    <tr>\n",
       "      <th>203</th>\n",
       "      <td>23/07/2015</td>\n",
       "      <td>17.02</td>\n",
       "      <td>13.6</td>\n",
       "      <td>20.6</td>\n",
       "      <td>0.0</td>\n",
       "      <td>0</td>\n",
       "      <td>19029</td>\n",
       "    </tr>\n",
       "    <tr>\n",
       "      <th>111</th>\n",
       "      <td>22/04/2015</td>\n",
       "      <td>20.06</td>\n",
       "      <td>18.9</td>\n",
       "      <td>21.6</td>\n",
       "      <td>2.4</td>\n",
       "      <td>0</td>\n",
       "      <td>19113</td>\n",
       "    </tr>\n",
       "    <tr>\n",
       "      <th>289</th>\n",
       "      <td>17/10/2015</td>\n",
       "      <td>21.22</td>\n",
       "      <td>17.3</td>\n",
       "      <td>29.2</td>\n",
       "      <td>0.0</td>\n",
       "      <td>1</td>\n",
       "      <td>32666</td>\n",
       "    </tr>\n",
       "  </tbody>\n",
       "</table>\n",
       "</div>"
      ],
      "text/plain": [
       "           data  temp_media  temp_min  temp_max  chuva  fds  consumo\n",
       "305  02/11/2015       21.82      18.3      27.2   39.6    0    20648\n",
       "217  06/08/2015       21.06      16.3      27.7    0.0    0    26127\n",
       "203  23/07/2015       17.02      13.6      20.6    0.0    0    19029\n",
       "111  22/04/2015       20.06      18.9      21.6    2.4    0    19113\n",
       "289  17/10/2015       21.22      17.3      29.2    0.0    1    32666"
      ]
     },
     "execution_count": 190,
     "metadata": {},
     "output_type": "execute_result"
    }
   ],
   "source": [
    "cerveja.sample(5)"
   ]
  },
  {
   "cell_type": "markdown",
   "id": "92c1e642-8f2c-4f8f-ae67-b83535097b59",
   "metadata": {},
   "source": [
    "**VERIFICAÇÃO DE DADOS NULOS**"
   ]
  },
  {
   "cell_type": "code",
   "execution_count": 191,
   "id": "7aad7567-c08d-4a04-a455-ab460bd8d451",
   "metadata": {},
   "outputs": [
    {
     "data": {
      "text/plain": [
       "0"
      ]
     },
     "execution_count": 191,
     "metadata": {},
     "output_type": "execute_result"
    }
   ],
   "source": [
    "cerveja.isnull().sum().sum()"
   ]
  },
  {
   "cell_type": "markdown",
   "id": "bf608ea9-97ca-4f58-b30d-5764e0bbd32b",
   "metadata": {},
   "source": [
    "**TIPOS DE DADOS**"
   ]
  },
  {
   "cell_type": "code",
   "execution_count": 192,
   "id": "ef793c11-77e1-4d87-9338-5e5d7911e732",
   "metadata": {},
   "outputs": [
    {
     "name": "stdout",
     "output_type": "stream",
     "text": [
      "<class 'pandas.core.frame.DataFrame'>\n",
      "RangeIndex: 365 entries, 0 to 364\n",
      "Data columns (total 7 columns):\n",
      " #   Column      Non-Null Count  Dtype  \n",
      "---  ------      --------------  -----  \n",
      " 0   data        365 non-null    object \n",
      " 1   temp_media  365 non-null    float64\n",
      " 2   temp_min    365 non-null    float64\n",
      " 3   temp_max    365 non-null    float64\n",
      " 4   chuva       365 non-null    float64\n",
      " 5   fds         365 non-null    int64  \n",
      " 6   consumo     365 non-null    int64  \n",
      "dtypes: float64(4), int64(2), object(1)\n",
      "memory usage: 20.1+ KB\n"
     ]
    }
   ],
   "source": [
    "cerveja.info()"
   ]
  },
  {
   "cell_type": "markdown",
   "id": "6edb7226-c6b0-45b3-b583-3c42ee1f9455",
   "metadata": {},
   "source": [
    "**AJUSTANDO A COLUNA DA DATA**"
   ]
  },
  {
   "cell_type": "code",
   "execution_count": 193,
   "id": "de29aaeb-9426-4974-bb10-0eea4c754171",
   "metadata": {},
   "outputs": [],
   "source": [
    "cerveja.data = pd.to_datetime(cerveja.data)\n",
    "cerveja.set_index('data', drop=True, inplace=True)"
   ]
  },
  {
   "cell_type": "markdown",
   "id": "5a4f471c-0e4c-4eb4-ae03-ba8bdee0478b",
   "metadata": {},
   "source": [
    "## Análises das variáveis\n",
    "\n",
    "### Correlação"
   ]
  },
  {
   "cell_type": "code",
   "execution_count": 194,
   "id": "2cca7b2a-4a43-4de6-901f-ff8ffa905437",
   "metadata": {},
   "outputs": [
    {
     "data": {
      "text/plain": [
       "Text(0.5, 1.0, 'Correlação entre os atributos')"
      ]
     },
     "execution_count": 194,
     "metadata": {},
     "output_type": "execute_result"
    },
    {
     "data": {
      "image/png": "[encoded data removed]",
      "text/plain": [
       "<Figure size 936x576 with 2 Axes>"
      ]
     },
     "metadata": {},
     "output_type": "display_data"
    }
   ],
   "source": [
    "corr_graph = corrplot.Corrplot(cerveja.corr())\n",
    "corr_graph.plot(upper='ellipse', fontsize='x-large')\n",
    "fig = plt.gcf() # \"pega a figura atual\"\n",
    "fig.set_size_inches(13, 8)\n",
    "plt.title(\"Correlação entre os atributos\", fontsize=18)"
   ]
  },
  {
   "cell_type": "markdown",
   "id": "8c626e7f-ea54-4e9b-9a79-3f83119b793f",
   "metadata": {},
   "source": [
    "A coloração azul indica a correlação positiva, isto é, se a variável $x_{1}$ cresce a variável $x_{2}$ também cresce, já a coloração vermelha indica a correlação negativa, ou seja, se a variável $x_{1}$ cresce a variável $x_{2}$ decresce. Além disso, é possível interpretar a área da elipse, se é uma reta indica que a correlação é perfeita ou muito próxima de um, já se tem um formato mais circular, indica a baixa correlação entre as variáveis analisadas.\n",
    "\n",
    "* **Colunas com alta correlação postiva:** As colunas de temperatura são altamente correlacionadas, por isso, deve-se utilizar apenas uma das três disponíveis. Assim, escolheu-se a coluna da temperatura média.\n",
    "\n",
    "* **Colunas com alta correlação negativa:** Não foi identificada."
   ]
  },
  {
   "cell_type": "markdown",
   "id": "82ff6cbd-f5d7-44cd-94c6-98f843464cab",
   "metadata": {},
   "source": [
    "## Distribuição das features"
   ]
  },
  {
   "cell_type": "code",
   "execution_count": 195,
   "id": "85d3af91-ac2b-4b23-9f32-69f5473bdb20",
   "metadata": {},
   "outputs": [
    {
     "data": {
      "image/png": "[encoded data removed]",
      "text/plain": [
       "<Figure size 936x1800 with 6 Axes>"
      ]
     },
     "metadata": {
      "needs_background": "light"
     },
     "output_type": "display_data"
    }
   ],
   "source": [
    "cols = [i for i in cerveja.columns]\n",
    "length = len(cols)\n",
    "cs = [\"b\", \"r\", \"g\", \"c\", \"m\", \"k\"]\n",
    "fig = plt.figure(figsize=(13, 25))\n",
    "\n",
    "for i, j, k in itertools.zip_longest(cols, range(length), cs):\n",
    "    plt.subplot(3, 2, j+1)\n",
    "    ax = sns.distplot(cerveja[i], color=k, rug=True)\n",
    "    ax.set_facecolor(\"w\")\n",
    "    plt.axvline(cerveja[i].mean(), linestyle=\"dashed\", label=\"mean\", color=\"k\")\n",
    "    plt.legend(loc=\"best\")\n",
    "    plt.title(i, color=\"navy\")\n",
    "    plt.xlabel(\"\")"
   ]
  },
  {
   "cell_type": "markdown",
   "id": "c48284b6-108d-4bdf-8b3b-10d514661114",
   "metadata": {},
   "source": [
    "## Correlação entre o consumo e a temperatura média"
   ]
  },
  {
   "cell_type": "code",
   "execution_count": 196,
   "id": "cf3443dd-b60f-4656-9394-fe265301dfd5",
   "metadata": {},
   "outputs": [
    {
     "data": {
      "application/vnd.plotly.v1+json": {
       "config": {
        "plotlyServerURL": "https://plot.ly"
       },
       "data": [
        {
         "hovertemplate": "temp_media=%{x}<br>consumo=%{y}<extra></extra>",
         "legendgroup": "",
         "marker": {
          "color": "#636efa",
          "symbol": "circle"
         },
         "mode": "markers",
         "name": "",
         "orientation": "v",
         "showlegend": false,
         "type": "scatter",
         "x": [
          27.3,
          27.02,
          24.82,
          23.98,
          23.82,
          23.78,
          24,
          24.9,
          28.2,
          26.76,
          27.62,
          25.96,
          25.52,
          25.96,
          25.86,
          26.5,
          28.86,
          28.26,
          28.22,
          27.68,
          25.32,
          21.74,
          21.04,
          23.12,
          24.4,
          22.4,
          23.6,
          25.68,
          25,
          22.8,
          21.64,
          24.16,
          22.48,
          23.16,
          22.12,
          20.28,
          21.06,
          21.86,
          22.76,
          24,
          23.92,
          25.38,
          27.66,
          25.54,
          24.32,
          22.9,
          21.6,
          22.76,
          22.22,
          23.92,
          24.72,
          25.2,
          24.44,
          25.4,
          24.3,
          22.24,
          24.1,
          24.64,
          22.4,
          21.26,
          22.16,
          23.16,
          23.68,
          24.42,
          22.6,
          21.92,
          22.2,
          21.36,
          23.12,
          22.88,
          22.26,
          22.34,
          22.88,
          22.08,
          21.92,
          21.92,
          21.24,
          21.78,
          21.64,
          20.88,
          19.7,
          19.88,
          20.98,
          21.56,
          22.98,
          23.32,
          23.28,
          22.14,
          22.5,
          23.14,
          22.52,
          20.92,
          21.02,
          22.36,
          22.82,
          21.36,
          17.38,
          18.68,
          19.4,
          20.46,
          21.74,
          19.92,
          20.88,
          21.7,
          21.94,
          21.26,
          21.42,
          23.36,
          22.5,
          24,
          22.52,
          20.06,
          21.2,
          22.52,
          19.18,
          19.04,
          19.82,
          20.26,
          18.66,
          16.22,
          17.34,
          19.26,
          21.04,
          19.96,
          18.14,
          17.76,
          17.8,
          16.14,
          18.04,
          16.94,
          17.86,
          17.12,
          16.34,
          16.72,
          16.84,
          17.18,
          18.26,
          18.6,
          18.64,
          18.74,
          19.46,
          20.26,
          19.94,
          21.8,
          22.06,
          21.28,
          22.94,
          18.56,
          17.68,
          17.52,
          16.28,
          16.28,
          16.04,
          17.94,
          18.36,
          18.32,
          19.66,
          20.62,
          20.86,
          20.32,
          20.54,
          22.72,
          18.8,
          21.1,
          22.76,
          16.02,
          14.82,
          19.8,
          19.88,
          14.66,
          15.82,
          17.32,
          18.54,
          19.02,
          14.54,
          14.72,
          15.26,
          15.34,
          15.48,
          17.2,
          19.36,
          17.78,
          17.2,
          17.52,
          14.94,
          12.9,
          15.78,
          16.8,
          17.02,
          17.54,
          19.24,
          17.46,
          20.32,
          22.06,
          23.3,
          20.18,
          19.88,
          19.14,
          20.2,
          19.98,
          20.56,
          16.72,
          14.52,
          17.02,
          18.46,
          15.9,
          16.82,
          16.6,
          16.46,
          16.2,
          16.76,
          19.24,
          19.78,
          20.1,
          21.16,
          21.04,
          20.96,
          21.06,
          22.08,
          21.16,
          19.62,
          21.2,
          19.6,
          20.12,
          20.42,
          20.86,
          21.44,
          20.56,
          21.58,
          21.3,
          20.74,
          16.2,
          16.84,
          18.08,
          20.22,
          16.98,
          16.98,
          18.92,
          16.1,
          16.28,
          18.46,
          22.52,
          24.54,
          21.44,
          16.1,
          19.3,
          16.66,
          16.12,
          16.48,
          18.72,
          17.08,
          18.82,
          18.92,
          16.88,
          14,
          14.18,
          16.46,
          21.18,
          25.24,
          27.26,
          28.06,
          28,
          23.6,
          24.72,
          25.7,
          26.14,
          28.3,
          23.24,
          20.58,
          22.3,
          21.22,
          21.8,
          21.52,
          20.96,
          24.74,
          20.28,
          18.6,
          17.36,
          18.26,
          24.5,
          26.56,
          24.52,
          23.06,
          22.48,
          22.76,
          21.4,
          23.62,
          28.12,
          26.24,
          21.22,
          16.76,
          19.86,
          26.3,
          24.62,
          19.9,
          20.5,
          17.94,
          17.64,
          20.86,
          22,
          20.42,
          20.56,
          23.86,
          23.18,
          20.22,
          21.82,
          21.86,
          21.52,
          21.8,
          19.76,
          18.3,
          20.24,
          22.98,
          23.72,
          26.2,
          23.78,
          22.78,
          25.06,
          23.06,
          21.16,
          21.76,
          25.5,
          26.16,
          23.28,
          19.44,
          22.26,
          20.8,
          21.36,
          21.26,
          22.28,
          22.28,
          23.7,
          22.38,
          19.1,
          20.1,
          22.1,
          22.44,
          22.76,
          24.8,
          23.12,
          20.04,
          21.7,
          23.96,
          24,
          24.04,
          23.92,
          24.54,
          26.28,
          25.66,
          22.04,
          23.32,
          26.42,
          23.74,
          22.84,
          23.12,
          24.6,
          27.46,
          24.72,
          23.58,
          23.34,
          24,
          22.64,
          21.68,
          21.38,
          24.76
         ],
         "xaxis": "x",
         "y": [
          25461,
          28972,
          30814,
          29799,
          28900,
          28218,
          29732,
          28397,
          24886,
          37937,
          36254,
          25743,
          26990,
          31825,
          25724,
          29938,
          37690,
          30524,
          29265,
          35127,
          29130,
          25795,
          21784,
          28348,
          31088,
          21520,
          29972,
          22603,
          22696,
          26845,
          27030,
          32057,
          24097,
          31655,
          24738,
          19950,
          22821,
          28893,
          29926,
          24062,
          21137,
          26805,
          26389,
          24219,
          30231,
          24968,
          25343,
          17399,
          21392,
          22922,
          24567,
          30943,
          30825,
          25692,
          26959,
          25366,
          22784,
          26241,
          26467,
          27475,
          28749,
          24146,
          22988,
          30300,
          22654,
          29090,
          24619,
          20016,
          23042,
          22933,
          22409,
          21281,
          28844,
          32872,
          20903,
          26275,
          20167,
          23628,
          24213,
          28631,
          25855,
          21406,
          21617,
          22401,
          27989,
          24974,
          29760,
          26116,
          25850,
          24925,
          21979,
          22116,
          24867,
          33450,
          32713,
          22356,
          21004,
          23362,
          20298,
          24862,
          30505,
          25070,
          22620,
          22001,
          23469,
          21735,
          21593,
          33822,
          28028,
          24304,
          31108,
          19113,
          23198,
          24388,
          27420,
          30479,
          21838,
          20812,
          19761,
          20452,
          17939,
          25272,
          28049,
          25317,
          21826,
          20680,
          19143,
          18146,
          25489,
          23537,
          16956,
          19052,
          17287,
          20300,
          20538,
          23702,
          28411,
          21073,
          24215,
          19525,
          20786,
          20429,
          27250,
          31387,
          26075,
          22162,
          24258,
          24683,
          21245,
          25937,
          26081,
          16228,
          20106,
          21055,
          22772,
          25142,
          31129,
          30498,
          26150,
          21327,
          22008,
          24615,
          22375,
          29607,
          32983,
          19119,
          21029,
          23898,
          24534,
          16748,
          23055,
          28857,
          23022,
          27146,
          17241,
          19463,
          21860,
          24227,
          27594,
          24863,
          20161,
          20824,
          19727,
          14940,
          24632,
          21294,
          18448,
          21237,
          19849,
          20740,
          25698,
          26691,
          33298,
          25640,
          23937,
          28742,
          21748,
          22032,
          24827,
          32473,
          20620,
          21825,
          14343,
          19029,
          21104,
          20738,
          25233,
          18975,
          19640,
          22522,
          24227,
          24726,
          32467,
          31663,
          25867,
          27724,
          22039,
          26127,
          26580,
          31310,
          33517,
          23181,
          24183,
          24594,
          22610,
          25479,
          29621,
          26272,
          22541,
          23070,
          26021,
          17655,
          23243,
          30177,
          27518,
          23210,
          21092,
          23357,
          17888,
          22217,
          31681,
          31833,
          28441,
          22389,
          20681,
          24222,
          19345,
          21827,
          23566,
          20227,
          17075,
          16977,
          21525,
          21454,
          21814,
          21252,
          20464,
          30775,
          25343,
          33930,
          26311,
          31836,
          34695,
          29829,
          26362,
          32589,
          30345,
          29411,
          29637,
          32184,
          17731,
          24114,
          28034,
          22664,
          27488,
          24876,
          24862,
          24679,
          22304,
          30329,
          33182,
          23849,
          33330,
          34496,
          26249,
          26523,
          26793,
          35861,
          27387,
          32666,
          22199,
          24000,
          27871,
          31139,
          23065,
          26594,
          27657,
          26594,
          28084,
          27582,
          24862,
          22634,
          31649,
          35781,
          24429,
          20648,
          22741,
          21479,
          23134,
          20575,
          24330,
          28610,
          28456,
          27964,
          29569,
          29267,
          28647,
          26836,
          29386,
          24609,
          26964,
          23614,
          22960,
          20332,
          30392,
          31933,
          21662,
          21689,
          25119,
          25285,
          28979,
          34382,
          30617,
          20238,
          24529,
          30471,
          28405,
          29513,
          32451,
          32780,
          23375,
          27713,
          27137,
          22933,
          30740,
          29579,
          29188,
          28131,
          28617,
          21062,
          24337,
          27042,
          32536,
          30127,
          24834,
          26828,
          26468,
          31572,
          26308,
          21955,
          32307,
          26095,
          22309,
          20467,
          22446
         ],
         "yaxis": "y"
        },
        {
         "hovertemplate": "<b>OLS trendline</b><br>consumo = 794.883 * temp_media + 8528.91<br>R<sup>2</sup>=0.330182<br><br>temp_media=%{x}<br>consumo=%{y} <b>(trend)</b><extra></extra>",
         "legendgroup": "",
         "marker": {
          "color": "#636efa",
          "symbol": "circle"
         },
         "mode": "lines",
         "name": "",
         "showlegend": false,
         "type": "scatter",
         "x": [
          12.9,
          14,
          14.18,
          14.52,
          14.54,
          14.66,
          14.72,
          14.82,
          14.94,
          15.26,
          15.34,
          15.48,
          15.78,
          15.82,
          15.9,
          16.02,
          16.04,
          16.1,
          16.1,
          16.12,
          16.14,
          16.2,
          16.2,
          16.22,
          16.28,
          16.28,
          16.28,
          16.34,
          16.46,
          16.46,
          16.48,
          16.6,
          16.66,
          16.72,
          16.72,
          16.76,
          16.76,
          16.8,
          16.82,
          16.84,
          16.84,
          16.88,
          16.94,
          16.98,
          16.98,
          17.02,
          17.02,
          17.08,
          17.12,
          17.18,
          17.2,
          17.2,
          17.32,
          17.34,
          17.36,
          17.38,
          17.46,
          17.52,
          17.52,
          17.54,
          17.64,
          17.68,
          17.76,
          17.78,
          17.8,
          17.86,
          17.94,
          17.94,
          18.04,
          18.08,
          18.14,
          18.26,
          18.26,
          18.3,
          18.32,
          18.36,
          18.46,
          18.46,
          18.54,
          18.56,
          18.6,
          18.6,
          18.64,
          18.66,
          18.68,
          18.72,
          18.74,
          18.8,
          18.82,
          18.92,
          18.92,
          19.02,
          19.04,
          19.1,
          19.14,
          19.18,
          19.24,
          19.24,
          19.26,
          19.3,
          19.36,
          19.4,
          19.44,
          19.46,
          19.6,
          19.62,
          19.66,
          19.7,
          19.76,
          19.78,
          19.8,
          19.82,
          19.86,
          19.88,
          19.88,
          19.88,
          19.9,
          19.92,
          19.94,
          19.96,
          19.98,
          20.04,
          20.06,
          20.1,
          20.1,
          20.12,
          20.18,
          20.2,
          20.22,
          20.22,
          20.24,
          20.26,
          20.26,
          20.28,
          20.28,
          20.32,
          20.32,
          20.42,
          20.42,
          20.46,
          20.5,
          20.54,
          20.56,
          20.56,
          20.56,
          20.58,
          20.62,
          20.74,
          20.8,
          20.86,
          20.86,
          20.86,
          20.88,
          20.88,
          20.92,
          20.96,
          20.96,
          20.98,
          21.02,
          21.04,
          21.04,
          21.04,
          21.06,
          21.06,
          21.1,
          21.16,
          21.16,
          21.16,
          21.18,
          21.2,
          21.2,
          21.22,
          21.22,
          21.24,
          21.26,
          21.26,
          21.26,
          21.28,
          21.3,
          21.36,
          21.36,
          21.36,
          21.38,
          21.4,
          21.42,
          21.44,
          21.44,
          21.52,
          21.52,
          21.56,
          21.58,
          21.6,
          21.64,
          21.64,
          21.68,
          21.7,
          21.7,
          21.74,
          21.74,
          21.76,
          21.78,
          21.8,
          21.8,
          21.8,
          21.82,
          21.86,
          21.86,
          21.92,
          21.92,
          21.92,
          21.94,
          22,
          22.04,
          22.06,
          22.06,
          22.08,
          22.08,
          22.1,
          22.12,
          22.14,
          22.16,
          22.2,
          22.22,
          22.24,
          22.26,
          22.26,
          22.28,
          22.28,
          22.3,
          22.34,
          22.36,
          22.38,
          22.4,
          22.4,
          22.44,
          22.48,
          22.48,
          22.5,
          22.5,
          22.52,
          22.52,
          22.52,
          22.52,
          22.6,
          22.64,
          22.72,
          22.76,
          22.76,
          22.76,
          22.76,
          22.76,
          22.78,
          22.8,
          22.82,
          22.84,
          22.88,
          22.88,
          22.9,
          22.94,
          22.98,
          22.98,
          23.06,
          23.06,
          23.12,
          23.12,
          23.12,
          23.12,
          23.14,
          23.16,
          23.16,
          23.18,
          23.24,
          23.28,
          23.28,
          23.3,
          23.32,
          23.32,
          23.34,
          23.36,
          23.58,
          23.6,
          23.6,
          23.62,
          23.68,
          23.7,
          23.72,
          23.74,
          23.78,
          23.78,
          23.82,
          23.86,
          23.92,
          23.92,
          23.92,
          23.96,
          23.98,
          24,
          24,
          24,
          24,
          24,
          24.04,
          24.1,
          24.16,
          24.3,
          24.32,
          24.4,
          24.42,
          24.44,
          24.5,
          24.52,
          24.54,
          24.54,
          24.6,
          24.62,
          24.64,
          24.72,
          24.72,
          24.72,
          24.74,
          24.76,
          24.8,
          24.82,
          24.9,
          25,
          25.06,
          25.2,
          25.24,
          25.32,
          25.38,
          25.4,
          25.5,
          25.52,
          25.54,
          25.66,
          25.68,
          25.7,
          25.86,
          25.96,
          25.96,
          26.14,
          26.16,
          26.2,
          26.24,
          26.28,
          26.3,
          26.42,
          26.5,
          26.56,
          26.76,
          27.02,
          27.26,
          27.3,
          27.46,
          27.62,
          27.66,
          27.68,
          28,
          28.06,
          28.12,
          28.2,
          28.22,
          28.26,
          28.3,
          28.86
         ],
         "xaxis": "x",
         "y": [
          18782.892011341042,
          19657.262802045774,
          19800.34165870655,
          20070.60172128801,
          20086.499372028098,
          20181.885276468616,
          20229.578228688875,
          20309.066482389302,
          20404.45238682982,
          20658.8147986712,
          20722.405401631542,
          20833.688956812148,
          21072.15371791344,
          21103.949019393607,
          21167.539622353954,
          21262.925526794468,
          21278.823177534556,
          21326.51612975482,
          21326.51612975482,
          21342.413780494902,
          21358.311431234986,
          21406.004383455245,
          21406.004383455245,
          21421.90203419533,
          21469.594986415592,
          21469.594986415592,
          21469.594986415592,
          21517.287938635847,
          21612.673843076365,
          21612.673843076365,
          21628.571493816453,
          21723.95739825697,
          21771.650350477226,
          21819.34330269748,
          21819.34330269748,
          21851.138604177657,
          21851.138604177657,
          21882.93390565783,
          21898.831556397912,
          21914.729207138,
          21914.729207138,
          21946.52450861817,
          21994.21746083843,
          22026.012762318605,
          22026.012762318605,
          22057.808063798773,
          22057.808063798773,
          22105.501016019032,
          22137.296317499204,
          22184.989269719466,
          22200.88692045955,
          22200.88692045955,
          22296.272824900065,
          22312.170475640152,
          22328.06812638024,
          22343.965777120324,
          22407.55638008067,
          22455.249332300926,
          22455.249332300926,
          22471.146983041013,
          22550.635236741444,
          22582.430538221615,
          22646.021141181962,
          22661.91879192205,
          22677.816442662133,
          22725.509394882392,
          22789.099997842735,
          22789.099997842735,
          22868.588251543166,
          22900.383553023337,
          22948.076505243596,
          23043.462409684114,
          23043.462409684114,
          23075.257711164286,
          23091.15536190437,
          23122.950663384545,
          23202.438917084975,
          23202.438917084975,
          23266.02952004532,
          23281.927170785406,
          23313.722472265577,
          23313.722472265577,
          23345.51777374575,
          23361.415424485836,
          23377.31307522592,
          23409.10837670609,
          23425.00602744618,
          23472.69897966644,
          23488.596630406522,
          23568.084884106956,
          23568.084884106956,
          23647.573137807383,
          23663.47078854747,
          23711.16374076773,
          23742.9590422479,
          23774.754343728073,
          23822.447295948332,
          23822.447295948332,
          23838.34494668842,
          23870.14024816859,
          23917.83320038885,
          23949.628501869018,
          23981.423803349193,
          23997.32145408928,
          24108.605009269882,
          24124.502660009966,
          24156.29796149014,
          24188.09326297031,
          24235.786215190572,
          24251.68386593066,
          24267.581516670743,
          24283.479167410827,
          24315.274468891002,
          24331.172119631086,
          24331.172119631086,
          24331.172119631086,
          24347.06977037117,
          24362.967421111258,
          24378.865071851345,
          24394.762722591433,
          24410.660373331517,
          24458.353325551776,
          24474.250976291863,
          24506.046277772035,
          24506.046277772035,
          24521.94392851212,
          24569.636880732378,
          24585.534531472462,
          24601.43218221255,
          24601.43218221255,
          24617.329832952637,
          24633.227483692724,
          24633.227483692724,
          24649.125134432812,
          24649.125134432812,
          24680.92043591298,
          24680.92043591298,
          24760.40868961341,
          24760.40868961341,
          24792.203991093586,
          24823.999292573753,
          24855.79459405393,
          24871.692244794012,
          24871.692244794012,
          24871.692244794012,
          24887.589895534096,
          24919.385197014275,
          25014.77110145479,
          25062.46405367505,
          25110.157005895304,
          25110.157005895304,
          25110.157005895304,
          25126.05465663539,
          25126.05465663539,
          25157.849958115567,
          25189.645259595738,
          25189.645259595738,
          25205.542910335822,
          25237.338211815993,
          25253.23586255608,
          25253.23586255608,
          25253.23586255608,
          25269.133513296165,
          25269.133513296165,
          25300.92881477634,
          25348.6217669966,
          25348.6217669966,
          25348.6217669966,
          25364.519417736683,
          25380.41706847677,
          25380.41706847677,
          25396.314719216854,
          25396.314719216854,
          25412.212369956942,
          25428.11002069703,
          25428.11002069703,
          25428.11002069703,
          25444.007671437113,
          25459.9053221772,
          25507.598274397456,
          25507.598274397456,
          25507.598274397456,
          25523.495925137544,
          25539.393575877628,
          25555.29122661772,
          25571.188877357803,
          25571.188877357803,
          25634.779480318146,
          25634.779480318146,
          25666.574781798317,
          25682.472432538405,
          25698.370083278493,
          25730.165384758664,
          25730.165384758664,
          25761.960686238835,
          25777.85833697892,
          25777.85833697892,
          25809.65363845909,
          25809.65363845909,
          25825.551289199182,
          25841.448939939266,
          25857.346590679354,
          25857.346590679354,
          25857.346590679354,
          25873.244241419437,
          25905.03954289961,
          25905.03954289961,
          25952.73249511987,
          25952.73249511987,
          25952.73249511987,
          25968.630145859956,
          26016.323098080215,
          26048.118399560386,
          26064.01605030047,
          26064.01605030047,
          26079.913701040557,
          26079.913701040557,
          26095.811351780645,
          26111.70900252073,
          26127.606653260817,
          26143.5043040009,
          26175.299605481072,
          26191.19725622116,
          26207.094906961243,
          26222.992557701335,
          26222.992557701335,
          26238.89020844142,
          26238.89020844142,
          26254.787859181506,
          26286.583160661678,
          26302.48081140176,
          26318.37846214185,
          26334.276112881933,
          26334.276112881933,
          26366.071414362108,
          26397.86671584228,
          26397.86671584228,
          26413.764366582367,
          26413.764366582367,
          26429.66201732245,
          26429.66201732245,
          26429.66201732245,
          26429.66201732245,
          26493.252620282798,
          26525.04792176297,
          26588.638524723312,
          26620.433826203487,
          26620.433826203487,
          26620.433826203487,
          26620.433826203487,
          26620.433826203487,
          26636.33147694357,
          26652.22912768366,
          26668.126778423743,
          26684.02442916383,
          26715.819730644,
          26715.819730644,
          26731.717381384085,
          26763.51268286426,
          26795.307984344432,
          26795.307984344432,
          26858.898587304775,
          26858.898587304775,
          26906.591539525034,
          26906.591539525034,
          26906.591539525034,
          26906.591539525034,
          26922.48919026512,
          26938.386841005205,
          26938.386841005205,
          26954.284491745293,
          27001.97744396555,
          27033.772745445724,
          27033.772745445724,
          27049.67039618581,
          27065.568046925895,
          27065.568046925895,
          27081.465697665983,
          27097.363348406067,
          27272.237506547015,
          27288.135157287103,
          27288.135157287103,
          27304.032808027187,
          27351.725760247446,
          27367.62341098753,
          27383.521061727617,
          27399.4187124677,
          27431.214013947876,
          27431.214013947876,
          27463.009315428048,
          27494.80461690822,
          27542.497569128478,
          27542.497569128478,
          27542.497569128478,
          27574.29287060865,
          27590.190521348737,
          27606.08817208882,
          27606.08817208882,
          27606.08817208882,
          27606.08817208882,
          27606.08817208882,
          27637.883473568996,
          27685.576425789255,
          27733.26937800951,
          27844.552933190116,
          27860.4505839302,
          27924.041186890543,
          27939.93883763063,
          27955.836488370718,
          28003.529440590974,
          28019.42709133106,
          28035.324742071145,
          28035.324742071145,
          28083.017694291408,
          28098.91534503149,
          28114.81299577158,
          28178.403598731922,
          28178.403598731922,
          28178.403598731922,
          28194.301249472006,
          28210.198900212097,
          28241.99420169227,
          28257.891852432353,
          28321.482455392696,
          28400.970709093126,
          28448.663661313385,
          28559.947216493987,
          28591.74251797416,
          28655.333120934505,
          28703.026073154764,
          28718.923723894848,
          28798.41197759528,
          28814.309628335366,
          28830.20727907545,
          28925.593183515968,
          28941.490834256056,
          28957.38848499614,
          29084.56969091683,
          29164.05794461726,
          29164.05794461726,
          29307.136801278037,
          29323.03445201812,
          29354.829753498292,
          29386.625054978464,
          29418.42035645864,
          29434.318007198726,
          29529.70391163924,
          29593.294514599584,
          29640.987466819843,
          29799.963974220704,
          30006.633433841824,
          30197.405242722856,
          30229.200544203028,
          30356.381750123717,
          30483.562956044407,
          30515.35825752458,
          30531.255908264666,
          30785.61832010604,
          30833.3112723263,
          30881.00422454656,
          30944.594827506902,
          30960.49247824699,
          30992.28777972716,
          31024.083081207333,
          31469.217301929744
         ],
         "yaxis": "y"
        }
       ],
       "layout": {
        "autosize": true,
        "font": {
         "color": "navy",
         "family": "New latin, monospace",
         "size": 14
        },
        "legend": {
         "tracegroupgap": 0,
         "x": 1.5,
         "y": 1.5
        },
        "margin": {
         "t": 60
        },
        "template": {
         "data": {
          "bar": [
           {
            "error_x": {
             "color": "#2a3f5f"
            },
            "error_y": {
             "color": "#2a3f5f"
            },
            "marker": {
             "line": {
              "color": "#E5ECF6",
              "width": 0.5
             },
             "pattern": {
              "fillmode": "overlay",
              "size": 10,
              "solidity": 0.2
             }
            },
            "type": "bar"
           }
          ],
          "barpolar": [
           {
            "marker": {
             "line": {
              "color": "#E5ECF6",
              "width": 0.5
             },
             "pattern": {
              "fillmode": "overlay",
              "size": 10,
              "solidity": 0.2
             }
            },
            "type": "barpolar"
           }
          ],
          "carpet": [
           {
            "aaxis": {
             "endlinecolor": "#2a3f5f",
             "gridcolor": "white",
             "linecolor": "white",
             "minorgridcolor": "white",
             "startlinecolor": "#2a3f5f"
            },
            "baxis": {
             "endlinecolor": "#2a3f5f",
             "gridcolor": "white",
             "linecolor": "white",
             "minorgridcolor": "white",
             "startlinecolor": "#2a3f5f"
            },
            "type": "carpet"
           }
          ],
          "choropleth": [
           {
            "colorbar": {
             "outlinewidth": 0,
             "ticks": ""
            },
            "type": "choropleth"
           }
          ],
          "contour": [
           {
            "colorbar": {
             "outlinewidth": 0,
             "ticks": ""
            },
            "colorscale": [
             [
              0,
              "#0d0887"
             ],
             [
              0.1111111111111111,
              "#46039f"
             ],
             [
              0.2222222222222222,
              "#7201a8"
             ],
             [
              0.3333333333333333,
              "#9c179e"
             ],
             [
              0.4444444444444444,
              "#bd3786"
             ],
             [
              0.5555555555555556,
              "#d8576b"
             ],
             [
              0.6666666666666666,
              "#ed7953"
             ],
             [
              0.7777777777777778,
              "#fb9f3a"
             ],
             [
              0.8888888888888888,
              "#fdca26"
             ],
             [
              1,
              "#f0f921"
             ]
            ],
            "type": "contour"
           }
          ],
          "contourcarpet": [
           {
            "colorbar": {
             "outlinewidth": 0,
             "ticks": ""
            },
            "type": "contourcarpet"
           }
          ],
          "heatmap": [
           {
            "colorbar": {
             "outlinewidth": 0,
             "ticks": ""
            },
            "colorscale": [
             [
              0,
              "#0d0887"
             ],
             [
              0.1111111111111111,
              "#46039f"
             ],
             [
              0.2222222222222222,
              "#7201a8"
             ],
             [
              0.3333333333333333,
              "#9c179e"
             ],
             [
              0.4444444444444444,
              "#bd3786"
             ],
             [
              0.5555555555555556,
              "#d8576b"
             ],
             [
              0.6666666666666666,
              "#ed7953"
             ],
             [
              0.7777777777777778,
              "#fb9f3a"
             ],
             [
              0.8888888888888888,
              "#fdca26"
             ],
             [
              1,
              "#f0f921"
             ]
            ],
            "type": "heatmap"
           }
          ],
          "heatmapgl": [
           {
            "colorbar": {
             "outlinewidth": 0,
             "ticks": ""
            },
            "colorscale": [
             [
              0,
              "#0d0887"
             ],
             [
              0.1111111111111111,
              "#46039f"
             ],
             [
              0.2222222222222222,
              "#7201a8"
             ],
             [
              0.3333333333333333,
              "#9c179e"
             ],
             [
              0.4444444444444444,
              "#bd3786"
             ],
             [
              0.5555555555555556,
              "#d8576b"
             ],
             [
              0.6666666666666666,
              "#ed7953"
             ],
             [
              0.7777777777777778,
              "#fb9f3a"
             ],
             [
              0.8888888888888888,
              "#fdca26"
             ],
             [
              1,
              "#f0f921"
             ]
            ],
            "type": "heatmapgl"
           }
          ],
          "histogram": [
           {
            "marker": {
             "pattern": {
              "fillmode": "overlay",
              "size": 10,
              "solidity": 0.2
             }
            },
            "type": "histogram"
           }
          ],
          "histogram2d": [
           {
            "colorbar": {
             "outlinewidth": 0,
             "ticks": ""
            },
            "colorscale": [
             [
              0,
              "#0d0887"
             ],
             [
              0.1111111111111111,
              "#46039f"
             ],
             [
              0.2222222222222222,
              "#7201a8"
             ],
             [
              0.3333333333333333,
              "#9c179e"
             ],
             [
              0.4444444444444444,
              "#bd3786"
             ],
             [
              0.5555555555555556,
              "#d8576b"
             ],
             [
              0.6666666666666666,
              "#ed7953"
             ],
             [
              0.7777777777777778,
              "#fb9f3a"
             ],
             [
              0.8888888888888888,
              "#fdca26"
             ],
             [
              1,
              "#f0f921"
             ]
            ],
            "type": "histogram2d"
           }
          ],
          "histogram2dcontour": [
           {
            "colorbar": {
             "outlinewidth": 0,
             "ticks": ""
            },
            "colorscale": [
             [
              0,
              "#0d0887"
             ],
             [
              0.1111111111111111,
              "#46039f"
             ],
             [
              0.2222222222222222,
              "#7201a8"
             ],
             [
              0.3333333333333333,
              "#9c179e"
             ],
             [
              0.4444444444444444,
              "#bd3786"
             ],
             [
              0.5555555555555556,
              "#d8576b"
             ],
             [
              0.6666666666666666,
              "#ed7953"
             ],
             [
              0.7777777777777778,
              "#fb9f3a"
             ],
             [
              0.8888888888888888,
              "#fdca26"
             ],
             [
              1,
              "#f0f921"
             ]
            ],
            "type": "histogram2dcontour"
           }
          ],
          "mesh3d": [
           {
            "colorbar": {
             "outlinewidth": 0,
             "ticks": ""
            },
            "type": "mesh3d"
           }
          ],
          "parcoords": [
           {
            "line": {
             "colorbar": {
              "outlinewidth": 0,
              "ticks": ""
             }
            },
            "type": "parcoords"
           }
          ],
          "pie": [
           {
            "automargin": true,
            "type": "pie"
           }
          ],
          "scatter": [
           {
            "marker": {
             "colorbar": {
              "outlinewidth": 0,
              "ticks": ""
             }
            },
            "type": "scatter"
           }
          ],
          "scatter3d": [
           {
            "line": {
             "colorbar": {
              "outlinewidth": 0,
              "ticks": ""
             }
            },
            "marker": {
             "colorbar": {
              "outlinewidth": 0,
              "ticks": ""
             }
            },
            "type": "scatter3d"
           }
          ],
          "scattercarpet": [
           {
            "marker": {
             "colorbar": {
              "outlinewidth": 0,
              "ticks": ""
             }
            },
            "type": "scattercarpet"
           }
          ],
          "scattergeo": [
           {
            "marker": {
             "colorbar": {
              "outlinewidth": 0,
              "ticks": ""
             }
            },
            "type": "scattergeo"
           }
          ],
          "scattergl": [
           {
            "marker": {
             "colorbar": {
              "outlinewidth": 0,
              "ticks": ""
             }
            },
            "type": "scattergl"
           }
          ],
          "scattermapbox": [
           {
            "marker": {
             "colorbar": {
              "outlinewidth": 0,
              "ticks": ""
             }
            },
            "type": "scattermapbox"
           }
          ],
          "scatterpolar": [
           {
            "marker": {
             "colorbar": {
              "outlinewidth": 0,
              "ticks": ""
             }
            },
            "type": "scatterpolar"
           }
          ],
          "scatterpolargl": [
           {
            "marker": {
             "colorbar": {
              "outlinewidth": 0,
              "ticks": ""
             }
            },
            "type": "scatterpolargl"
           }
          ],
          "scatterternary": [
           {
            "marker": {
             "colorbar": {
              "outlinewidth": 0,
              "ticks": ""
             }
            },
            "type": "scatterternary"
           }
          ],
          "surface": [
           {
            "colorbar": {
             "outlinewidth": 0,
             "ticks": ""
            },
            "colorscale": [
             [
              0,
              "#0d0887"
             ],
             [
              0.1111111111111111,
              "#46039f"
             ],
             [
              0.2222222222222222,
              "#7201a8"
             ],
             [
              0.3333333333333333,
              "#9c179e"
             ],
             [
              0.4444444444444444,
              "#bd3786"
             ],
             [
              0.5555555555555556,
              "#d8576b"
             ],
             [
              0.6666666666666666,
              "#ed7953"
             ],
             [
              0.7777777777777778,
              "#fb9f3a"
             ],
             [
              0.8888888888888888,
              "#fdca26"
             ],
             [
              1,
              "#f0f921"
             ]
            ],
            "type": "surface"
           }
          ],
          "table": [
           {
            "cells": {
             "fill": {
              "color": "#EBF0F8"
             },
             "line": {
              "color": "white"
             }
            },
            "header": {
             "fill": {
              "color": "#C8D4E3"
             },
             "line": {
              "color": "white"
             }
            },
            "type": "table"
           }
          ]
         },
         "layout": {
          "annotationdefaults": {
           "arrowcolor": "#2a3f5f",
           "arrowhead": 0,
           "arrowwidth": 1
          },
          "autotypenumbers": "strict",
          "coloraxis": {
           "colorbar": {
            "outlinewidth": 0,
            "ticks": ""
           }
          },
          "colorscale": {
           "diverging": [
            [
             0,
             "#8e0152"
            ],
            [
             0.1,
             "#c51b7d"
            ],
            [
             0.2,
             "#de77ae"
            ],
            [
             0.3,
             "#f1b6da"
            ],
            [
             0.4,
             "#fde0ef"
            ],
            [
             0.5,
             "#f7f7f7"
            ],
            [
             0.6,
             "#e6f5d0"
            ],
            [
             0.7,
             "#b8e186"
            ],
            [
             0.8,
             "#7fbc41"
            ],
            [
             0.9,
             "#4d9221"
            ],
            [
             1,
             "#276419"
            ]
           ],
           "sequential": [
            [
             0,
             "#0d0887"
            ],
            [
             0.1111111111111111,
             "#46039f"
            ],
            [
             0.2222222222222222,
             "#7201a8"
            ],
            [
             0.3333333333333333,
             "#9c179e"
            ],
            [
             0.4444444444444444,
             "#bd3786"
            ],
            [
             0.5555555555555556,
             "#d8576b"
            ],
            [
             0.6666666666666666,
             "#ed7953"
            ],
            [
             0.7777777777777778,
             "#fb9f3a"
            ],
            [
             0.8888888888888888,
             "#fdca26"
            ],
            [
             1,
             "#f0f921"
            ]
           ],
           "sequentialminus": [
            [
             0,
             "#0d0887"
            ],
            [
             0.1111111111111111,
             "#46039f"
            ],
            [
             0.2222222222222222,
             "#7201a8"
            ],
            [
             0.3333333333333333,
             "#9c179e"
            ],
            [
             0.4444444444444444,
             "#bd3786"
            ],
            [
             0.5555555555555556,
             "#d8576b"
            ],
            [
             0.6666666666666666,
             "#ed7953"
            ],
            [
             0.7777777777777778,
             "#fb9f3a"
            ],
            [
             0.8888888888888888,
             "#fdca26"
            ],
            [
             1,
             "#f0f921"
            ]
           ]
          },
          "colorway": [
           "#636efa",
           "#EF553B",
           "#00cc96",
           "#ab63fa",
           "#FFA15A",
           "#19d3f3",
           "#FF6692",
           "#B6E880",
           "#FF97FF",
           "#FECB52"
          ],
          "font": {
           "color": "#2a3f5f"
          },
          "geo": {
           "bgcolor": "white",
           "lakecolor": "white",
           "landcolor": "#E5ECF6",
           "showlakes": true,
           "showland": true,
           "subunitcolor": "white"
          },
          "hoverlabel": {
           "align": "left"
          },
          "hovermode": "closest",
          "mapbox": {
           "style": "light"
          },
          "paper_bgcolor": "white",
          "plot_bgcolor": "#E5ECF6",
          "polar": {
           "angularaxis": {
            "gridcolor": "white",
            "linecolor": "white",
            "ticks": ""
           },
           "bgcolor": "#E5ECF6",
           "radialaxis": {
            "gridcolor": "white",
            "linecolor": "white",
            "ticks": ""
           }
          },
          "scene": {
           "xaxis": {
            "backgroundcolor": "#E5ECF6",
            "gridcolor": "white",
            "gridwidth": 2,
            "linecolor": "white",
            "showbackground": true,
            "ticks": "",
            "zerolinecolor": "white"
           },
           "yaxis": {
            "backgroundcolor": "#E5ECF6",
            "gridcolor": "white",
            "gridwidth": 2,
            "linecolor": "white",
            "showbackground": true,
            "ticks": "",
            "zerolinecolor": "white"
           },
           "zaxis": {
            "backgroundcolor": "#E5ECF6",
            "gridcolor": "white",
            "gridwidth": 2,
            "linecolor": "white",
            "showbackground": true,
            "ticks": "",
            "zerolinecolor": "white"
           }
          },
          "shapedefaults": {
           "line": {
            "color": "#2a3f5f"
           }
          },
          "ternary": {
           "aaxis": {
            "gridcolor": "white",
            "linecolor": "white",
            "ticks": ""
           },
           "baxis": {
            "gridcolor": "white",
            "linecolor": "white",
            "ticks": ""
           },
           "bgcolor": "#E5ECF6",
           "caxis": {
            "gridcolor": "white",
            "linecolor": "white",
            "ticks": ""
           }
          },
          "title": {
           "x": 0.05
          },
          "xaxis": {
           "automargin": true,
           "gridcolor": "white",
           "linecolor": "white",
           "ticks": "",
           "title": {
            "standoff": 15
           },
           "zerolinecolor": "white",
           "zerolinewidth": 2
          },
          "yaxis": {
           "automargin": true,
           "gridcolor": "white",
           "linecolor": "white",
           "ticks": "",
           "title": {
            "standoff": 15
           },
           "zerolinecolor": "white",
           "zerolinewidth": 2
          }
         }
        },
        "title": {
         "text": "Correlação entre o consumo pela temperatura"
        },
        "xaxis": {
         "anchor": "y",
         "autorange": true,
         "domain": [
          0,
          1
         ],
         "range": [
          11.94219512195122,
          29.81780487804878
         ],
         "title": {
          "text": " Tempo (dias)"
         },
         "type": "linear"
        },
        "yaxis": {
         "anchor": "x",
         "autorange": true,
         "domain": [
          0,
          1
         ],
         "range": [
          12516.167979002625,
          39763.832020997375
         ],
         "title": {
          "text": "Consumo"
         },
         "type": "linear"
        }
       }
      },
      "image/png": "[encoded data removed]",
      "text/html": [
       "<div>                            <div id=\"c10b5304-949b-4bcb-9f12-8b81c73e52d4\" class=\"plotly-graph-div\" style=\"height:525px; width:100%;\"></div>            <script type=\"text/javascript\">                require([\"plotly\"], function(Plotly) {                    window.PLOTLYENV=window.PLOTLYENV || {};                                    if (document.getElementById(\"c10b5304-949b-4bcb-9f12-8b81c73e52d4\")) {                    Plotly.newPlot(                        \"c10b5304-949b-4bcb-9f12-8b81c73e52d4\",                        [{\"hovertemplate\":\"temp_media=%{x}<br>consumo=%{y}<extra></extra>\",\"legendgroup\":\"\",\"marker\":{\"color\":\"#636efa\",\"symbol\":\"circle\"},\"mode\":\"markers\",\"name\":\"\",\"orientation\":\"v\",\"showlegend\":false,\"type\":\"scatter\",\"x\":[27.3,27.02,24.82,23.98,23.82,23.78,24.0,24.9,28.2,26.76,27.62,25.96,25.52,25.96,25.86,26.5,28.86,28.26,28.22,27.68,25.32,21.74,21.04,23.12,24.4,22.4,23.6,25.68,25.0,22.8,21.64,24.16,22.48,23.16,22.12,20.28,21.06,21.86,22.76,24.0,23.92,25.38,27.66,25.54,24.32,22.9,21.6,22.76,22.22,23.92,24.72,25.2,24.44,25.4,24.3,22.24,24.1,24.64,22.4,21.26,22.16,23.16,23.68,24.42,22.6,21.92,22.2,21.36,23.12,22.88,22.26,22.34,22.88,22.08,21.92,21.92,21.24,21.78,21.64,20.88,19.7,19.88,20.98,21.56,22.98,23.32,23.28,22.14,22.5,23.14,22.52,20.92,21.02,22.36,22.82,21.36,17.38,18.68,19.4,20.46,21.74,19.92,20.88,21.7,21.94,21.26,21.42,23.36,22.5,24.0,22.52,20.06,21.2,22.52,19.18,19.04,19.82,20.26,18.66,16.22,17.34,19.26,21.04,19.96,18.14,17.76,17.8,16.14,18.04,16.94,17.86,17.12,16.34,16.72,16.84,17.18,18.26,18.6,18.64,18.74,19.46,20.26,19.94,21.8,22.06,21.28,22.94,18.56,17.68,17.52,16.28,16.28,16.04,17.94,18.36,18.32,19.66,20.62,20.86,20.32,20.54,22.72,18.8,21.1,22.76,16.02,14.82,19.8,19.88,14.66,15.82,17.32,18.54,19.02,14.54,14.72,15.26,15.34,15.48,17.2,19.36,17.78,17.2,17.52,14.94,12.9,15.78,16.8,17.02,17.54,19.24,17.46,20.32,22.06,23.3,20.18,19.88,19.14,20.2,19.98,20.56,16.72,14.52,17.02,18.46,15.9,16.82,16.6,16.46,16.2,16.76,19.24,19.78,20.1,21.16,21.04,20.96,21.06,22.08,21.16,19.62,21.2,19.6,20.12,20.42,20.86,21.44,20.56,21.58,21.3,20.74,16.2,16.84,18.08,20.22,16.98,16.98,18.92,16.1,16.28,18.46,22.52,24.54,21.44,16.1,19.3,16.66,16.12,16.48,18.72,17.08,18.82,18.92,16.88,14.0,14.18,16.46,21.18,25.24,27.26,28.06,28.0,23.6,24.72,25.7,26.14,28.3,23.24,20.58,22.3,21.22,21.8,21.52,20.96,24.74,20.28,18.6,17.36,18.26,24.5,26.56,24.52,23.06,22.48,22.76,21.4,23.62,28.12,26.24,21.22,16.76,19.86,26.3,24.62,19.9,20.5,17.94,17.64,20.86,22.0,20.42,20.56,23.86,23.18,20.22,21.82,21.86,21.52,21.8,19.76,18.3,20.24,22.98,23.72,26.2,23.78,22.78,25.06,23.06,21.16,21.76,25.5,26.16,23.28,19.44,22.26,20.8,21.36,21.26,22.28,22.28,23.7,22.38,19.1,20.1,22.1,22.44,22.76,24.8,23.12,20.04,21.7,23.96,24.0,24.04,23.92,24.54,26.28,25.66,22.04,23.32,26.42,23.74,22.84,23.12,24.6,27.46,24.72,23.58,23.34,24.0,22.64,21.68,21.38,24.76],\"xaxis\":\"x\",\"y\":[25461,28972,30814,29799,28900,28218,29732,28397,24886,37937,36254,25743,26990,31825,25724,29938,37690,30524,29265,35127,29130,25795,21784,28348,31088,21520,29972,22603,22696,26845,27030,32057,24097,31655,24738,19950,22821,28893,29926,24062,21137,26805,26389,24219,30231,24968,25343,17399,21392,22922,24567,30943,30825,25692,26959,25366,22784,26241,26467,27475,28749,24146,22988,30300,22654,29090,24619,20016,23042,22933,22409,21281,28844,32872,20903,26275,20167,23628,24213,28631,25855,21406,21617,22401,27989,24974,29760,26116,25850,24925,21979,22116,24867,33450,32713,22356,21004,23362,20298,24862,30505,25070,22620,22001,23469,21735,21593,33822,28028,24304,31108,19113,23198,24388,27420,30479,21838,20812,19761,20452,17939,25272,28049,25317,21826,20680,19143,18146,25489,23537,16956,19052,17287,20300,20538,23702,28411,21073,24215,19525,20786,20429,27250,31387,26075,22162,24258,24683,21245,25937,26081,16228,20106,21055,22772,25142,31129,30498,26150,21327,22008,24615,22375,29607,32983,19119,21029,23898,24534,16748,23055,28857,23022,27146,17241,19463,21860,24227,27594,24863,20161,20824,19727,14940,24632,21294,18448,21237,19849,20740,25698,26691,33298,25640,23937,28742,21748,22032,24827,32473,20620,21825,14343,19029,21104,20738,25233,18975,19640,22522,24227,24726,32467,31663,25867,27724,22039,26127,26580,31310,33517,23181,24183,24594,22610,25479,29621,26272,22541,23070,26021,17655,23243,30177,27518,23210,21092,23357,17888,22217,31681,31833,28441,22389,20681,24222,19345,21827,23566,20227,17075,16977,21525,21454,21814,21252,20464,30775,25343,33930,26311,31836,34695,29829,26362,32589,30345,29411,29637,32184,17731,24114,28034,22664,27488,24876,24862,24679,22304,30329,33182,23849,33330,34496,26249,26523,26793,35861,27387,32666,22199,24000,27871,31139,23065,26594,27657,26594,28084,27582,24862,22634,31649,35781,24429,20648,22741,21479,23134,20575,24330,28610,28456,27964,29569,29267,28647,26836,29386,24609,26964,23614,22960,20332,30392,31933,21662,21689,25119,25285,28979,34382,30617,20238,24529,30471,28405,29513,32451,32780,23375,27713,27137,22933,30740,29579,29188,28131,28617,21062,24337,27042,32536,30127,24834,26828,26468,31572,26308,21955,32307,26095,22309,20467,22446],\"yaxis\":\"y\"},{\"hovertemplate\":\"<b>OLS trendline</b><br>consumo = 794.883 * temp_media + 8528.91<br>R<sup>2</sup>=0.330182<br><br>temp_media=%{x}<br>consumo=%{y} <b>(trend)</b><extra></extra>\",\"legendgroup\":\"\",\"marker\":{\"color\":\"#636efa\",\"symbol\":\"circle\"},\"mode\":\"lines\",\"name\":\"\",\"showlegend\":false,\"type\":\"scatter\",\"x\":[12.9,14.0,14.18,14.52,14.54,14.66,14.72,14.82,14.94,15.26,15.34,15.48,15.78,15.82,15.9,16.02,16.04,16.1,16.1,16.12,16.14,16.2,16.2,16.22,16.28,16.28,16.28,16.34,16.46,16.46,16.48,16.6,16.66,16.72,16.72,16.76,16.76,16.8,16.82,16.84,16.84,16.88,16.94,16.98,16.98,17.02,17.02,17.08,17.12,17.18,17.2,17.2,17.32,17.34,17.36,17.38,17.46,17.52,17.52,17.54,17.64,17.68,17.76,17.78,17.8,17.86,17.94,17.94,18.04,18.08,18.14,18.26,18.26,18.3,18.32,18.36,18.46,18.46,18.54,18.56,18.6,18.6,18.64,18.66,18.68,18.72,18.74,18.8,18.82,18.92,18.92,19.02,19.04,19.1,19.14,19.18,19.24,19.24,19.26,19.3,19.36,19.4,19.44,19.46,19.6,19.62,19.66,19.7,19.76,19.78,19.8,19.82,19.86,19.88,19.88,19.88,19.9,19.92,19.94,19.96,19.98,20.04,20.06,20.1,20.1,20.12,20.18,20.2,20.22,20.22,20.24,20.26,20.26,20.28,20.28,20.32,20.32,20.42,20.42,20.46,20.5,20.54,20.56,20.56,20.56,20.58,20.62,20.74,20.8,20.86,20.86,20.86,20.88,20.88,20.92,20.96,20.96,20.98,21.02,21.04,21.04,21.04,21.06,21.06,21.1,21.16,21.16,21.16,21.18,21.2,21.2,21.22,21.22,21.24,21.26,21.26,21.26,21.28,21.3,21.36,21.36,21.36,21.38,21.4,21.42,21.44,21.44,21.52,21.52,21.56,21.58,21.6,21.64,21.64,21.68,21.7,21.7,21.74,21.74,21.76,21.78,21.8,21.8,21.8,21.82,21.86,21.86,21.92,21.92,21.92,21.94,22.0,22.04,22.06,22.06,22.08,22.08,22.1,22.12,22.14,22.16,22.2,22.22,22.24,22.26,22.26,22.28,22.28,22.3,22.34,22.36,22.38,22.4,22.4,22.44,22.48,22.48,22.5,22.5,22.52,22.52,22.52,22.52,22.6,22.64,22.72,22.76,22.76,22.76,22.76,22.76,22.78,22.8,22.82,22.84,22.88,22.88,22.9,22.94,22.98,22.98,23.06,23.06,23.12,23.12,23.12,23.12,23.14,23.16,23.16,23.18,23.24,23.28,23.28,23.3,23.32,23.32,23.34,23.36,23.58,23.6,23.6,23.62,23.68,23.7,23.72,23.74,23.78,23.78,23.82,23.86,23.92,23.92,23.92,23.96,23.98,24.0,24.0,24.0,24.0,24.0,24.04,24.1,24.16,24.3,24.32,24.4,24.42,24.44,24.5,24.52,24.54,24.54,24.6,24.62,24.64,24.72,24.72,24.72,24.74,24.76,24.8,24.82,24.9,25.0,25.06,25.2,25.24,25.32,25.38,25.4,25.5,25.52,25.54,25.66,25.68,25.7,25.86,25.96,25.96,26.14,26.16,26.2,26.24,26.28,26.3,26.42,26.5,26.56,26.76,27.02,27.26,27.3,27.46,27.62,27.66,27.68,28.0,28.06,28.12,28.2,28.22,28.26,28.3,28.86],\"xaxis\":\"x\",\"y\":[18782.892011341042,19657.262802045774,19800.34165870655,20070.60172128801,20086.499372028098,20181.885276468616,20229.578228688875,20309.066482389302,20404.45238682982,20658.8147986712,20722.405401631542,20833.688956812148,21072.15371791344,21103.949019393607,21167.539622353954,21262.925526794468,21278.823177534556,21326.51612975482,21326.51612975482,21342.413780494902,21358.311431234986,21406.004383455245,21406.004383455245,21421.90203419533,21469.594986415592,21469.594986415592,21469.594986415592,21517.287938635847,21612.673843076365,21612.673843076365,21628.571493816453,21723.95739825697,21771.650350477226,21819.34330269748,21819.34330269748,21851.138604177657,21851.138604177657,21882.93390565783,21898.831556397912,21914.729207138,21914.729207138,21946.52450861817,21994.21746083843,22026.012762318605,22026.012762318605,22057.808063798773,22057.808063798773,22105.501016019032,22137.296317499204,22184.989269719466,22200.88692045955,22200.88692045955,22296.272824900065,22312.170475640152,22328.06812638024,22343.965777120324,22407.55638008067,22455.249332300926,22455.249332300926,22471.146983041013,22550.635236741444,22582.430538221615,22646.021141181962,22661.91879192205,22677.816442662133,22725.509394882392,22789.099997842735,22789.099997842735,22868.588251543166,22900.383553023337,22948.076505243596,23043.462409684114,23043.462409684114,23075.257711164286,23091.15536190437,23122.950663384545,23202.438917084975,23202.438917084975,23266.02952004532,23281.927170785406,23313.722472265577,23313.722472265577,23345.51777374575,23361.415424485836,23377.31307522592,23409.10837670609,23425.00602744618,23472.69897966644,23488.596630406522,23568.084884106956,23568.084884106956,23647.573137807383,23663.47078854747,23711.16374076773,23742.9590422479,23774.754343728073,23822.447295948332,23822.447295948332,23838.34494668842,23870.14024816859,23917.83320038885,23949.628501869018,23981.423803349193,23997.32145408928,24108.605009269882,24124.502660009966,24156.29796149014,24188.09326297031,24235.786215190572,24251.68386593066,24267.581516670743,24283.479167410827,24315.274468891002,24331.172119631086,24331.172119631086,24331.172119631086,24347.06977037117,24362.967421111258,24378.865071851345,24394.762722591433,24410.660373331517,24458.353325551776,24474.250976291863,24506.046277772035,24506.046277772035,24521.94392851212,24569.636880732378,24585.534531472462,24601.43218221255,24601.43218221255,24617.329832952637,24633.227483692724,24633.227483692724,24649.125134432812,24649.125134432812,24680.92043591298,24680.92043591298,24760.40868961341,24760.40868961341,24792.203991093586,24823.999292573753,24855.79459405393,24871.692244794012,24871.692244794012,24871.692244794012,24887.589895534096,24919.385197014275,25014.77110145479,25062.46405367505,25110.157005895304,25110.157005895304,25110.157005895304,25126.05465663539,25126.05465663539,25157.849958115567,25189.645259595738,25189.645259595738,25205.542910335822,25237.338211815993,25253.23586255608,25253.23586255608,25253.23586255608,25269.133513296165,25269.133513296165,25300.92881477634,25348.6217669966,25348.6217669966,25348.6217669966,25364.519417736683,25380.41706847677,25380.41706847677,25396.314719216854,25396.314719216854,25412.212369956942,25428.11002069703,25428.11002069703,25428.11002069703,25444.007671437113,25459.9053221772,25507.598274397456,25507.598274397456,25507.598274397456,25523.495925137544,25539.393575877628,25555.29122661772,25571.188877357803,25571.188877357803,25634.779480318146,25634.779480318146,25666.574781798317,25682.472432538405,25698.370083278493,25730.165384758664,25730.165384758664,25761.960686238835,25777.85833697892,25777.85833697892,25809.65363845909,25809.65363845909,25825.551289199182,25841.448939939266,25857.346590679354,25857.346590679354,25857.346590679354,25873.244241419437,25905.03954289961,25905.03954289961,25952.73249511987,25952.73249511987,25952.73249511987,25968.630145859956,26016.323098080215,26048.118399560386,26064.01605030047,26064.01605030047,26079.913701040557,26079.913701040557,26095.811351780645,26111.70900252073,26127.606653260817,26143.5043040009,26175.299605481072,26191.19725622116,26207.094906961243,26222.992557701335,26222.992557701335,26238.89020844142,26238.89020844142,26254.787859181506,26286.583160661678,26302.48081140176,26318.37846214185,26334.276112881933,26334.276112881933,26366.071414362108,26397.86671584228,26397.86671584228,26413.764366582367,26413.764366582367,26429.66201732245,26429.66201732245,26429.66201732245,26429.66201732245,26493.252620282798,26525.04792176297,26588.638524723312,26620.433826203487,26620.433826203487,26620.433826203487,26620.433826203487,26620.433826203487,26636.33147694357,26652.22912768366,26668.126778423743,26684.02442916383,26715.819730644,26715.819730644,26731.717381384085,26763.51268286426,26795.307984344432,26795.307984344432,26858.898587304775,26858.898587304775,26906.591539525034,26906.591539525034,26906.591539525034,26906.591539525034,26922.48919026512,26938.386841005205,26938.386841005205,26954.284491745293,27001.97744396555,27033.772745445724,27033.772745445724,27049.67039618581,27065.568046925895,27065.568046925895,27081.465697665983,27097.363348406067,27272.237506547015,27288.135157287103,27288.135157287103,27304.032808027187,27351.725760247446,27367.62341098753,27383.521061727617,27399.4187124677,27431.214013947876,27431.214013947876,27463.009315428048,27494.80461690822,27542.497569128478,27542.497569128478,27542.497569128478,27574.29287060865,27590.190521348737,27606.08817208882,27606.08817208882,27606.08817208882,27606.08817208882,27606.08817208882,27637.883473568996,27685.576425789255,27733.26937800951,27844.552933190116,27860.4505839302,27924.041186890543,27939.93883763063,27955.836488370718,28003.529440590974,28019.42709133106,28035.324742071145,28035.324742071145,28083.017694291408,28098.91534503149,28114.81299577158,28178.403598731922,28178.403598731922,28178.403598731922,28194.301249472006,28210.198900212097,28241.99420169227,28257.891852432353,28321.482455392696,28400.970709093126,28448.663661313385,28559.947216493987,28591.74251797416,28655.333120934505,28703.026073154764,28718.923723894848,28798.41197759528,28814.309628335366,28830.20727907545,28925.593183515968,28941.490834256056,28957.38848499614,29084.56969091683,29164.05794461726,29164.05794461726,29307.136801278037,29323.03445201812,29354.829753498292,29386.625054978464,29418.42035645864,29434.318007198726,29529.70391163924,29593.294514599584,29640.987466819843,29799.963974220704,30006.633433841824,30197.405242722856,30229.200544203028,30356.381750123717,30483.562956044407,30515.35825752458,30531.255908264666,30785.61832010604,30833.3112723263,30881.00422454656,30944.594827506902,30960.49247824699,30992.28777972716,31024.083081207333,31469.217301929744],\"yaxis\":\"y\"}],                        {\"font\":{\"color\":\"navy\",\"family\":\"New latin, monospace\",\"size\":14},\"legend\":{\"tracegroupgap\":0,\"x\":1.5,\"y\":1.5},\"margin\":{\"t\":60},\"template\":{\"data\":{\"bar\":[{\"error_x\":{\"color\":\"#2a3f5f\"},\"error_y\":{\"color\":\"#2a3f5f\"},\"marker\":{\"line\":{\"color\":\"#E5ECF6\",\"width\":0.5},\"pattern\":{\"fillmode\":\"overlay\",\"size\":10,\"solidity\":0.2}},\"type\":\"bar\"}],\"barpolar\":[{\"marker\":{\"line\":{\"color\":\"#E5ECF6\",\"width\":0.5},\"pattern\":{\"fillmode\":\"overlay\",\"size\":10,\"solidity\":0.2}},\"type\":\"barpolar\"}],\"carpet\":[{\"aaxis\":{\"endlinecolor\":\"#2a3f5f\",\"gridcolor\":\"white\",\"linecolor\":\"white\",\"minorgridcolor\":\"white\",\"startlinecolor\":\"#2a3f5f\"},\"baxis\":{\"endlinecolor\":\"#2a3f5f\",\"gridcolor\":\"white\",\"linecolor\":\"white\",\"minorgridcolor\":\"white\",\"startlinecolor\":\"#2a3f5f\"},\"type\":\"carpet\"}],\"choropleth\":[{\"colorbar\":{\"outlinewidth\":0,\"ticks\":\"\"},\"type\":\"choropleth\"}],\"contour\":[{\"colorbar\":{\"outlinewidth\":0,\"ticks\":\"\"},\"colorscale\":[[0.0,\"#0d0887\"],[0.1111111111111111,\"#46039f\"],[0.2222222222222222,\"#7201a8\"],[0.3333333333333333,\"#9c179e\"],[0.4444444444444444,\"#bd3786\"],[0.5555555555555556,\"#d8576b\"],[0.6666666666666666,\"#ed7953\"],[0.7777777777777778,\"#fb9f3a\"],[0.8888888888888888,\"#fdca26\"],[1.0,\"#f0f921\"]],\"type\":\"contour\"}],\"contourcarpet\":[{\"colorbar\":{\"outlinewidth\":0,\"ticks\":\"\"},\"type\":\"contourcarpet\"}],\"heatmap\":[{\"colorbar\":{\"outlinewidth\":0,\"ticks\":\"\"},\"colorscale\":[[0.0,\"#0d0887\"],[0.1111111111111111,\"#46039f\"],[0.2222222222222222,\"#7201a8\"],[0.3333333333333333,\"#9c179e\"],[0.4444444444444444,\"#bd3786\"],[0.5555555555555556,\"#d8576b\"],[0.6666666666666666,\"#ed7953\"],[0.7777777777777778,\"#fb9f3a\"],[0.8888888888888888,\"#fdca26\"],[1.0,\"#f0f921\"]],\"type\":\"heatmap\"}],\"heatmapgl\":[{\"colorbar\":{\"outlinewidth\":0,\"ticks\":\"\"},\"colorscale\":[[0.0,\"#0d0887\"],[0.1111111111111111,\"#46039f\"],[0.2222222222222222,\"#7201a8\"],[0.3333333333333333,\"#9c179e\"],[0.4444444444444444,\"#bd3786\"],[0.5555555555555556,\"#d8576b\"],[0.6666666666666666,\"#ed7953\"],[0.7777777777777778,\"#fb9f3a\"],[0.8888888888888888,\"#fdca26\"],[1.0,\"#f0f921\"]],\"type\":\"heatmapgl\"}],\"histogram\":[{\"marker\":{\"pattern\":{\"fillmode\":\"overlay\",\"size\":10,\"solidity\":0.2}},\"type\":\"histogram\"}],\"histogram2d\":[{\"colorbar\":{\"outlinewidth\":0,\"ticks\":\"\"},\"colorscale\":[[0.0,\"#0d0887\"],[0.1111111111111111,\"#46039f\"],[0.2222222222222222,\"#7201a8\"],[0.3333333333333333,\"#9c179e\"],[0.4444444444444444,\"#bd3786\"],[0.5555555555555556,\"#d8576b\"],[0.6666666666666666,\"#ed7953\"],[0.7777777777777778,\"#fb9f3a\"],[0.8888888888888888,\"#fdca26\"],[1.0,\"#f0f921\"]],\"type\":\"histogram2d\"}],\"histogram2dcontour\":[{\"colorbar\":{\"outlinewidth\":0,\"ticks\":\"\"},\"colorscale\":[[0.0,\"#0d0887\"],[0.1111111111111111,\"#46039f\"],[0.2222222222222222,\"#7201a8\"],[0.3333333333333333,\"#9c179e\"],[0.4444444444444444,\"#bd3786\"],[0.5555555555555556,\"#d8576b\"],[0.6666666666666666,\"#ed7953\"],[0.7777777777777778,\"#fb9f3a\"],[0.8888888888888888,\"#fdca26\"],[1.0,\"#f0f921\"]],\"type\":\"histogram2dcontour\"}],\"mesh3d\":[{\"colorbar\":{\"outlinewidth\":0,\"ticks\":\"\"},\"type\":\"mesh3d\"}],\"parcoords\":[{\"line\":{\"colorbar\":{\"outlinewidth\":0,\"ticks\":\"\"}},\"type\":\"parcoords\"}],\"pie\":[{\"automargin\":true,\"type\":\"pie\"}],\"scatter\":[{\"marker\":{\"colorbar\":{\"outlinewidth\":0,\"ticks\":\"\"}},\"type\":\"scatter\"}],\"scatter3d\":[{\"line\":{\"colorbar\":{\"outlinewidth\":0,\"ticks\":\"\"}},\"marker\":{\"colorbar\":{\"outlinewidth\":0,\"ticks\":\"\"}},\"type\":\"scatter3d\"}],\"scattercarpet\":[{\"marker\":{\"colorbar\":{\"outlinewidth\":0,\"ticks\":\"\"}},\"type\":\"scattercarpet\"}],\"scattergeo\":[{\"marker\":{\"colorbar\":{\"outlinewidth\":0,\"ticks\":\"\"}},\"type\":\"scattergeo\"}],\"scattergl\":[{\"marker\":{\"colorbar\":{\"outlinewidth\":0,\"ticks\":\"\"}},\"type\":\"scattergl\"}],\"scattermapbox\":[{\"marker\":{\"colorbar\":{\"outlinewidth\":0,\"ticks\":\"\"}},\"type\":\"scattermapbox\"}],\"scatterpolar\":[{\"marker\":{\"colorbar\":{\"outlinewidth\":0,\"ticks\":\"\"}},\"type\":\"scatterpolar\"}],\"scatterpolargl\":[{\"marker\":{\"colorbar\":{\"outlinewidth\":0,\"ticks\":\"\"}},\"type\":\"scatterpolargl\"}],\"scatterternary\":[{\"marker\":{\"colorbar\":{\"outlinewidth\":0,\"ticks\":\"\"}},\"type\":\"scatterternary\"}],\"surface\":[{\"colorbar\":{\"outlinewidth\":0,\"ticks\":\"\"},\"colorscale\":[[0.0,\"#0d0887\"],[0.1111111111111111,\"#46039f\"],[0.2222222222222222,\"#7201a8\"],[0.3333333333333333,\"#9c179e\"],[0.4444444444444444,\"#bd3786\"],[0.5555555555555556,\"#d8576b\"],[0.6666666666666666,\"#ed7953\"],[0.7777777777777778,\"#fb9f3a\"],[0.8888888888888888,\"#fdca26\"],[1.0,\"#f0f921\"]],\"type\":\"surface\"}],\"table\":[{\"cells\":{\"fill\":{\"color\":\"#EBF0F8\"},\"line\":{\"color\":\"white\"}},\"header\":{\"fill\":{\"color\":\"#C8D4E3\"},\"line\":{\"color\":\"white\"}},\"type\":\"table\"}]},\"layout\":{\"annotationdefaults\":{\"arrowcolor\":\"#2a3f5f\",\"arrowhead\":0,\"arrowwidth\":1},\"autotypenumbers\":\"strict\",\"coloraxis\":{\"colorbar\":{\"outlinewidth\":0,\"ticks\":\"\"}},\"colorscale\":{\"diverging\":[[0,\"#8e0152\"],[0.1,\"#c51b7d\"],[0.2,\"#de77ae\"],[0.3,\"#f1b6da\"],[0.4,\"#fde0ef\"],[0.5,\"#f7f7f7\"],[0.6,\"#e6f5d0\"],[0.7,\"#b8e186\"],[0.8,\"#7fbc41\"],[0.9,\"#4d9221\"],[1,\"#276419\"]],\"sequential\":[[0.0,\"#0d0887\"],[0.1111111111111111,\"#46039f\"],[0.2222222222222222,\"#7201a8\"],[0.3333333333333333,\"#9c179e\"],[0.4444444444444444,\"#bd3786\"],[0.5555555555555556,\"#d8576b\"],[0.6666666666666666,\"#ed7953\"],[0.7777777777777778,\"#fb9f3a\"],[0.8888888888888888,\"#fdca26\"],[1.0,\"#f0f921\"]],\"sequentialminus\":[[0.0,\"#0d0887\"],[0.1111111111111111,\"#46039f\"],[0.2222222222222222,\"#7201a8\"],[0.3333333333333333,\"#9c179e\"],[0.4444444444444444,\"#bd3786\"],[0.5555555555555556,\"#d8576b\"],[0.6666666666666666,\"#ed7953\"],[0.7777777777777778,\"#fb9f3a\"],[0.8888888888888888,\"#fdca26\"],[1.0,\"#f0f921\"]]},\"colorway\":[\"#636efa\",\"#EF553B\",\"#00cc96\",\"#ab63fa\",\"#FFA15A\",\"#19d3f3\",\"#FF6692\",\"#B6E880\",\"#FF97FF\",\"#FECB52\"],\"font\":{\"color\":\"#2a3f5f\"},\"geo\":{\"bgcolor\":\"white\",\"lakecolor\":\"white\",\"landcolor\":\"#E5ECF6\",\"showlakes\":true,\"showland\":true,\"subunitcolor\":\"white\"},\"hoverlabel\":{\"align\":\"left\"},\"hovermode\":\"closest\",\"mapbox\":{\"style\":\"light\"},\"paper_bgcolor\":\"white\",\"plot_bgcolor\":\"#E5ECF6\",\"polar\":{\"angularaxis\":{\"gridcolor\":\"white\",\"linecolor\":\"white\",\"ticks\":\"\"},\"bgcolor\":\"#E5ECF6\",\"radialaxis\":{\"gridcolor\":\"white\",\"linecolor\":\"white\",\"ticks\":\"\"}},\"scene\":{\"xaxis\":{\"backgroundcolor\":\"#E5ECF6\",\"gridcolor\":\"white\",\"gridwidth\":2,\"linecolor\":\"white\",\"showbackground\":true,\"ticks\":\"\",\"zerolinecolor\":\"white\"},\"yaxis\":{\"backgroundcolor\":\"#E5ECF6\",\"gridcolor\":\"white\",\"gridwidth\":2,\"linecolor\":\"white\",\"showbackground\":true,\"ticks\":\"\",\"zerolinecolor\":\"white\"},\"zaxis\":{\"backgroundcolor\":\"#E5ECF6\",\"gridcolor\":\"white\",\"gridwidth\":2,\"linecolor\":\"white\",\"showbackground\":true,\"ticks\":\"\",\"zerolinecolor\":\"white\"}},\"shapedefaults\":{\"line\":{\"color\":\"#2a3f5f\"}},\"ternary\":{\"aaxis\":{\"gridcolor\":\"white\",\"linecolor\":\"white\",\"ticks\":\"\"},\"baxis\":{\"gridcolor\":\"white\",\"linecolor\":\"white\",\"ticks\":\"\"},\"bgcolor\":\"#E5ECF6\",\"caxis\":{\"gridcolor\":\"white\",\"linecolor\":\"white\",\"ticks\":\"\"}},\"title\":{\"x\":0.05},\"xaxis\":{\"automargin\":true,\"gridcolor\":\"white\",\"linecolor\":\"white\",\"ticks\":\"\",\"title\":{\"standoff\":15},\"zerolinecolor\":\"white\",\"zerolinewidth\":2},\"yaxis\":{\"automargin\":true,\"gridcolor\":\"white\",\"linecolor\":\"white\",\"ticks\":\"\",\"title\":{\"standoff\":15},\"zerolinecolor\":\"white\",\"zerolinewidth\":2}}},\"title\":{\"text\":\"Correla\\u00e7\\u00e3o entre o consumo pela temperatura\"},\"xaxis\":{\"anchor\":\"y\",\"domain\":[0.0,1.0],\"title\":{\"text\":\" Tempo (dias)\"}},\"yaxis\":{\"anchor\":\"x\",\"domain\":[0.0,1.0],\"title\":{\"text\":\"Consumo\"}}},                        {\"responsive\": true}                    ).then(function(){\n",
       "                            \n",
       "var gd = document.getElementById('c10b5304-949b-4bcb-9f12-8b81c73e52d4');\n",
       "var x = new MutationObserver(function (mutations, observer) {{\n",
       "        var display = window.getComputedStyle(gd).display;\n",
       "        if (!display || display === 'none') {{\n",
       "            console.log([gd, 'removed!']);\n",
       "            Plotly.purge(gd);\n",
       "            observer.disconnect();\n",
       "        }}\n",
       "}});\n",
       "\n",
       "// Listen for the removal of the full notebook cells\n",
       "var notebookContainer = gd.closest('#notebook-container');\n",
       "if (notebookContainer) {{\n",
       "    x.observe(notebookContainer, {childList: true});\n",
       "}}\n",
       "\n",
       "// Listen for the clearing of the current output cell\n",
       "var outputEl = gd.closest('.output');\n",
       "if (outputEl) {{\n",
       "    x.observe(outputEl, {childList: true});\n",
       "}}\n",
       "\n",
       "                        })                };                });            </script>        </div>"
      ]
     },
     "metadata": {},
     "output_type": "display_data"
    }
   ],
   "source": [
    "fig = px.scatter(cerveja, x=\"temp_media\", y=\"consumo\", trendline=\"ols\")\n",
    "\n",
    "fig.update_layout(\n",
    "    title=\"Correlação entre o consumo pela temperatura\",\n",
    "    xaxis_title=\" Tempo (dias)\",\n",
    "    yaxis_title=\"Consumo\",\n",
    "    font=dict(family=\"New latin, monospace\", size=14, color=\"navy\"),\n",
    "    legend=dict(x=1.5, y=1.5)\n",
    ")\n",
    "fig.show()"
   ]
  },
  {
   "cell_type": "markdown",
   "id": "8119384d-bbb7-40d0-af2c-e3917ba08e53",
   "metadata": {},
   "source": [
    "## Verificando o consumo de cerveja\n",
    "\n",
    "### Consumo de cerveja x dia da semana"
   ]
  },
  {
   "cell_type": "code",
   "execution_count": 197,
   "id": "46d828b6-dbaf-4d8b-969f-0607995bf329",
   "metadata": {},
   "outputs": [
    {
     "data": {
      "application/vnd.plotly.v1+json": {
       "config": {
        "plotlyServerURL": "https://plot.ly"
       },
       "data": [
        {
         "alignmentgroup": "True",
         "hovertemplate": "fds=%{x}<br>consumo=%{y}<extra></extra>",
         "legendgroup": "0",
         "marker": {
          "color": "#636efa"
         },
         "name": "0",
         "notched": false,
         "offsetgroup": "0",
         "orientation": "v",
         "quartilemethod": "exclusive",
         "showlegend": true,
         "type": "box",
         "x": [
          0,
          0,
          0,
          0,
          0,
          0,
          0,
          0,
          0,
          0,
          0,
          0,
          0,
          0,
          0,
          0,
          0,
          0,
          0,
          0,
          0,
          0,
          0,
          0,
          0,
          0,
          0,
          0,
          0,
          0,
          0,
          0,
          0,
          0,
          0,
          0,
          0,
          0,
          0,
          0,
          0,
          0,
          0,
          0,
          0,
          0,
          0,
          0,
          0,
          0,
          0,
          0,
          0,
          0,
          0,
          0,
          0,
          0,
          0,
          0,
          0,
          0,
          0,
          0,
          0,
          0,
          0,
          0,
          0,
          0,
          0,
          0,
          0,
          0,
          0,
          0,
          0,
          0,
          0,
          0,
          0,
          0,
          0,
          0,
          0,
          0,
          0,
          0,
          0,
          0,
          0,
          0,
          0,
          0,
          0,
          0,
          0,
          0,
          0,
          0,
          0,
          0,
          0,
          0,
          0,
          0,
          0,
          0,
          0,
          0,
          0,
          0,
          0,
          0,
          0,
          0,
          0,
          0,
          0,
          0,
          0,
          0,
          0,
          0,
          0,
          0,
          0,
          0,
          0,
          0,
          0,
          0,
          0,
          0,
          0,
          0,
          0,
          0,
          0,
          0,
          0,
          0,
          0,
          0,
          0,
          0,
          0,
          0,
          0,
          0,
          0,
          0,
          0,
          0,
          0,
          0,
          0,
          0,
          0,
          0,
          0,
          0,
          0,
          0,
          0,
          0,
          0,
          0,
          0,
          0,
          0,
          0,
          0,
          0,
          0,
          0,
          0,
          0,
          0,
          0,
          0,
          0,
          0,
          0,
          0,
          0,
          0,
          0,
          0,
          0,
          0,
          0,
          0,
          0,
          0,
          0,
          0,
          0,
          0,
          0,
          0,
          0,
          0,
          0,
          0,
          0,
          0,
          0,
          0,
          0,
          0,
          0,
          0,
          0,
          0,
          0,
          0,
          0,
          0,
          0,
          0,
          0,
          0,
          0,
          0,
          0,
          0,
          0,
          0,
          0,
          0,
          0,
          0,
          0,
          0,
          0,
          0,
          0,
          0,
          0,
          0,
          0,
          0,
          0,
          0,
          0,
          0,
          0,
          0,
          0,
          0,
          0,
          0,
          0,
          0,
          0,
          0,
          0,
          0,
          0,
          0
         ],
         "x0": " ",
         "xaxis": "x",
         "y": [
          25461,
          28972,
          28900,
          28218,
          29732,
          28397,
          24886,
          25743,
          26990,
          31825,
          25724,
          29938,
          29265,
          35127,
          29130,
          25795,
          21784,
          21520,
          29972,
          22603,
          22696,
          26845,
          24097,
          31655,
          24738,
          19950,
          22821,
          24062,
          21137,
          26805,
          26389,
          24219,
          25343,
          17399,
          21392,
          22922,
          24567,
          25692,
          26959,
          25366,
          22784,
          26241,
          28749,
          24146,
          22988,
          30300,
          22654,
          20016,
          23042,
          22933,
          22409,
          21281,
          20903,
          26275,
          20167,
          23628,
          24213,
          21406,
          21617,
          22401,
          27989,
          24974,
          25850,
          24925,
          21979,
          22116,
          24867,
          22356,
          21004,
          23362,
          20298,
          24862,
          22620,
          22001,
          23469,
          21735,
          21593,
          24304,
          31108,
          19113,
          23198,
          24388,
          21838,
          20812,
          19761,
          20452,
          17939,
          25317,
          21826,
          20680,
          19143,
          18146,
          16956,
          19052,
          17287,
          20300,
          20538,
          21073,
          24215,
          19525,
          20786,
          20429,
          26075,
          22162,
          24258,
          24683,
          21245,
          16228,
          20106,
          21055,
          22772,
          25142,
          26150,
          21327,
          22008,
          24615,
          22375,
          19119,
          21029,
          23898,
          24534,
          16748,
          23022,
          27146,
          17241,
          19463,
          21860,
          24863,
          20161,
          20824,
          19727,
          14940,
          18448,
          21237,
          19849,
          20740,
          25698,
          25640,
          23937,
          28742,
          21748,
          22032,
          20620,
          21825,
          14343,
          19029,
          21104,
          18975,
          19640,
          22522,
          24227,
          24726,
          25867,
          27724,
          22039,
          26127,
          26580,
          23181,
          24183,
          24594,
          22610,
          25479,
          22541,
          23070,
          26021,
          17655,
          23243,
          23210,
          21092,
          23357,
          17888,
          22217,
          28441,
          22389,
          20681,
          24222,
          19345,
          20227,
          17075,
          16977,
          21525,
          21454,
          20464,
          30775,
          25343,
          33930,
          26311,
          29829,
          26362,
          32589,
          30345,
          29411,
          17731,
          24114,
          28034,
          22664,
          27488,
          24679,
          22304,
          30329,
          33182,
          23849,
          26249,
          26523,
          26793,
          35861,
          27387,
          24000,
          27871,
          31139,
          23065,
          26594,
          28084,
          27582,
          24862,
          22634,
          31649,
          20648,
          22741,
          21479,
          23134,
          20575,
          28456,
          27964,
          29569,
          29267,
          28647,
          24609,
          26964,
          23614,
          22960,
          20332,
          21662,
          21689,
          25119,
          25285,
          28979,
          20238,
          24529,
          30471,
          28405,
          29513,
          23375,
          27713,
          27137,
          22933,
          30740,
          28131,
          28617,
          21062,
          24337,
          27042,
          24834,
          26828,
          26468,
          31572,
          26308,
          26095,
          22309,
          20467,
          22446
         ],
         "y0": " ",
         "yaxis": "y"
        },
        {
         "alignmentgroup": "True",
         "hovertemplate": "fds=%{x}<br>consumo=%{y}<extra></extra>",
         "legendgroup": "1",
         "marker": {
          "color": "#EF553B"
         },
         "name": "1",
         "notched": false,
         "offsetgroup": "1",
         "orientation": "v",
         "quartilemethod": "exclusive",
         "showlegend": true,
         "type": "box",
         "x": [
          1,
          1,
          1,
          1,
          1,
          1,
          1,
          1,
          1,
          1,
          1,
          1,
          1,
          1,
          1,
          1,
          1,
          1,
          1,
          1,
          1,
          1,
          1,
          1,
          1,
          1,
          1,
          1,
          1,
          1,
          1,
          1,
          1,
          1,
          1,
          1,
          1,
          1,
          1,
          1,
          1,
          1,
          1,
          1,
          1,
          1,
          1,
          1,
          1,
          1,
          1,
          1,
          1,
          1,
          1,
          1,
          1,
          1,
          1,
          1,
          1,
          1,
          1,
          1,
          1,
          1,
          1,
          1,
          1,
          1,
          1,
          1,
          1,
          1,
          1,
          1,
          1,
          1,
          1,
          1,
          1,
          1,
          1,
          1,
          1,
          1,
          1,
          1,
          1,
          1,
          1,
          1,
          1,
          1,
          1,
          1,
          1,
          1,
          1,
          1,
          1,
          1,
          1,
          1
         ],
         "x0": " ",
         "xaxis": "x",
         "y": [
          30814,
          29799,
          37937,
          36254,
          37690,
          30524,
          28348,
          31088,
          27030,
          32057,
          28893,
          29926,
          30231,
          24968,
          30943,
          30825,
          26467,
          27475,
          29090,
          24619,
          28844,
          32872,
          28631,
          25855,
          29760,
          26116,
          33450,
          32713,
          30505,
          25070,
          33822,
          28028,
          27420,
          30479,
          25272,
          28049,
          25489,
          23537,
          23702,
          28411,
          27250,
          31387,
          25937,
          26081,
          31129,
          30498,
          29607,
          32983,
          23055,
          28857,
          24227,
          27594,
          24632,
          21294,
          26691,
          33298,
          24827,
          32473,
          20738,
          25233,
          32467,
          31663,
          31310,
          33517,
          29621,
          26272,
          30177,
          27518,
          31681,
          31833,
          21827,
          23566,
          21814,
          21252,
          31836,
          34695,
          29637,
          32184,
          24876,
          24862,
          33330,
          34496,
          32666,
          22199,
          27657,
          26594,
          35781,
          24429,
          24330,
          28610,
          26836,
          29386,
          30392,
          31933,
          34382,
          30617,
          32451,
          32780,
          29579,
          29188,
          32536,
          30127,
          21955,
          32307
         ],
         "y0": " ",
         "yaxis": "y"
        }
       ],
       "layout": {
        "autosize": true,
        "boxmode": "overlay",
        "font": {
         "color": "navy",
         "family": "New latin, monospace",
         "size": 16
        },
        "legend": {
         "title": {
          "text": "fds"
         },
         "tracegroupgap": 0
        },
        "margin": {
         "t": 60
        },
        "template": {
         "data": {
          "bar": [
           {
            "error_x": {
             "color": "#2a3f5f"
            },
            "error_y": {
             "color": "#2a3f5f"
            },
            "marker": {
             "line": {
              "color": "#E5ECF6",
              "width": 0.5
             },
             "pattern": {
              "fillmode": "overlay",
              "size": 10,
              "solidity": 0.2
             }
            },
            "type": "bar"
           }
          ],
          "barpolar": [
           {
            "marker": {
             "line": {
              "color": "#E5ECF6",
              "width": 0.5
             },
             "pattern": {
              "fillmode": "overlay",
              "size": 10,
              "solidity": 0.2
             }
            },
            "type": "barpolar"
           }
          ],
          "carpet": [
           {
            "aaxis": {
             "endlinecolor": "#2a3f5f",
             "gridcolor": "white",
             "linecolor": "white",
             "minorgridcolor": "white",
             "startlinecolor": "#2a3f5f"
            },
            "baxis": {
             "endlinecolor": "#2a3f5f",
             "gridcolor": "white",
             "linecolor": "white",
             "minorgridcolor": "white",
             "startlinecolor": "#2a3f5f"
            },
            "type": "carpet"
           }
          ],
          "choropleth": [
           {
            "colorbar": {
             "outlinewidth": 0,
             "ticks": ""
            },
            "type": "choropleth"
           }
          ],
          "contour": [
           {
            "colorbar": {
             "outlinewidth": 0,
             "ticks": ""
            },
            "colorscale": [
             [
              0,
              "#0d0887"
             ],
             [
              0.1111111111111111,
              "#46039f"
             ],
             [
              0.2222222222222222,
              "#7201a8"
             ],
             [
              0.3333333333333333,
              "#9c179e"
             ],
             [
              0.4444444444444444,
              "#bd3786"
             ],
             [
              0.5555555555555556,
              "#d8576b"
             ],
             [
              0.6666666666666666,
              "#ed7953"
             ],
             [
              0.7777777777777778,
              "#fb9f3a"
             ],
             [
              0.8888888888888888,
              "#fdca26"
             ],
             [
              1,
              "#f0f921"
             ]
            ],
            "type": "contour"
           }
          ],
          "contourcarpet": [
           {
            "colorbar": {
             "outlinewidth": 0,
             "ticks": ""
            },
            "type": "contourcarpet"
           }
          ],
          "heatmap": [
           {
            "colorbar": {
             "outlinewidth": 0,
             "ticks": ""
            },
            "colorscale": [
             [
              0,
              "#0d0887"
             ],
             [
              0.1111111111111111,
              "#46039f"
             ],
             [
              0.2222222222222222,
              "#7201a8"
             ],
             [
              0.3333333333333333,
              "#9c179e"
             ],
             [
              0.4444444444444444,
              "#bd3786"
             ],
             [
              0.5555555555555556,
              "#d8576b"
             ],
             [
              0.6666666666666666,
              "#ed7953"
             ],
             [
              0.7777777777777778,
              "#fb9f3a"
             ],
             [
              0.8888888888888888,
              "#fdca26"
             ],
             [
              1,
              "#f0f921"
             ]
            ],
            "type": "heatmap"
           }
          ],
          "heatmapgl": [
           {
            "colorbar": {
             "outlinewidth": 0,
             "ticks": ""
            },
            "colorscale": [
             [
              0,
              "#0d0887"
             ],
             [
              0.1111111111111111,
              "#46039f"
             ],
             [
              0.2222222222222222,
              "#7201a8"
             ],
             [
              0.3333333333333333,
              "#9c179e"
             ],
             [
              0.4444444444444444,
              "#bd3786"
             ],
             [
              0.5555555555555556,
              "#d8576b"
             ],
             [
              0.6666666666666666,
              "#ed7953"
             ],
             [
              0.7777777777777778,
              "#fb9f3a"
             ],
             [
              0.8888888888888888,
              "#fdca26"
             ],
             [
              1,
              "#f0f921"
             ]
            ],
            "type": "heatmapgl"
           }
          ],
          "histogram": [
           {
            "marker": {
             "pattern": {
              "fillmode": "overlay",
              "size": 10,
              "solidity": 0.2
             }
            },
            "type": "histogram"
           }
          ],
          "histogram2d": [
           {
            "colorbar": {
             "outlinewidth": 0,
             "ticks": ""
            },
            "colorscale": [
             [
              0,
              "#0d0887"
             ],
             [
              0.1111111111111111,
              "#46039f"
             ],
             [
              0.2222222222222222,
              "#7201a8"
             ],
             [
              0.3333333333333333,
              "#9c179e"
             ],
             [
              0.4444444444444444,
              "#bd3786"
             ],
             [
              0.5555555555555556,
              "#d8576b"
             ],
             [
              0.6666666666666666,
              "#ed7953"
             ],
             [
              0.7777777777777778,
              "#fb9f3a"
             ],
             [
              0.8888888888888888,
              "#fdca26"
             ],
             [
              1,
              "#f0f921"
             ]
            ],
            "type": "histogram2d"
           }
          ],
          "histogram2dcontour": [
           {
            "colorbar": {
             "outlinewidth": 0,
             "ticks": ""
            },
            "colorscale": [
             [
              0,
              "#0d0887"
             ],
             [
              0.1111111111111111,
              "#46039f"
             ],
             [
              0.2222222222222222,
              "#7201a8"
             ],
             [
              0.3333333333333333,
              "#9c179e"
             ],
             [
              0.4444444444444444,
              "#bd3786"
             ],
             [
              0.5555555555555556,
              "#d8576b"
             ],
             [
              0.6666666666666666,
              "#ed7953"
             ],
             [
              0.7777777777777778,
              "#fb9f3a"
             ],
             [
              0.8888888888888888,
              "#fdca26"
             ],
             [
              1,
              "#f0f921"
             ]
            ],
            "type": "histogram2dcontour"
           }
          ],
          "mesh3d": [
           {
            "colorbar": {
             "outlinewidth": 0,
             "ticks": ""
            },
            "type": "mesh3d"
           }
          ],
          "parcoords": [
           {
            "line": {
             "colorbar": {
              "outlinewidth": 0,
              "ticks": ""
             }
            },
            "type": "parcoords"
           }
          ],
          "pie": [
           {
            "automargin": true,
            "type": "pie"
           }
          ],
          "scatter": [
           {
            "marker": {
             "colorbar": {
              "outlinewidth": 0,
              "ticks": ""
             }
            },
            "type": "scatter"
           }
          ],
          "scatter3d": [
           {
            "line": {
             "colorbar": {
              "outlinewidth": 0,
              "ticks": ""
             }
            },
            "marker": {
             "colorbar": {
              "outlinewidth": 0,
              "ticks": ""
             }
            },
            "type": "scatter3d"
           }
          ],
          "scattercarpet": [
           {
            "marker": {
             "colorbar": {
              "outlinewidth": 0,
              "ticks": ""
             }
            },
            "type": "scattercarpet"
           }
          ],
          "scattergeo": [
           {
            "marker": {
             "colorbar": {
              "outlinewidth": 0,
              "ticks": ""
             }
            },
            "type": "scattergeo"
           }
          ],
          "scattergl": [
           {
            "marker": {
             "colorbar": {
              "outlinewidth": 0,
              "ticks": ""
             }
            },
            "type": "scattergl"
           }
          ],
          "scattermapbox": [
           {
            "marker": {
             "colorbar": {
              "outlinewidth": 0,
              "ticks": ""
             }
            },
            "type": "scattermapbox"
           }
          ],
          "scatterpolar": [
           {
            "marker": {
             "colorbar": {
              "outlinewidth": 0,
              "ticks": ""
             }
            },
            "type": "scatterpolar"
           }
          ],
          "scatterpolargl": [
           {
            "marker": {
             "colorbar": {
              "outlinewidth": 0,
              "ticks": ""
             }
            },
            "type": "scatterpolargl"
           }
          ],
          "scatterternary": [
           {
            "marker": {
             "colorbar": {
              "outlinewidth": 0,
              "ticks": ""
             }
            },
            "type": "scatterternary"
           }
          ],
          "surface": [
           {
            "colorbar": {
             "outlinewidth": 0,
             "ticks": ""
            },
            "colorscale": [
             [
              0,
              "#0d0887"
             ],
             [
              0.1111111111111111,
              "#46039f"
             ],
             [
              0.2222222222222222,
              "#7201a8"
             ],
             [
              0.3333333333333333,
              "#9c179e"
             ],
             [
              0.4444444444444444,
              "#bd3786"
             ],
             [
              0.5555555555555556,
              "#d8576b"
             ],
             [
              0.6666666666666666,
              "#ed7953"
             ],
             [
              0.7777777777777778,
              "#fb9f3a"
             ],
             [
              0.8888888888888888,
              "#fdca26"
             ],
             [
              1,
              "#f0f921"
             ]
            ],
            "type": "surface"
           }
          ],
          "table": [
           {
            "cells": {
             "fill": {
              "color": "#EBF0F8"
             },
             "line": {
              "color": "white"
             }
            },
            "header": {
             "fill": {
              "color": "#C8D4E3"
             },
             "line": {
              "color": "white"
             }
            },
            "type": "table"
           }
          ]
         },
         "layout": {
          "annotationdefaults": {
           "arrowcolor": "#2a3f5f",
           "arrowhead": 0,
           "arrowwidth": 1
          },
          "autotypenumbers": "strict",
          "coloraxis": {
           "colorbar": {
            "outlinewidth": 0,
            "ticks": ""
           }
          },
          "colorscale": {
           "diverging": [
            [
             0,
             "#8e0152"
            ],
            [
             0.1,
             "#c51b7d"
            ],
            [
             0.2,
             "#de77ae"
            ],
            [
             0.3,
             "#f1b6da"
            ],
            [
             0.4,
             "#fde0ef"
            ],
            [
             0.5,
             "#f7f7f7"
            ],
            [
             0.6,
             "#e6f5d0"
            ],
            [
             0.7,
             "#b8e186"
            ],
            [
             0.8,
             "#7fbc41"
            ],
            [
             0.9,
             "#4d9221"
            ],
            [
             1,
             "#276419"
            ]
           ],
           "sequential": [
            [
             0,
             "#0d0887"
            ],
            [
             0.1111111111111111,
             "#46039f"
            ],
            [
             0.2222222222222222,
             "#7201a8"
            ],
            [
             0.3333333333333333,
             "#9c179e"
            ],
            [
             0.4444444444444444,
             "#bd3786"
            ],
            [
             0.5555555555555556,
             "#d8576b"
            ],
            [
             0.6666666666666666,
             "#ed7953"
            ],
            [
             0.7777777777777778,
             "#fb9f3a"
            ],
            [
             0.8888888888888888,
             "#fdca26"
            ],
            [
             1,
             "#f0f921"
            ]
           ],
           "sequentialminus": [
            [
             0,
             "#0d0887"
            ],
            [
             0.1111111111111111,
             "#46039f"
            ],
            [
             0.2222222222222222,
             "#7201a8"
            ],
            [
             0.3333333333333333,
             "#9c179e"
            ],
            [
             0.4444444444444444,
             "#bd3786"
            ],
            [
             0.5555555555555556,
             "#d8576b"
            ],
            [
             0.6666666666666666,
             "#ed7953"
            ],
            [
             0.7777777777777778,
             "#fb9f3a"
            ],
            [
             0.8888888888888888,
             "#fdca26"
            ],
            [
             1,
             "#f0f921"
            ]
           ]
          },
          "colorway": [
           "#636efa",
           "#EF553B",
           "#00cc96",
           "#ab63fa",
           "#FFA15A",
           "#19d3f3",
           "#FF6692",
           "#B6E880",
           "#FF97FF",
           "#FECB52"
          ],
          "font": {
           "color": "#2a3f5f"
          },
          "geo": {
           "bgcolor": "white",
           "lakecolor": "white",
           "landcolor": "#E5ECF6",
           "showlakes": true,
           "showland": true,
           "subunitcolor": "white"
          },
          "hoverlabel": {
           "align": "left"
          },
          "hovermode": "closest",
          "mapbox": {
           "style": "light"
          },
          "paper_bgcolor": "white",
          "plot_bgcolor": "#E5ECF6",
          "polar": {
           "angularaxis": {
            "gridcolor": "white",
            "linecolor": "white",
            "ticks": ""
           },
           "bgcolor": "#E5ECF6",
           "radialaxis": {
            "gridcolor": "white",
            "linecolor": "white",
            "ticks": ""
           }
          },
          "scene": {
           "xaxis": {
            "backgroundcolor": "#E5ECF6",
            "gridcolor": "white",
            "gridwidth": 2,
            "linecolor": "white",
            "showbackground": true,
            "ticks": "",
            "zerolinecolor": "white"
           },
           "yaxis": {
            "backgroundcolor": "#E5ECF6",
            "gridcolor": "white",
            "gridwidth": 2,
            "linecolor": "white",
            "showbackground": true,
            "ticks": "",
            "zerolinecolor": "white"
           },
           "zaxis": {
            "backgroundcolor": "#E5ECF6",
            "gridcolor": "white",
            "gridwidth": 2,
            "linecolor": "white",
            "showbackground": true,
            "ticks": "",
            "zerolinecolor": "white"
           }
          },
          "shapedefaults": {
           "line": {
            "color": "#2a3f5f"
           }
          },
          "ternary": {
           "aaxis": {
            "gridcolor": "white",
            "linecolor": "white",
            "ticks": ""
           },
           "baxis": {
            "gridcolor": "white",
            "linecolor": "white",
            "ticks": ""
           },
           "bgcolor": "#E5ECF6",
           "caxis": {
            "gridcolor": "white",
            "linecolor": "white",
            "ticks": ""
           }
          },
          "title": {
           "x": 0.05
          },
          "xaxis": {
           "automargin": true,
           "gridcolor": "white",
           "linecolor": "white",
           "ticks": "",
           "title": {
            "standoff": 15
           },
           "zerolinecolor": "white",
           "zerolinewidth": 2
          },
          "yaxis": {
           "automargin": true,
           "gridcolor": "white",
           "linecolor": "white",
           "ticks": "",
           "title": {
            "standoff": 15
           },
           "zerolinecolor": "white",
           "zerolinewidth": 2
          }
         }
        },
        "title": {
         "text": "Consumo de cerveja"
        },
        "xaxis": {
         "anchor": "y",
         "autorange": true,
         "categoryarray": [
          0,
          1
         ],
         "categoryorder": "array",
         "domain": [
          0,
          1
         ],
         "range": [
          -0.5,
          1.5
         ],
         "title": {
          "text": " Final de semana"
         },
         "type": "linear"
        },
        "yaxis": {
         "anchor": "x",
         "autorange": true,
         "domain": [
          0,
          1
         ],
         "range": [
          13032.222222222223,
          39247.77777777778
         ],
         "title": {
          "text": "Consumo de cerveja"
         },
         "type": "linear"
        }
       }
      },
      "image/png": "[encoded data removed]",
      "text/html": [
       "<div>                            <div id=\"9047f0bc-5ecc-495b-9fb9-9c9ccab764da\" class=\"plotly-graph-div\" style=\"height:525px; width:100%;\"></div>            <script type=\"text/javascript\">                require([\"plotly\"], function(Plotly) {                    window.PLOTLYENV=window.PLOTLYENV || {};                                    if (document.getElementById(\"9047f0bc-5ecc-495b-9fb9-9c9ccab764da\")) {                    Plotly.newPlot(                        \"9047f0bc-5ecc-495b-9fb9-9c9ccab764da\",                        [{\"alignmentgroup\":\"True\",\"hovertemplate\":\"fds=%{x}<br>consumo=%{y}<extra></extra>\",\"legendgroup\":\"0\",\"marker\":{\"color\":\"#636efa\"},\"name\":\"0\",\"notched\":false,\"offsetgroup\":\"0\",\"orientation\":\"v\",\"quartilemethod\":\"exclusive\",\"showlegend\":true,\"type\":\"box\",\"x\":[0,0,0,0,0,0,0,0,0,0,0,0,0,0,0,0,0,0,0,0,0,0,0,0,0,0,0,0,0,0,0,0,0,0,0,0,0,0,0,0,0,0,0,0,0,0,0,0,0,0,0,0,0,0,0,0,0,0,0,0,0,0,0,0,0,0,0,0,0,0,0,0,0,0,0,0,0,0,0,0,0,0,0,0,0,0,0,0,0,0,0,0,0,0,0,0,0,0,0,0,0,0,0,0,0,0,0,0,0,0,0,0,0,0,0,0,0,0,0,0,0,0,0,0,0,0,0,0,0,0,0,0,0,0,0,0,0,0,0,0,0,0,0,0,0,0,0,0,0,0,0,0,0,0,0,0,0,0,0,0,0,0,0,0,0,0,0,0,0,0,0,0,0,0,0,0,0,0,0,0,0,0,0,0,0,0,0,0,0,0,0,0,0,0,0,0,0,0,0,0,0,0,0,0,0,0,0,0,0,0,0,0,0,0,0,0,0,0,0,0,0,0,0,0,0,0,0,0,0,0,0,0,0,0,0,0,0,0,0,0,0,0,0,0,0,0,0,0,0,0,0,0,0,0,0,0,0,0,0,0,0],\"x0\":\" \",\"xaxis\":\"x\",\"y\":[25461,28972,28900,28218,29732,28397,24886,25743,26990,31825,25724,29938,29265,35127,29130,25795,21784,21520,29972,22603,22696,26845,24097,31655,24738,19950,22821,24062,21137,26805,26389,24219,25343,17399,21392,22922,24567,25692,26959,25366,22784,26241,28749,24146,22988,30300,22654,20016,23042,22933,22409,21281,20903,26275,20167,23628,24213,21406,21617,22401,27989,24974,25850,24925,21979,22116,24867,22356,21004,23362,20298,24862,22620,22001,23469,21735,21593,24304,31108,19113,23198,24388,21838,20812,19761,20452,17939,25317,21826,20680,19143,18146,16956,19052,17287,20300,20538,21073,24215,19525,20786,20429,26075,22162,24258,24683,21245,16228,20106,21055,22772,25142,26150,21327,22008,24615,22375,19119,21029,23898,24534,16748,23022,27146,17241,19463,21860,24863,20161,20824,19727,14940,18448,21237,19849,20740,25698,25640,23937,28742,21748,22032,20620,21825,14343,19029,21104,18975,19640,22522,24227,24726,25867,27724,22039,26127,26580,23181,24183,24594,22610,25479,22541,23070,26021,17655,23243,23210,21092,23357,17888,22217,28441,22389,20681,24222,19345,20227,17075,16977,21525,21454,20464,30775,25343,33930,26311,29829,26362,32589,30345,29411,17731,24114,28034,22664,27488,24679,22304,30329,33182,23849,26249,26523,26793,35861,27387,24000,27871,31139,23065,26594,28084,27582,24862,22634,31649,20648,22741,21479,23134,20575,28456,27964,29569,29267,28647,24609,26964,23614,22960,20332,21662,21689,25119,25285,28979,20238,24529,30471,28405,29513,23375,27713,27137,22933,30740,28131,28617,21062,24337,27042,24834,26828,26468,31572,26308,26095,22309,20467,22446],\"y0\":\" \",\"yaxis\":\"y\"},{\"alignmentgroup\":\"True\",\"hovertemplate\":\"fds=%{x}<br>consumo=%{y}<extra></extra>\",\"legendgroup\":\"1\",\"marker\":{\"color\":\"#EF553B\"},\"name\":\"1\",\"notched\":false,\"offsetgroup\":\"1\",\"orientation\":\"v\",\"quartilemethod\":\"exclusive\",\"showlegend\":true,\"type\":\"box\",\"x\":[1,1,1,1,1,1,1,1,1,1,1,1,1,1,1,1,1,1,1,1,1,1,1,1,1,1,1,1,1,1,1,1,1,1,1,1,1,1,1,1,1,1,1,1,1,1,1,1,1,1,1,1,1,1,1,1,1,1,1,1,1,1,1,1,1,1,1,1,1,1,1,1,1,1,1,1,1,1,1,1,1,1,1,1,1,1,1,1,1,1,1,1,1,1,1,1,1,1,1,1,1,1,1,1],\"x0\":\" \",\"xaxis\":\"x\",\"y\":[30814,29799,37937,36254,37690,30524,28348,31088,27030,32057,28893,29926,30231,24968,30943,30825,26467,27475,29090,24619,28844,32872,28631,25855,29760,26116,33450,32713,30505,25070,33822,28028,27420,30479,25272,28049,25489,23537,23702,28411,27250,31387,25937,26081,31129,30498,29607,32983,23055,28857,24227,27594,24632,21294,26691,33298,24827,32473,20738,25233,32467,31663,31310,33517,29621,26272,30177,27518,31681,31833,21827,23566,21814,21252,31836,34695,29637,32184,24876,24862,33330,34496,32666,22199,27657,26594,35781,24429,24330,28610,26836,29386,30392,31933,34382,30617,32451,32780,29579,29188,32536,30127,21955,32307],\"y0\":\" \",\"yaxis\":\"y\"}],                        {\"boxmode\":\"overlay\",\"font\":{\"color\":\"navy\",\"family\":\"New latin, monospace\",\"size\":16},\"legend\":{\"title\":{\"text\":\"fds\"},\"tracegroupgap\":0},\"margin\":{\"t\":60},\"template\":{\"data\":{\"bar\":[{\"error_x\":{\"color\":\"#2a3f5f\"},\"error_y\":{\"color\":\"#2a3f5f\"},\"marker\":{\"line\":{\"color\":\"#E5ECF6\",\"width\":0.5},\"pattern\":{\"fillmode\":\"overlay\",\"size\":10,\"solidity\":0.2}},\"type\":\"bar\"}],\"barpolar\":[{\"marker\":{\"line\":{\"color\":\"#E5ECF6\",\"width\":0.5},\"pattern\":{\"fillmode\":\"overlay\",\"size\":10,\"solidity\":0.2}},\"type\":\"barpolar\"}],\"carpet\":[{\"aaxis\":{\"endlinecolor\":\"#2a3f5f\",\"gridcolor\":\"white\",\"linecolor\":\"white\",\"minorgridcolor\":\"white\",\"startlinecolor\":\"#2a3f5f\"},\"baxis\":{\"endlinecolor\":\"#2a3f5f\",\"gridcolor\":\"white\",\"linecolor\":\"white\",\"minorgridcolor\":\"white\",\"startlinecolor\":\"#2a3f5f\"},\"type\":\"carpet\"}],\"choropleth\":[{\"colorbar\":{\"outlinewidth\":0,\"ticks\":\"\"},\"type\":\"choropleth\"}],\"contour\":[{\"colorbar\":{\"outlinewidth\":0,\"ticks\":\"\"},\"colorscale\":[[0.0,\"#0d0887\"],[0.1111111111111111,\"#46039f\"],[0.2222222222222222,\"#7201a8\"],[0.3333333333333333,\"#9c179e\"],[0.4444444444444444,\"#bd3786\"],[0.5555555555555556,\"#d8576b\"],[0.6666666666666666,\"#ed7953\"],[0.7777777777777778,\"#fb9f3a\"],[0.8888888888888888,\"#fdca26\"],[1.0,\"#f0f921\"]],\"type\":\"contour\"}],\"contourcarpet\":[{\"colorbar\":{\"outlinewidth\":0,\"ticks\":\"\"},\"type\":\"contourcarpet\"}],\"heatmap\":[{\"colorbar\":{\"outlinewidth\":0,\"ticks\":\"\"},\"colorscale\":[[0.0,\"#0d0887\"],[0.1111111111111111,\"#46039f\"],[0.2222222222222222,\"#7201a8\"],[0.3333333333333333,\"#9c179e\"],[0.4444444444444444,\"#bd3786\"],[0.5555555555555556,\"#d8576b\"],[0.6666666666666666,\"#ed7953\"],[0.7777777777777778,\"#fb9f3a\"],[0.8888888888888888,\"#fdca26\"],[1.0,\"#f0f921\"]],\"type\":\"heatmap\"}],\"heatmapgl\":[{\"colorbar\":{\"outlinewidth\":0,\"ticks\":\"\"},\"colorscale\":[[0.0,\"#0d0887\"],[0.1111111111111111,\"#46039f\"],[0.2222222222222222,\"#7201a8\"],[0.3333333333333333,\"#9c179e\"],[0.4444444444444444,\"#bd3786\"],[0.5555555555555556,\"#d8576b\"],[0.6666666666666666,\"#ed7953\"],[0.7777777777777778,\"#fb9f3a\"],[0.8888888888888888,\"#fdca26\"],[1.0,\"#f0f921\"]],\"type\":\"heatmapgl\"}],\"histogram\":[{\"marker\":{\"pattern\":{\"fillmode\":\"overlay\",\"size\":10,\"solidity\":0.2}},\"type\":\"histogram\"}],\"histogram2d\":[{\"colorbar\":{\"outlinewidth\":0,\"ticks\":\"\"},\"colorscale\":[[0.0,\"#0d0887\"],[0.1111111111111111,\"#46039f\"],[0.2222222222222222,\"#7201a8\"],[0.3333333333333333,\"#9c179e\"],[0.4444444444444444,\"#bd3786\"],[0.5555555555555556,\"#d8576b\"],[0.6666666666666666,\"#ed7953\"],[0.7777777777777778,\"#fb9f3a\"],[0.8888888888888888,\"#fdca26\"],[1.0,\"#f0f921\"]],\"type\":\"histogram2d\"}],\"histogram2dcontour\":[{\"colorbar\":{\"outlinewidth\":0,\"ticks\":\"\"},\"colorscale\":[[0.0,\"#0d0887\"],[0.1111111111111111,\"#46039f\"],[0.2222222222222222,\"#7201a8\"],[0.3333333333333333,\"#9c179e\"],[0.4444444444444444,\"#bd3786\"],[0.5555555555555556,\"#d8576b\"],[0.6666666666666666,\"#ed7953\"],[0.7777777777777778,\"#fb9f3a\"],[0.8888888888888888,\"#fdca26\"],[1.0,\"#f0f921\"]],\"type\":\"histogram2dcontour\"}],\"mesh3d\":[{\"colorbar\":{\"outlinewidth\":0,\"ticks\":\"\"},\"type\":\"mesh3d\"}],\"parcoords\":[{\"line\":{\"colorbar\":{\"outlinewidth\":0,\"ticks\":\"\"}},\"type\":\"parcoords\"}],\"pie\":[{\"automargin\":true,\"type\":\"pie\"}],\"scatter\":[{\"marker\":{\"colorbar\":{\"outlinewidth\":0,\"ticks\":\"\"}},\"type\":\"scatter\"}],\"scatter3d\":[{\"line\":{\"colorbar\":{\"outlinewidth\":0,\"ticks\":\"\"}},\"marker\":{\"colorbar\":{\"outlinewidth\":0,\"ticks\":\"\"}},\"type\":\"scatter3d\"}],\"scattercarpet\":[{\"marker\":{\"colorbar\":{\"outlinewidth\":0,\"ticks\":\"\"}},\"type\":\"scattercarpet\"}],\"scattergeo\":[{\"marker\":{\"colorbar\":{\"outlinewidth\":0,\"ticks\":\"\"}},\"type\":\"scattergeo\"}],\"scattergl\":[{\"marker\":{\"colorbar\":{\"outlinewidth\":0,\"ticks\":\"\"}},\"type\":\"scattergl\"}],\"scattermapbox\":[{\"marker\":{\"colorbar\":{\"outlinewidth\":0,\"ticks\":\"\"}},\"type\":\"scattermapbox\"}],\"scatterpolar\":[{\"marker\":{\"colorbar\":{\"outlinewidth\":0,\"ticks\":\"\"}},\"type\":\"scatterpolar\"}],\"scatterpolargl\":[{\"marker\":{\"colorbar\":{\"outlinewidth\":0,\"ticks\":\"\"}},\"type\":\"scatterpolargl\"}],\"scatterternary\":[{\"marker\":{\"colorbar\":{\"outlinewidth\":0,\"ticks\":\"\"}},\"type\":\"scatterternary\"}],\"surface\":[{\"colorbar\":{\"outlinewidth\":0,\"ticks\":\"\"},\"colorscale\":[[0.0,\"#0d0887\"],[0.1111111111111111,\"#46039f\"],[0.2222222222222222,\"#7201a8\"],[0.3333333333333333,\"#9c179e\"],[0.4444444444444444,\"#bd3786\"],[0.5555555555555556,\"#d8576b\"],[0.6666666666666666,\"#ed7953\"],[0.7777777777777778,\"#fb9f3a\"],[0.8888888888888888,\"#fdca26\"],[1.0,\"#f0f921\"]],\"type\":\"surface\"}],\"table\":[{\"cells\":{\"fill\":{\"color\":\"#EBF0F8\"},\"line\":{\"color\":\"white\"}},\"header\":{\"fill\":{\"color\":\"#C8D4E3\"},\"line\":{\"color\":\"white\"}},\"type\":\"table\"}]},\"layout\":{\"annotationdefaults\":{\"arrowcolor\":\"#2a3f5f\",\"arrowhead\":0,\"arrowwidth\":1},\"autotypenumbers\":\"strict\",\"coloraxis\":{\"colorbar\":{\"outlinewidth\":0,\"ticks\":\"\"}},\"colorscale\":{\"diverging\":[[0,\"#8e0152\"],[0.1,\"#c51b7d\"],[0.2,\"#de77ae\"],[0.3,\"#f1b6da\"],[0.4,\"#fde0ef\"],[0.5,\"#f7f7f7\"],[0.6,\"#e6f5d0\"],[0.7,\"#b8e186\"],[0.8,\"#7fbc41\"],[0.9,\"#4d9221\"],[1,\"#276419\"]],\"sequential\":[[0.0,\"#0d0887\"],[0.1111111111111111,\"#46039f\"],[0.2222222222222222,\"#7201a8\"],[0.3333333333333333,\"#9c179e\"],[0.4444444444444444,\"#bd3786\"],[0.5555555555555556,\"#d8576b\"],[0.6666666666666666,\"#ed7953\"],[0.7777777777777778,\"#fb9f3a\"],[0.8888888888888888,\"#fdca26\"],[1.0,\"#f0f921\"]],\"sequentialminus\":[[0.0,\"#0d0887\"],[0.1111111111111111,\"#46039f\"],[0.2222222222222222,\"#7201a8\"],[0.3333333333333333,\"#9c179e\"],[0.4444444444444444,\"#bd3786\"],[0.5555555555555556,\"#d8576b\"],[0.6666666666666666,\"#ed7953\"],[0.7777777777777778,\"#fb9f3a\"],[0.8888888888888888,\"#fdca26\"],[1.0,\"#f0f921\"]]},\"colorway\":[\"#636efa\",\"#EF553B\",\"#00cc96\",\"#ab63fa\",\"#FFA15A\",\"#19d3f3\",\"#FF6692\",\"#B6E880\",\"#FF97FF\",\"#FECB52\"],\"font\":{\"color\":\"#2a3f5f\"},\"geo\":{\"bgcolor\":\"white\",\"lakecolor\":\"white\",\"landcolor\":\"#E5ECF6\",\"showlakes\":true,\"showland\":true,\"subunitcolor\":\"white\"},\"hoverlabel\":{\"align\":\"left\"},\"hovermode\":\"closest\",\"mapbox\":{\"style\":\"light\"},\"paper_bgcolor\":\"white\",\"plot_bgcolor\":\"#E5ECF6\",\"polar\":{\"angularaxis\":{\"gridcolor\":\"white\",\"linecolor\":\"white\",\"ticks\":\"\"},\"bgcolor\":\"#E5ECF6\",\"radialaxis\":{\"gridcolor\":\"white\",\"linecolor\":\"white\",\"ticks\":\"\"}},\"scene\":{\"xaxis\":{\"backgroundcolor\":\"#E5ECF6\",\"gridcolor\":\"white\",\"gridwidth\":2,\"linecolor\":\"white\",\"showbackground\":true,\"ticks\":\"\",\"zerolinecolor\":\"white\"},\"yaxis\":{\"backgroundcolor\":\"#E5ECF6\",\"gridcolor\":\"white\",\"gridwidth\":2,\"linecolor\":\"white\",\"showbackground\":true,\"ticks\":\"\",\"zerolinecolor\":\"white\"},\"zaxis\":{\"backgroundcolor\":\"#E5ECF6\",\"gridcolor\":\"white\",\"gridwidth\":2,\"linecolor\":\"white\",\"showbackground\":true,\"ticks\":\"\",\"zerolinecolor\":\"white\"}},\"shapedefaults\":{\"line\":{\"color\":\"#2a3f5f\"}},\"ternary\":{\"aaxis\":{\"gridcolor\":\"white\",\"linecolor\":\"white\",\"ticks\":\"\"},\"baxis\":{\"gridcolor\":\"white\",\"linecolor\":\"white\",\"ticks\":\"\"},\"bgcolor\":\"#E5ECF6\",\"caxis\":{\"gridcolor\":\"white\",\"linecolor\":\"white\",\"ticks\":\"\"}},\"title\":{\"x\":0.05},\"xaxis\":{\"automargin\":true,\"gridcolor\":\"white\",\"linecolor\":\"white\",\"ticks\":\"\",\"title\":{\"standoff\":15},\"zerolinecolor\":\"white\",\"zerolinewidth\":2},\"yaxis\":{\"automargin\":true,\"gridcolor\":\"white\",\"linecolor\":\"white\",\"ticks\":\"\",\"title\":{\"standoff\":15},\"zerolinecolor\":\"white\",\"zerolinewidth\":2}}},\"title\":{\"text\":\"Consumo de cerveja\"},\"xaxis\":{\"anchor\":\"y\",\"categoryarray\":[0,1],\"categoryorder\":\"array\",\"domain\":[0.0,1.0],\"title\":{\"text\":\" Final de semana\"}},\"yaxis\":{\"anchor\":\"x\",\"domain\":[0.0,1.0],\"title\":{\"text\":\"Consumo de cerveja\"}}},                        {\"responsive\": true}                    ).then(function(){\n",
       "                            \n",
       "var gd = document.getElementById('9047f0bc-5ecc-495b-9fb9-9c9ccab764da');\n",
       "var x = new MutationObserver(function (mutations, observer) {{\n",
       "        var display = window.getComputedStyle(gd).display;\n",
       "        if (!display || display === 'none') {{\n",
       "            console.log([gd, 'removed!']);\n",
       "            Plotly.purge(gd);\n",
       "            observer.disconnect();\n",
       "        }}\n",
       "}});\n",
       "\n",
       "// Listen for the removal of the full notebook cells\n",
       "var notebookContainer = gd.closest('#notebook-container');\n",
       "if (notebookContainer) {{\n",
       "    x.observe(notebookContainer, {childList: true});\n",
       "}}\n",
       "\n",
       "// Listen for the clearing of the current output cell\n",
       "var outputEl = gd.closest('.output');\n",
       "if (outputEl) {{\n",
       "    x.observe(outputEl, {childList: true});\n",
       "}}\n",
       "\n",
       "                        })                };                });            </script>        </div>"
      ]
     },
     "metadata": {},
     "output_type": "display_data"
    }
   ],
   "source": [
    "# criando o boxplot de comparação\n",
    "fig = px.box(cerveja, x=\"fds\", y=\"consumo\", color=\"fds\")\n",
    "fig.update_traces(quartilemethod=\"exclusive\") # or \"inclusive\", or \"linear\" by default\n",
    "\n",
    "# ajustando o layout\n",
    "fig.update_layout(\n",
    "    title=\"Consumo de cerveja\",\n",
    "    xaxis_title=\" Final de semana\",\n",
    "    yaxis_title=\"Consumo de cerveja\",\n",
    "    font=dict(family=\"New latin, monospace\", size=16, color=\"navy\"),\n",
    "#     legend=dict(x=1.5, y=1.5)\n",
    ")\n",
    "\n",
    "fig.show()"
   ]
  },
  {
   "cell_type": "markdown",
   "id": "69c36d81-3647-44c5-8f0b-10177ea63b94",
   "metadata": {},
   "source": [
    "Assim, pode-se perceber que o consumo de cerveja é maior no final de semana.\n",
    "\n",
    "### Consumo de cerveja x mês"
   ]
  },
  {
   "cell_type": "code",
   "execution_count": 198,
   "id": "f3d97183-a8fc-4d9f-845b-700bf66cddd1",
   "metadata": {},
   "outputs": [
    {
     "data": {
      "text/html": [
       "<div>\n",
       "<style scoped>\n",
       "    .dataframe tbody tr th:only-of-type {\n",
       "        vertical-align: middle;\n",
       "    }\n",
       "\n",
       "    .dataframe tbody tr th {\n",
       "        vertical-align: top;\n",
       "    }\n",
       "\n",
       "    .dataframe thead th {\n",
       "        text-align: right;\n",
       "    }\n",
       "</style>\n",
       "<table border=\"1\" class=\"dataframe\">\n",
       "  <thead>\n",
       "    <tr style=\"text-align: right;\">\n",
       "      <th></th>\n",
       "      <th>temp_media</th>\n",
       "      <th>temp_min</th>\n",
       "      <th>temp_max</th>\n",
       "      <th>chuva</th>\n",
       "      <th>fds</th>\n",
       "      <th>consumo</th>\n",
       "    </tr>\n",
       "    <tr>\n",
       "      <th>data</th>\n",
       "      <th></th>\n",
       "      <th></th>\n",
       "      <th></th>\n",
       "      <th></th>\n",
       "      <th></th>\n",
       "      <th></th>\n",
       "    </tr>\n",
       "  </thead>\n",
       "  <tbody>\n",
       "    <tr>\n",
       "      <th>Janeiro</th>\n",
       "      <td>23.314194</td>\n",
       "      <td>19.564516</td>\n",
       "      <td>28.854839</td>\n",
       "      <td>4.077419</td>\n",
       "      <td>0.290323</td>\n",
       "      <td>26526.935484</td>\n",
       "    </tr>\n",
       "    <tr>\n",
       "      <th>Fevereiro</th>\n",
       "      <td>22.522857</td>\n",
       "      <td>19.082143</td>\n",
       "      <td>28.164286</td>\n",
       "      <td>8.028571</td>\n",
       "      <td>0.250000</td>\n",
       "      <td>25225.285714</td>\n",
       "    </tr>\n",
       "    <tr>\n",
       "      <th>Março</th>\n",
       "      <td>21.608387</td>\n",
       "      <td>18.235484</td>\n",
       "      <td>26.632258</td>\n",
       "      <td>5.570968</td>\n",
       "      <td>0.290323</td>\n",
       "      <td>25140.129032</td>\n",
       "    </tr>\n",
       "    <tr>\n",
       "      <th>Abril</th>\n",
       "      <td>20.750667</td>\n",
       "      <td>17.743333</td>\n",
       "      <td>25.640000</td>\n",
       "      <td>4.273333</td>\n",
       "      <td>0.266667</td>\n",
       "      <td>24758.666667</td>\n",
       "    </tr>\n",
       "    <tr>\n",
       "      <th>Maio</th>\n",
       "      <td>19.381935</td>\n",
       "      <td>16.329032</td>\n",
       "      <td>23.667742</td>\n",
       "      <td>2.558065</td>\n",
       "      <td>0.322581</td>\n",
       "      <td>24180.612903</td>\n",
       "    </tr>\n",
       "  </tbody>\n",
       "</table>\n",
       "</div>"
      ],
      "text/plain": [
       "           temp_media   temp_min   temp_max     chuva       fds       consumo\n",
       "data                                                                         \n",
       "Janeiro     23.314194  19.564516  28.854839  4.077419  0.290323  26526.935484\n",
       "Fevereiro   22.522857  19.082143  28.164286  8.028571  0.250000  25225.285714\n",
       "Março       21.608387  18.235484  26.632258  5.570968  0.290323  25140.129032\n",
       "Abril       20.750667  17.743333  25.640000  4.273333  0.266667  24758.666667\n",
       "Maio        19.381935  16.329032  23.667742  2.558065  0.322581  24180.612903"
      ]
     },
     "execution_count": 198,
     "metadata": {},
     "output_type": "execute_result"
    }
   ],
   "source": [
    "cerveja_mes = cerveja.groupby(cerveja.index.month).mean()\n",
    "\n",
    "nomes = {\n",
    "     1:'Janeiro',\n",
    "     2:'Fevereiro',\n",
    "     3:'Março',\n",
    "     4:'Abril',\n",
    "     5:'Maio',\n",
    "     6:'Junho',\n",
    "     7:'Julho',\n",
    "     8:'Agosto',\n",
    "     9:'Setembro',\n",
    "    10:'Outubro',\n",
    "    11:'Novembro',\n",
    "    12:'Dezembro',\n",
    "    13:'Janeiro'\n",
    "}\n",
    "\n",
    "cerveja_mes.rename(index=nomes, inplace=True)\n",
    "cerveja_mes.head()"
   ]
  },
  {
   "cell_type": "code",
   "execution_count": 199,
   "id": "fc348856-131d-4b31-93c3-dcd9ff9f4996",
   "metadata": {},
   "outputs": [
    {
     "data": {
      "application/vnd.plotly.v1+json": {
       "config": {
        "plotlyServerURL": "https://plot.ly"
       },
       "data": [
        {
         "alignmentgroup": "True",
         "hovertemplate": "data=%{x}<br>consumo=%{y}<extra></extra>",
         "legendgroup": "",
         "marker": {
          "color": "#636efa",
          "pattern": {
           "shape": ""
          }
         },
         "name": "",
         "offsetgroup": "",
         "orientation": "v",
         "showlegend": false,
         "textposition": "auto",
         "type": "bar",
         "x": [
          "Janeiro",
          "Fevereiro",
          "Março",
          "Abril",
          "Maio",
          "Junho",
          "Julho",
          "Agosto",
          "Setembro",
          "Outubro",
          "Novembro",
          "Dezembro"
         ],
         "xaxis": "x",
         "y": [
          26526.935483870966,
          25225.285714285714,
          25140.129032258064,
          24758.666666666668,
          24180.612903225807,
          23902.166666666668,
          23768.354838709678,
          25234.354838709678,
          26386.533333333333,
          26970.8064516129,
          26628.166666666668,
          26079.612903225807
         ],
         "yaxis": "y"
        }
       ],
       "layout": {
        "autosize": true,
        "barmode": "relative",
        "font": {
         "color": "navy",
         "family": "New latin, monospace",
         "size": 16
        },
        "legend": {
         "tracegroupgap": 0
        },
        "margin": {
         "t": 60
        },
        "template": {
         "data": {
          "bar": [
           {
            "error_x": {
             "color": "#2a3f5f"
            },
            "error_y": {
             "color": "#2a3f5f"
            },
            "marker": {
             "line": {
              "color": "#E5ECF6",
              "width": 0.5
             },
             "pattern": {
              "fillmode": "overlay",
              "size": 10,
              "solidity": 0.2
             }
            },
            "type": "bar"
           }
          ],
          "barpolar": [
           {
            "marker": {
             "line": {
              "color": "#E5ECF6",
              "width": 0.5
             },
             "pattern": {
              "fillmode": "overlay",
              "size": 10,
              "solidity": 0.2
             }
            },
            "type": "barpolar"
           }
          ],
          "carpet": [
           {
            "aaxis": {
             "endlinecolor": "#2a3f5f",
             "gridcolor": "white",
             "linecolor": "white",
             "minorgridcolor": "white",
             "startlinecolor": "#2a3f5f"
            },
            "baxis": {
             "endlinecolor": "#2a3f5f",
             "gridcolor": "white",
             "linecolor": "white",
             "minorgridcolor": "white",
             "startlinecolor": "#2a3f5f"
            },
            "type": "carpet"
           }
          ],
          "choropleth": [
           {
            "colorbar": {
             "outlinewidth": 0,
             "ticks": ""
            },
            "type": "choropleth"
           }
          ],
          "contour": [
           {
            "colorbar": {
             "outlinewidth": 0,
             "ticks": ""
            },
            "colorscale": [
             [
              0,
              "#0d0887"
             ],
             [
              0.1111111111111111,
              "#46039f"
             ],
             [
              0.2222222222222222,
              "#7201a8"
             ],
             [
              0.3333333333333333,
              "#9c179e"
             ],
             [
              0.4444444444444444,
              "#bd3786"
             ],
             [
              0.5555555555555556,
              "#d8576b"
             ],
             [
              0.6666666666666666,
              "#ed7953"
             ],
             [
              0.7777777777777778,
              "#fb9f3a"
             ],
             [
              0.8888888888888888,
              "#fdca26"
             ],
             [
              1,
              "#f0f921"
             ]
            ],
            "type": "contour"
           }
          ],
          "contourcarpet": [
           {
            "colorbar": {
             "outlinewidth": 0,
             "ticks": ""
            },
            "type": "contourcarpet"
           }
          ],
          "heatmap": [
           {
            "colorbar": {
             "outlinewidth": 0,
             "ticks": ""
            },
            "colorscale": [
             [
              0,
              "#0d0887"
             ],
             [
              0.1111111111111111,
              "#46039f"
             ],
             [
              0.2222222222222222,
              "#7201a8"
             ],
             [
              0.3333333333333333,
              "#9c179e"
             ],
             [
              0.4444444444444444,
              "#bd3786"
             ],
             [
              0.5555555555555556,
              "#d8576b"
             ],
             [
              0.6666666666666666,
              "#ed7953"
             ],
             [
              0.7777777777777778,
              "#fb9f3a"
             ],
             [
              0.8888888888888888,
              "#fdca26"
             ],
             [
              1,
              "#f0f921"
             ]
            ],
            "type": "heatmap"
           }
          ],
          "heatmapgl": [
           {
            "colorbar": {
             "outlinewidth": 0,
             "ticks": ""
            },
            "colorscale": [
             [
              0,
              "#0d0887"
             ],
             [
              0.1111111111111111,
              "#46039f"
             ],
             [
              0.2222222222222222,
              "#7201a8"
             ],
             [
              0.3333333333333333,
              "#9c179e"
             ],
             [
              0.4444444444444444,
              "#bd3786"
             ],
             [
              0.5555555555555556,
              "#d8576b"
             ],
             [
              0.6666666666666666,
              "#ed7953"
             ],
             [
              0.7777777777777778,
              "#fb9f3a"
             ],
             [
              0.8888888888888888,
              "#fdca26"
             ],
             [
              1,
              "#f0f921"
             ]
            ],
            "type": "heatmapgl"
           }
          ],
          "histogram": [
           {
            "marker": {
             "pattern": {
              "fillmode": "overlay",
              "size": 10,
              "solidity": 0.2
             }
            },
            "type": "histogram"
           }
          ],
          "histogram2d": [
           {
            "colorbar": {
             "outlinewidth": 0,
             "ticks": ""
            },
            "colorscale": [
             [
              0,
              "#0d0887"
             ],
             [
              0.1111111111111111,
              "#46039f"
             ],
             [
              0.2222222222222222,
              "#7201a8"
             ],
             [
              0.3333333333333333,
              "#9c179e"
             ],
             [
              0.4444444444444444,
              "#bd3786"
             ],
             [
              0.5555555555555556,
              "#d8576b"
             ],
             [
              0.6666666666666666,
              "#ed7953"
             ],
             [
              0.7777777777777778,
              "#fb9f3a"
             ],
             [
              0.8888888888888888,
              "#fdca26"
             ],
             [
              1,
              "#f0f921"
             ]
            ],
            "type": "histogram2d"
           }
          ],
          "histogram2dcontour": [
           {
            "colorbar": {
             "outlinewidth": 0,
             "ticks": ""
            },
            "colorscale": [
             [
              0,
              "#0d0887"
             ],
             [
              0.1111111111111111,
              "#46039f"
             ],
             [
              0.2222222222222222,
              "#7201a8"
             ],
             [
              0.3333333333333333,
              "#9c179e"
             ],
             [
              0.4444444444444444,
              "#bd3786"
             ],
             [
              0.5555555555555556,
              "#d8576b"
             ],
             [
              0.6666666666666666,
              "#ed7953"
             ],
             [
              0.7777777777777778,
              "#fb9f3a"
             ],
             [
              0.8888888888888888,
              "#fdca26"
             ],
             [
              1,
              "#f0f921"
             ]
            ],
            "type": "histogram2dcontour"
           }
          ],
          "mesh3d": [
           {
            "colorbar": {
             "outlinewidth": 0,
             "ticks": ""
            },
            "type": "mesh3d"
           }
          ],
          "parcoords": [
           {
            "line": {
             "colorbar": {
              "outlinewidth": 0,
              "ticks": ""
             }
            },
            "type": "parcoords"
           }
          ],
          "pie": [
           {
            "automargin": true,
            "type": "pie"
           }
          ],
          "scatter": [
           {
            "marker": {
             "colorbar": {
              "outlinewidth": 0,
              "ticks": ""
             }
            },
            "type": "scatter"
           }
          ],
          "scatter3d": [
           {
            "line": {
             "colorbar": {
              "outlinewidth": 0,
              "ticks": ""
             }
            },
            "marker": {
             "colorbar": {
              "outlinewidth": 0,
              "ticks": ""
             }
            },
            "type": "scatter3d"
           }
          ],
          "scattercarpet": [
           {
            "marker": {
             "colorbar": {
              "outlinewidth": 0,
              "ticks": ""
             }
            },
            "type": "scattercarpet"
           }
          ],
          "scattergeo": [
           {
            "marker": {
             "colorbar": {
              "outlinewidth": 0,
              "ticks": ""
             }
            },
            "type": "scattergeo"
           }
          ],
          "scattergl": [
           {
            "marker": {
             "colorbar": {
              "outlinewidth": 0,
              "ticks": ""
             }
            },
            "type": "scattergl"
           }
          ],
          "scattermapbox": [
           {
            "marker": {
             "colorbar": {
              "outlinewidth": 0,
              "ticks": ""
             }
            },
            "type": "scattermapbox"
           }
          ],
          "scatterpolar": [
           {
            "marker": {
             "colorbar": {
              "outlinewidth": 0,
              "ticks": ""
             }
            },
            "type": "scatterpolar"
           }
          ],
          "scatterpolargl": [
           {
            "marker": {
             "colorbar": {
              "outlinewidth": 0,
              "ticks": ""
             }
            },
            "type": "scatterpolargl"
           }
          ],
          "scatterternary": [
           {
            "marker": {
             "colorbar": {
              "outlinewidth": 0,
              "ticks": ""
             }
            },
            "type": "scatterternary"
           }
          ],
          "surface": [
           {
            "colorbar": {
             "outlinewidth": 0,
             "ticks": ""
            },
            "colorscale": [
             [
              0,
              "#0d0887"
             ],
             [
              0.1111111111111111,
              "#46039f"
             ],
             [
              0.2222222222222222,
              "#7201a8"
             ],
             [
              0.3333333333333333,
              "#9c179e"
             ],
             [
              0.4444444444444444,
              "#bd3786"
             ],
             [
              0.5555555555555556,
              "#d8576b"
             ],
             [
              0.6666666666666666,
              "#ed7953"
             ],
             [
              0.7777777777777778,
              "#fb9f3a"
             ],
             [
              0.8888888888888888,
              "#fdca26"
             ],
             [
              1,
              "#f0f921"
             ]
            ],
            "type": "surface"
           }
          ],
          "table": [
           {
            "cells": {
             "fill": {
              "color": "#EBF0F8"
             },
             "line": {
              "color": "white"
             }
            },
            "header": {
             "fill": {
              "color": "#C8D4E3"
             },
             "line": {
              "color": "white"
             }
            },
            "type": "table"
           }
          ]
         },
         "layout": {
          "annotationdefaults": {
           "arrowcolor": "#2a3f5f",
           "arrowhead": 0,
           "arrowwidth": 1
          },
          "autotypenumbers": "strict",
          "coloraxis": {
           "colorbar": {
            "outlinewidth": 0,
            "ticks": ""
           }
          },
          "colorscale": {
           "diverging": [
            [
             0,
             "#8e0152"
            ],
            [
             0.1,
             "#c51b7d"
            ],
            [
             0.2,
             "#de77ae"
            ],
            [
             0.3,
             "#f1b6da"
            ],
            [
             0.4,
             "#fde0ef"
            ],
            [
             0.5,
             "#f7f7f7"
            ],
            [
             0.6,
             "#e6f5d0"
            ],
            [
             0.7,
             "#b8e186"
            ],
            [
             0.8,
             "#7fbc41"
            ],
            [
             0.9,
             "#4d9221"
            ],
            [
             1,
             "#276419"
            ]
           ],
           "sequential": [
            [
             0,
             "#0d0887"
            ],
            [
             0.1111111111111111,
             "#46039f"
            ],
            [
             0.2222222222222222,
             "#7201a8"
            ],
            [
             0.3333333333333333,
             "#9c179e"
            ],
            [
             0.4444444444444444,
             "#bd3786"
            ],
            [
             0.5555555555555556,
             "#d8576b"
            ],
            [
             0.6666666666666666,
             "#ed7953"
            ],
            [
             0.7777777777777778,
             "#fb9f3a"
            ],
            [
             0.8888888888888888,
             "#fdca26"
            ],
            [
             1,
             "#f0f921"
            ]
           ],
           "sequentialminus": [
            [
             0,
             "#0d0887"
            ],
            [
             0.1111111111111111,
             "#46039f"
            ],
            [
             0.2222222222222222,
             "#7201a8"
            ],
            [
             0.3333333333333333,
             "#9c179e"
            ],
            [
             0.4444444444444444,
             "#bd3786"
            ],
            [
             0.5555555555555556,
             "#d8576b"
            ],
            [
             0.6666666666666666,
             "#ed7953"
            ],
            [
             0.7777777777777778,
             "#fb9f3a"
            ],
            [
             0.8888888888888888,
             "#fdca26"
            ],
            [
             1,
             "#f0f921"
            ]
           ]
          },
          "colorway": [
           "#636efa",
           "#EF553B",
           "#00cc96",
           "#ab63fa",
           "#FFA15A",
           "#19d3f3",
           "#FF6692",
           "#B6E880",
           "#FF97FF",
           "#FECB52"
          ],
          "font": {
           "color": "#2a3f5f"
          },
          "geo": {
           "bgcolor": "white",
           "lakecolor": "white",
           "landcolor": "#E5ECF6",
           "showlakes": true,
           "showland": true,
           "subunitcolor": "white"
          },
          "hoverlabel": {
           "align": "left"
          },
          "hovermode": "closest",
          "mapbox": {
           "style": "light"
          },
          "paper_bgcolor": "white",
          "plot_bgcolor": "#E5ECF6",
          "polar": {
           "angularaxis": {
            "gridcolor": "white",
            "linecolor": "white",
            "ticks": ""
           },
           "bgcolor": "#E5ECF6",
           "radialaxis": {
            "gridcolor": "white",
            "linecolor": "white",
            "ticks": ""
           }
          },
          "scene": {
           "xaxis": {
            "backgroundcolor": "#E5ECF6",
            "gridcolor": "white",
            "gridwidth": 2,
            "linecolor": "white",
            "showbackground": true,
            "ticks": "",
            "zerolinecolor": "white"
           },
           "yaxis": {
            "backgroundcolor": "#E5ECF6",
            "gridcolor": "white",
            "gridwidth": 2,
            "linecolor": "white",
            "showbackground": true,
            "ticks": "",
            "zerolinecolor": "white"
           },
           "zaxis": {
            "backgroundcolor": "#E5ECF6",
            "gridcolor": "white",
            "gridwidth": 2,
            "linecolor": "white",
            "showbackground": true,
            "ticks": "",
            "zerolinecolor": "white"
           }
          },
          "shapedefaults": {
           "line": {
            "color": "#2a3f5f"
           }
          },
          "ternary": {
           "aaxis": {
            "gridcolor": "white",
            "linecolor": "white",
            "ticks": ""
           },
           "baxis": {
            "gridcolor": "white",
            "linecolor": "white",
            "ticks": ""
           },
           "bgcolor": "#E5ECF6",
           "caxis": {
            "gridcolor": "white",
            "linecolor": "white",
            "ticks": ""
           }
          },
          "title": {
           "x": 0.05
          },
          "xaxis": {
           "automargin": true,
           "gridcolor": "white",
           "linecolor": "white",
           "ticks": "",
           "title": {
            "standoff": 15
           },
           "zerolinecolor": "white",
           "zerolinewidth": 2
          },
          "yaxis": {
           "automargin": true,
           "gridcolor": "white",
           "linecolor": "white",
           "ticks": "",
           "title": {
            "standoff": 15
           },
           "zerolinecolor": "white",
           "zerolinewidth": 2
          }
         }
        },
        "title": {
         "text": "Consumo médio de cerveja mensal"
        },
        "xaxis": {
         "anchor": "y",
         "autorange": true,
         "domain": [
          0,
          1
         ],
         "range": [
          -0.5,
          11.5
         ],
         "title": {
          "text": " Meses"
         },
         "type": "category"
        },
        "yaxis": {
         "anchor": "x",
         "autorange": true,
         "domain": [
          0,
          1
         ],
         "range": [
          0,
          28390.32258064516
         ],
         "title": {
          "text": "Consumo de cerveja"
         },
         "type": "linear"
        }
       }
      },
      "image/png": "[encoded data removed]",
      "text/html": [
       "<div>                            <div id=\"734b98d5-ba31-4ec3-8a1b-2fd856e0b8ff\" class=\"plotly-graph-div\" style=\"height:525px; width:100%;\"></div>            <script type=\"text/javascript\">                require([\"plotly\"], function(Plotly) {                    window.PLOTLYENV=window.PLOTLYENV || {};                                    if (document.getElementById(\"734b98d5-ba31-4ec3-8a1b-2fd856e0b8ff\")) {                    Plotly.newPlot(                        \"734b98d5-ba31-4ec3-8a1b-2fd856e0b8ff\",                        [{\"alignmentgroup\":\"True\",\"hovertemplate\":\"data=%{x}<br>consumo=%{y}<extra></extra>\",\"legendgroup\":\"\",\"marker\":{\"color\":\"#636efa\",\"pattern\":{\"shape\":\"\"}},\"name\":\"\",\"offsetgroup\":\"\",\"orientation\":\"v\",\"showlegend\":false,\"textposition\":\"auto\",\"type\":\"bar\",\"x\":[\"Janeiro\",\"Fevereiro\",\"Mar\\u00e7o\",\"Abril\",\"Maio\",\"Junho\",\"Julho\",\"Agosto\",\"Setembro\",\"Outubro\",\"Novembro\",\"Dezembro\"],\"xaxis\":\"x\",\"y\":[26526.935483870966,25225.285714285714,25140.129032258064,24758.666666666668,24180.612903225807,23902.166666666668,23768.354838709678,25234.354838709678,26386.533333333333,26970.8064516129,26628.166666666668,26079.612903225807],\"yaxis\":\"y\"}],                        {\"barmode\":\"relative\",\"font\":{\"color\":\"navy\",\"family\":\"New latin, monospace\",\"size\":16},\"legend\":{\"tracegroupgap\":0},\"margin\":{\"t\":60},\"template\":{\"data\":{\"bar\":[{\"error_x\":{\"color\":\"#2a3f5f\"},\"error_y\":{\"color\":\"#2a3f5f\"},\"marker\":{\"line\":{\"color\":\"#E5ECF6\",\"width\":0.5},\"pattern\":{\"fillmode\":\"overlay\",\"size\":10,\"solidity\":0.2}},\"type\":\"bar\"}],\"barpolar\":[{\"marker\":{\"line\":{\"color\":\"#E5ECF6\",\"width\":0.5},\"pattern\":{\"fillmode\":\"overlay\",\"size\":10,\"solidity\":0.2}},\"type\":\"barpolar\"}],\"carpet\":[{\"aaxis\":{\"endlinecolor\":\"#2a3f5f\",\"gridcolor\":\"white\",\"linecolor\":\"white\",\"minorgridcolor\":\"white\",\"startlinecolor\":\"#2a3f5f\"},\"baxis\":{\"endlinecolor\":\"#2a3f5f\",\"gridcolor\":\"white\",\"linecolor\":\"white\",\"minorgridcolor\":\"white\",\"startlinecolor\":\"#2a3f5f\"},\"type\":\"carpet\"}],\"choropleth\":[{\"colorbar\":{\"outlinewidth\":0,\"ticks\":\"\"},\"type\":\"choropleth\"}],\"contour\":[{\"colorbar\":{\"outlinewidth\":0,\"ticks\":\"\"},\"colorscale\":[[0.0,\"#0d0887\"],[0.1111111111111111,\"#46039f\"],[0.2222222222222222,\"#7201a8\"],[0.3333333333333333,\"#9c179e\"],[0.4444444444444444,\"#bd3786\"],[0.5555555555555556,\"#d8576b\"],[0.6666666666666666,\"#ed7953\"],[0.7777777777777778,\"#fb9f3a\"],[0.8888888888888888,\"#fdca26\"],[1.0,\"#f0f921\"]],\"type\":\"contour\"}],\"contourcarpet\":[{\"colorbar\":{\"outlinewidth\":0,\"ticks\":\"\"},\"type\":\"contourcarpet\"}],\"heatmap\":[{\"colorbar\":{\"outlinewidth\":0,\"ticks\":\"\"},\"colorscale\":[[0.0,\"#0d0887\"],[0.1111111111111111,\"#46039f\"],[0.2222222222222222,\"#7201a8\"],[0.3333333333333333,\"#9c179e\"],[0.4444444444444444,\"#bd3786\"],[0.5555555555555556,\"#d8576b\"],[0.6666666666666666,\"#ed7953\"],[0.7777777777777778,\"#fb9f3a\"],[0.8888888888888888,\"#fdca26\"],[1.0,\"#f0f921\"]],\"type\":\"heatmap\"}],\"heatmapgl\":[{\"colorbar\":{\"outlinewidth\":0,\"ticks\":\"\"},\"colorscale\":[[0.0,\"#0d0887\"],[0.1111111111111111,\"#46039f\"],[0.2222222222222222,\"#7201a8\"],[0.3333333333333333,\"#9c179e\"],[0.4444444444444444,\"#bd3786\"],[0.5555555555555556,\"#d8576b\"],[0.6666666666666666,\"#ed7953\"],[0.7777777777777778,\"#fb9f3a\"],[0.8888888888888888,\"#fdca26\"],[1.0,\"#f0f921\"]],\"type\":\"heatmapgl\"}],\"histogram\":[{\"marker\":{\"pattern\":{\"fillmode\":\"overlay\",\"size\":10,\"solidity\":0.2}},\"type\":\"histogram\"}],\"histogram2d\":[{\"colorbar\":{\"outlinewidth\":0,\"ticks\":\"\"},\"colorscale\":[[0.0,\"#0d0887\"],[0.1111111111111111,\"#46039f\"],[0.2222222222222222,\"#7201a8\"],[0.3333333333333333,\"#9c179e\"],[0.4444444444444444,\"#bd3786\"],[0.5555555555555556,\"#d8576b\"],[0.6666666666666666,\"#ed7953\"],[0.7777777777777778,\"#fb9f3a\"],[0.8888888888888888,\"#fdca26\"],[1.0,\"#f0f921\"]],\"type\":\"histogram2d\"}],\"histogram2dcontour\":[{\"colorbar\":{\"outlinewidth\":0,\"ticks\":\"\"},\"colorscale\":[[0.0,\"#0d0887\"],[0.1111111111111111,\"#46039f\"],[0.2222222222222222,\"#7201a8\"],[0.3333333333333333,\"#9c179e\"],[0.4444444444444444,\"#bd3786\"],[0.5555555555555556,\"#d8576b\"],[0.6666666666666666,\"#ed7953\"],[0.7777777777777778,\"#fb9f3a\"],[0.8888888888888888,\"#fdca26\"],[1.0,\"#f0f921\"]],\"type\":\"histogram2dcontour\"}],\"mesh3d\":[{\"colorbar\":{\"outlinewidth\":0,\"ticks\":\"\"},\"type\":\"mesh3d\"}],\"parcoords\":[{\"line\":{\"colorbar\":{\"outlinewidth\":0,\"ticks\":\"\"}},\"type\":\"parcoords\"}],\"pie\":[{\"automargin\":true,\"type\":\"pie\"}],\"scatter\":[{\"marker\":{\"colorbar\":{\"outlinewidth\":0,\"ticks\":\"\"}},\"type\":\"scatter\"}],\"scatter3d\":[{\"line\":{\"colorbar\":{\"outlinewidth\":0,\"ticks\":\"\"}},\"marker\":{\"colorbar\":{\"outlinewidth\":0,\"ticks\":\"\"}},\"type\":\"scatter3d\"}],\"scattercarpet\":[{\"marker\":{\"colorbar\":{\"outlinewidth\":0,\"ticks\":\"\"}},\"type\":\"scattercarpet\"}],\"scattergeo\":[{\"marker\":{\"colorbar\":{\"outlinewidth\":0,\"ticks\":\"\"}},\"type\":\"scattergeo\"}],\"scattergl\":[{\"marker\":{\"colorbar\":{\"outlinewidth\":0,\"ticks\":\"\"}},\"type\":\"scattergl\"}],\"scattermapbox\":[{\"marker\":{\"colorbar\":{\"outlinewidth\":0,\"ticks\":\"\"}},\"type\":\"scattermapbox\"}],\"scatterpolar\":[{\"marker\":{\"colorbar\":{\"outlinewidth\":0,\"ticks\":\"\"}},\"type\":\"scatterpolar\"}],\"scatterpolargl\":[{\"marker\":{\"colorbar\":{\"outlinewidth\":0,\"ticks\":\"\"}},\"type\":\"scatterpolargl\"}],\"scatterternary\":[{\"marker\":{\"colorbar\":{\"outlinewidth\":0,\"ticks\":\"\"}},\"type\":\"scatterternary\"}],\"surface\":[{\"colorbar\":{\"outlinewidth\":0,\"ticks\":\"\"},\"colorscale\":[[0.0,\"#0d0887\"],[0.1111111111111111,\"#46039f\"],[0.2222222222222222,\"#7201a8\"],[0.3333333333333333,\"#9c179e\"],[0.4444444444444444,\"#bd3786\"],[0.5555555555555556,\"#d8576b\"],[0.6666666666666666,\"#ed7953\"],[0.7777777777777778,\"#fb9f3a\"],[0.8888888888888888,\"#fdca26\"],[1.0,\"#f0f921\"]],\"type\":\"surface\"}],\"table\":[{\"cells\":{\"fill\":{\"color\":\"#EBF0F8\"},\"line\":{\"color\":\"white\"}},\"header\":{\"fill\":{\"color\":\"#C8D4E3\"},\"line\":{\"color\":\"white\"}},\"type\":\"table\"}]},\"layout\":{\"annotationdefaults\":{\"arrowcolor\":\"#2a3f5f\",\"arrowhead\":0,\"arrowwidth\":1},\"autotypenumbers\":\"strict\",\"coloraxis\":{\"colorbar\":{\"outlinewidth\":0,\"ticks\":\"\"}},\"colorscale\":{\"diverging\":[[0,\"#8e0152\"],[0.1,\"#c51b7d\"],[0.2,\"#de77ae\"],[0.3,\"#f1b6da\"],[0.4,\"#fde0ef\"],[0.5,\"#f7f7f7\"],[0.6,\"#e6f5d0\"],[0.7,\"#b8e186\"],[0.8,\"#7fbc41\"],[0.9,\"#4d9221\"],[1,\"#276419\"]],\"sequential\":[[0.0,\"#0d0887\"],[0.1111111111111111,\"#46039f\"],[0.2222222222222222,\"#7201a8\"],[0.3333333333333333,\"#9c179e\"],[0.4444444444444444,\"#bd3786\"],[0.5555555555555556,\"#d8576b\"],[0.6666666666666666,\"#ed7953\"],[0.7777777777777778,\"#fb9f3a\"],[0.8888888888888888,\"#fdca26\"],[1.0,\"#f0f921\"]],\"sequentialminus\":[[0.0,\"#0d0887\"],[0.1111111111111111,\"#46039f\"],[0.2222222222222222,\"#7201a8\"],[0.3333333333333333,\"#9c179e\"],[0.4444444444444444,\"#bd3786\"],[0.5555555555555556,\"#d8576b\"],[0.6666666666666666,\"#ed7953\"],[0.7777777777777778,\"#fb9f3a\"],[0.8888888888888888,\"#fdca26\"],[1.0,\"#f0f921\"]]},\"colorway\":[\"#636efa\",\"#EF553B\",\"#00cc96\",\"#ab63fa\",\"#FFA15A\",\"#19d3f3\",\"#FF6692\",\"#B6E880\",\"#FF97FF\",\"#FECB52\"],\"font\":{\"color\":\"#2a3f5f\"},\"geo\":{\"bgcolor\":\"white\",\"lakecolor\":\"white\",\"landcolor\":\"#E5ECF6\",\"showlakes\":true,\"showland\":true,\"subunitcolor\":\"white\"},\"hoverlabel\":{\"align\":\"left\"},\"hovermode\":\"closest\",\"mapbox\":{\"style\":\"light\"},\"paper_bgcolor\":\"white\",\"plot_bgcolor\":\"#E5ECF6\",\"polar\":{\"angularaxis\":{\"gridcolor\":\"white\",\"linecolor\":\"white\",\"ticks\":\"\"},\"bgcolor\":\"#E5ECF6\",\"radialaxis\":{\"gridcolor\":\"white\",\"linecolor\":\"white\",\"ticks\":\"\"}},\"scene\":{\"xaxis\":{\"backgroundcolor\":\"#E5ECF6\",\"gridcolor\":\"white\",\"gridwidth\":2,\"linecolor\":\"white\",\"showbackground\":true,\"ticks\":\"\",\"zerolinecolor\":\"white\"},\"yaxis\":{\"backgroundcolor\":\"#E5ECF6\",\"gridcolor\":\"white\",\"gridwidth\":2,\"linecolor\":\"white\",\"showbackground\":true,\"ticks\":\"\",\"zerolinecolor\":\"white\"},\"zaxis\":{\"backgroundcolor\":\"#E5ECF6\",\"gridcolor\":\"white\",\"gridwidth\":2,\"linecolor\":\"white\",\"showbackground\":true,\"ticks\":\"\",\"zerolinecolor\":\"white\"}},\"shapedefaults\":{\"line\":{\"color\":\"#2a3f5f\"}},\"ternary\":{\"aaxis\":{\"gridcolor\":\"white\",\"linecolor\":\"white\",\"ticks\":\"\"},\"baxis\":{\"gridcolor\":\"white\",\"linecolor\":\"white\",\"ticks\":\"\"},\"bgcolor\":\"#E5ECF6\",\"caxis\":{\"gridcolor\":\"white\",\"linecolor\":\"white\",\"ticks\":\"\"}},\"title\":{\"x\":0.05},\"xaxis\":{\"automargin\":true,\"gridcolor\":\"white\",\"linecolor\":\"white\",\"ticks\":\"\",\"title\":{\"standoff\":15},\"zerolinecolor\":\"white\",\"zerolinewidth\":2},\"yaxis\":{\"automargin\":true,\"gridcolor\":\"white\",\"linecolor\":\"white\",\"ticks\":\"\",\"title\":{\"standoff\":15},\"zerolinecolor\":\"white\",\"zerolinewidth\":2}}},\"title\":{\"text\":\"Consumo m\\u00e9dio de cerveja mensal\"},\"xaxis\":{\"anchor\":\"y\",\"domain\":[0.0,1.0],\"title\":{\"text\":\" Meses\"}},\"yaxis\":{\"anchor\":\"x\",\"domain\":[0.0,1.0],\"title\":{\"text\":\"Consumo de cerveja\"}}},                        {\"responsive\": true}                    ).then(function(){\n",
       "                            \n",
       "var gd = document.getElementById('734b98d5-ba31-4ec3-8a1b-2fd856e0b8ff');\n",
       "var x = new MutationObserver(function (mutations, observer) {{\n",
       "        var display = window.getComputedStyle(gd).display;\n",
       "        if (!display || display === 'none') {{\n",
       "            console.log([gd, 'removed!']);\n",
       "            Plotly.purge(gd);\n",
       "            observer.disconnect();\n",
       "        }}\n",
       "}});\n",
       "\n",
       "// Listen for the removal of the full notebook cells\n",
       "var notebookContainer = gd.closest('#notebook-container');\n",
       "if (notebookContainer) {{\n",
       "    x.observe(notebookContainer, {childList: true});\n",
       "}}\n",
       "\n",
       "// Listen for the clearing of the current output cell\n",
       "var outputEl = gd.closest('.output');\n",
       "if (outputEl) {{\n",
       "    x.observe(outputEl, {childList: true});\n",
       "}}\n",
       "\n",
       "                        })                };                });            </script>        </div>"
      ]
     },
     "metadata": {},
     "output_type": "display_data"
    }
   ],
   "source": [
    "fig = px.bar(cerveja_mes, x=cerveja_mes.index, y='consumo')\n",
    "\n",
    "# ajustando o layout\n",
    "fig.update_layout(\n",
    "    title=\"Consumo médio de cerveja mensal\",\n",
    "    xaxis_title=\" Meses\",\n",
    "    yaxis_title=\"Consumo de cerveja\",\n",
    "    font=dict(family=\"New latin, monospace\", size=16, color=\"navy\"),\n",
    "#     legend=dict(x=1.5, y=1.5)\n",
    ")\n",
    "\n",
    "fig.show()"
   ]
  },
  {
   "cell_type": "markdown",
   "id": "6c6f5205-0344-42b9-aded-7b6611825884",
   "metadata": {},
   "source": [
    "### Consumo de cerveja x dia da semana"
   ]
  },
  {
   "cell_type": "code",
   "execution_count": 200,
   "id": "b44fd1aa-7994-4c97-b29e-30fea87461f5",
   "metadata": {},
   "outputs": [],
   "source": [
    "cerveja['dia_da_semana'] = cerveja.index.weekday\n",
    "\n",
    "dias = {\n",
    "    0:'Domingo',\n",
    "    1:'Segunda',\n",
    "    2:'Terça',\n",
    "    3:'Quarta',\n",
    "    4:'Quinta',\n",
    "    5:'Sexta',\n",
    "    6:'Sábado'\n",
    "}\n",
    "\n",
    "# renomeando\n",
    "cerveja.dia_da_semana = cerveja.dia_da_semana.map(dias)\n",
    "\n",
    "# agrupando\n",
    "consumo_dia_da_semana = cerveja.groupby('dia_da_semana').mean()\n",
    "\n",
    "# ordenando\n",
    "consumo_dia_da_semana = consumo_dia_da_semana.loc[['Domingo', 'Segunda', 'Terça', 'Quarta', 'Quinta', 'Sexta', 'Sábado'], :]"
   ]
  },
  {
   "cell_type": "code",
   "execution_count": 275,
   "id": "f3c6a722-8bd5-4410-95c3-874d919aaf2c",
   "metadata": {},
   "outputs": [
    {
     "data": {
      "application/vnd.plotly.v1+json": {
       "config": {
        "plotlyServerURL": "https://plot.ly"
       },
       "data": [
        {
         "alignmentgroup": "True",
         "hovertemplate": "dia_da_semana=%{x}<br>consumo=%{y}<extra></extra>",
         "legendgroup": "",
         "marker": {
          "color": "#636efa",
          "pattern": {
           "shape": ""
          }
         },
         "name": "",
         "offsetgroup": "",
         "orientation": "v",
         "showlegend": false,
         "textposition": "auto",
         "type": "bar",
         "x": [
          "Domingo",
          "Segunda",
          "Terça",
          "Quarta",
          "Quinta",
          "Sexta",
          "Sábado"
         ],
         "xaxis": "x",
         "y": [
          24445.19230769231,
          25101.25,
          24113.75,
          24477.754716981133,
          24611.846153846152,
          27417.076923076922,
          27660.46153846154
         ],
         "yaxis": "y"
        }
       ],
       "layout": {
        "autosize": true,
        "barmode": "relative",
        "font": {
         "color": "navy",
         "family": "New latin, monospace",
         "size": 16
        },
        "legend": {
         "tracegroupgap": 0
        },
        "margin": {
         "t": 60
        },
        "template": {
         "data": {
          "bar": [
           {
            "error_x": {
             "color": "#2a3f5f"
            },
            "error_y": {
             "color": "#2a3f5f"
            },
            "marker": {
             "line": {
              "color": "#E5ECF6",
              "width": 0.5
             },
             "pattern": {
              "fillmode": "overlay",
              "size": 10,
              "solidity": 0.2
             }
            },
            "type": "bar"
           }
          ],
          "barpolar": [
           {
            "marker": {
             "line": {
              "color": "#E5ECF6",
              "width": 0.5
             },
             "pattern": {
              "fillmode": "overlay",
              "size": 10,
              "solidity": 0.2
             }
            },
            "type": "barpolar"
           }
          ],
          "carpet": [
           {
            "aaxis": {
             "endlinecolor": "#2a3f5f",
             "gridcolor": "white",
             "linecolor": "white",
             "minorgridcolor": "white",
             "startlinecolor": "#2a3f5f"
            },
            "baxis": {
             "endlinecolor": "#2a3f5f",
             "gridcolor": "white",
             "linecolor": "white",
             "minorgridcolor": "white",
             "startlinecolor": "#2a3f5f"
            },
            "type": "carpet"
           }
          ],
          "choropleth": [
           {
            "colorbar": {
             "outlinewidth": 0,
             "ticks": ""
            },
            "type": "choropleth"
           }
          ],
          "contour": [
           {
            "colorbar": {
             "outlinewidth": 0,
             "ticks": ""
            },
            "colorscale": [
             [
              0,
              "#0d0887"
             ],
             [
              0.1111111111111111,
              "#46039f"
             ],
             [
              0.2222222222222222,
              "#7201a8"
             ],
             [
              0.3333333333333333,
              "#9c179e"
             ],
             [
              0.4444444444444444,
              "#bd3786"
             ],
             [
              0.5555555555555556,
              "#d8576b"
             ],
             [
              0.6666666666666666,
              "#ed7953"
             ],
             [
              0.7777777777777778,
              "#fb9f3a"
             ],
             [
              0.8888888888888888,
              "#fdca26"
             ],
             [
              1,
              "#f0f921"
             ]
            ],
            "type": "contour"
           }
          ],
          "contourcarpet": [
           {
            "colorbar": {
             "outlinewidth": 0,
             "ticks": ""
            },
            "type": "contourcarpet"
           }
          ],
          "heatmap": [
           {
            "colorbar": {
             "outlinewidth": 0,
             "ticks": ""
            },
            "colorscale": [
             [
              0,
              "#0d0887"
             ],
             [
              0.1111111111111111,
              "#46039f"
             ],
             [
              0.2222222222222222,
              "#7201a8"
             ],
             [
              0.3333333333333333,
              "#9c179e"
             ],
             [
              0.4444444444444444,
              "#bd3786"
             ],
             [
              0.5555555555555556,
              "#d8576b"
             ],
             [
              0.6666666666666666,
              "#ed7953"
             ],
             [
              0.7777777777777778,
              "#fb9f3a"
             ],
             [
              0.8888888888888888,
              "#fdca26"
             ],
             [
              1,
              "#f0f921"
             ]
            ],
            "type": "heatmap"
           }
          ],
          "heatmapgl": [
           {
            "colorbar": {
             "outlinewidth": 0,
             "ticks": ""
            },
            "colorscale": [
             [
              0,
              "#0d0887"
             ],
             [
              0.1111111111111111,
              "#46039f"
             ],
             [
              0.2222222222222222,
              "#7201a8"
             ],
             [
              0.3333333333333333,
              "#9c179e"
             ],
             [
              0.4444444444444444,
              "#bd3786"
             ],
             [
              0.5555555555555556,
              "#d8576b"
             ],
             [
              0.6666666666666666,
              "#ed7953"
             ],
             [
              0.7777777777777778,
              "#fb9f3a"
             ],
             [
              0.8888888888888888,
              "#fdca26"
             ],
             [
              1,
              "#f0f921"
             ]
            ],
            "type": "heatmapgl"
           }
          ],
          "histogram": [
           {
            "marker": {
             "pattern": {
              "fillmode": "overlay",
              "size": 10,
              "solidity": 0.2
             }
            },
            "type": "histogram"
           }
          ],
          "histogram2d": [
           {
            "colorbar": {
             "outlinewidth": 0,
             "ticks": ""
            },
            "colorscale": [
             [
              0,
              "#0d0887"
             ],
             [
              0.1111111111111111,
              "#46039f"
             ],
             [
              0.2222222222222222,
              "#7201a8"
             ],
             [
              0.3333333333333333,
              "#9c179e"
             ],
             [
              0.4444444444444444,
              "#bd3786"
             ],
             [
              0.5555555555555556,
              "#d8576b"
             ],
             [
              0.6666666666666666,
              "#ed7953"
             ],
             [
              0.7777777777777778,
              "#fb9f3a"
             ],
             [
              0.8888888888888888,
              "#fdca26"
             ],
             [
              1,
              "#f0f921"
             ]
            ],
            "type": "histogram2d"
           }
          ],
          "histogram2dcontour": [
           {
            "colorbar": {
             "outlinewidth": 0,
             "ticks": ""
            },
            "colorscale": [
             [
              0,
              "#0d0887"
             ],
             [
              0.1111111111111111,
              "#46039f"
             ],
             [
              0.2222222222222222,
              "#7201a8"
             ],
             [
              0.3333333333333333,
              "#9c179e"
             ],
             [
              0.4444444444444444,
              "#bd3786"
             ],
             [
              0.5555555555555556,
              "#d8576b"
             ],
             [
              0.6666666666666666,
              "#ed7953"
             ],
             [
              0.7777777777777778,
              "#fb9f3a"
             ],
             [
              0.8888888888888888,
              "#fdca26"
             ],
             [
              1,
              "#f0f921"
             ]
            ],
            "type": "histogram2dcontour"
           }
          ],
          "mesh3d": [
           {
            "colorbar": {
             "outlinewidth": 0,
             "ticks": ""
            },
            "type": "mesh3d"
           }
          ],
          "parcoords": [
           {
            "line": {
             "colorbar": {
              "outlinewidth": 0,
              "ticks": ""
             }
            },
            "type": "parcoords"
           }
          ],
          "pie": [
           {
            "automargin": true,
            "type": "pie"
           }
          ],
          "scatter": [
           {
            "marker": {
             "colorbar": {
              "outlinewidth": 0,
              "ticks": ""
             }
            },
            "type": "scatter"
           }
          ],
          "scatter3d": [
           {
            "line": {
             "colorbar": {
              "outlinewidth": 0,
              "ticks": ""
             }
            },
            "marker": {
             "colorbar": {
              "outlinewidth": 0,
              "ticks": ""
             }
            },
            "type": "scatter3d"
           }
          ],
          "scattercarpet": [
           {
            "marker": {
             "colorbar": {
              "outlinewidth": 0,
              "ticks": ""
             }
            },
            "type": "scattercarpet"
           }
          ],
          "scattergeo": [
           {
            "marker": {
             "colorbar": {
              "outlinewidth": 0,
              "ticks": ""
             }
            },
            "type": "scattergeo"
           }
          ],
          "scattergl": [
           {
            "marker": {
             "colorbar": {
              "outlinewidth": 0,
              "ticks": ""
             }
            },
            "type": "scattergl"
           }
          ],
          "scattermapbox": [
           {
            "marker": {
             "colorbar": {
              "outlinewidth": 0,
              "ticks": ""
             }
            },
            "type": "scattermapbox"
           }
          ],
          "scatterpolar": [
           {
            "marker": {
             "colorbar": {
              "outlinewidth": 0,
              "ticks": ""
             }
            },
            "type": "scatterpolar"
           }
          ],
          "scatterpolargl": [
           {
            "marker": {
             "colorbar": {
              "outlinewidth": 0,
              "ticks": ""
             }
            },
            "type": "scatterpolargl"
           }
          ],
          "scatterternary": [
           {
            "marker": {
             "colorbar": {
              "outlinewidth": 0,
              "ticks": ""
             }
            },
            "type": "scatterternary"
           }
          ],
          "surface": [
           {
            "colorbar": {
             "outlinewidth": 0,
             "ticks": ""
            },
            "colorscale": [
             [
              0,
              "#0d0887"
             ],
             [
              0.1111111111111111,
              "#46039f"
             ],
             [
              0.2222222222222222,
              "#7201a8"
             ],
             [
              0.3333333333333333,
              "#9c179e"
             ],
             [
              0.4444444444444444,
              "#bd3786"
             ],
             [
              0.5555555555555556,
              "#d8576b"
             ],
             [
              0.6666666666666666,
              "#ed7953"
             ],
             [
              0.7777777777777778,
              "#fb9f3a"
             ],
             [
              0.8888888888888888,
              "#fdca26"
             ],
             [
              1,
              "#f0f921"
             ]
            ],
            "type": "surface"
           }
          ],
          "table": [
           {
            "cells": {
             "fill": {
              "color": "#EBF0F8"
             },
             "line": {
              "color": "white"
             }
            },
            "header": {
             "fill": {
              "color": "#C8D4E3"
             },
             "line": {
              "color": "white"
             }
            },
            "type": "table"
           }
          ]
         },
         "layout": {
          "annotationdefaults": {
           "arrowcolor": "#2a3f5f",
           "arrowhead": 0,
           "arrowwidth": 1
          },
          "autotypenumbers": "strict",
          "coloraxis": {
           "colorbar": {
            "outlinewidth": 0,
            "ticks": ""
           }
          },
          "colorscale": {
           "diverging": [
            [
             0,
             "#8e0152"
            ],
            [
             0.1,
             "#c51b7d"
            ],
            [
             0.2,
             "#de77ae"
            ],
            [
             0.3,
             "#f1b6da"
            ],
            [
             0.4,
             "#fde0ef"
            ],
            [
             0.5,
             "#f7f7f7"
            ],
            [
             0.6,
             "#e6f5d0"
            ],
            [
             0.7,
             "#b8e186"
            ],
            [
             0.8,
             "#7fbc41"
            ],
            [
             0.9,
             "#4d9221"
            ],
            [
             1,
             "#276419"
            ]
           ],
           "sequential": [
            [
             0,
             "#0d0887"
            ],
            [
             0.1111111111111111,
             "#46039f"
            ],
            [
             0.2222222222222222,
             "#7201a8"
            ],
            [
             0.3333333333333333,
             "#9c179e"
            ],
            [
             0.4444444444444444,
             "#bd3786"
            ],
            [
             0.5555555555555556,
             "#d8576b"
            ],
            [
             0.6666666666666666,
             "#ed7953"
            ],
            [
             0.7777777777777778,
             "#fb9f3a"
            ],
            [
             0.8888888888888888,
             "#fdca26"
            ],
            [
             1,
             "#f0f921"
            ]
           ],
           "sequentialminus": [
            [
             0,
             "#0d0887"
            ],
            [
             0.1111111111111111,
             "#46039f"
            ],
            [
             0.2222222222222222,
             "#7201a8"
            ],
            [
             0.3333333333333333,
             "#9c179e"
            ],
            [
             0.4444444444444444,
             "#bd3786"
            ],
            [
             0.5555555555555556,
             "#d8576b"
            ],
            [
             0.6666666666666666,
             "#ed7953"
            ],
            [
             0.7777777777777778,
             "#fb9f3a"
            ],
            [
             0.8888888888888888,
             "#fdca26"
            ],
            [
             1,
             "#f0f921"
            ]
           ]
          },
          "colorway": [
           "#636efa",
           "#EF553B",
           "#00cc96",
           "#ab63fa",
           "#FFA15A",
           "#19d3f3",
           "#FF6692",
           "#B6E880",
           "#FF97FF",
           "#FECB52"
          ],
          "font": {
           "color": "#2a3f5f"
          },
          "geo": {
           "bgcolor": "white",
           "lakecolor": "white",
           "landcolor": "#E5ECF6",
           "showlakes": true,
           "showland": true,
           "subunitcolor": "white"
          },
          "hoverlabel": {
           "align": "left"
          },
          "hovermode": "closest",
          "mapbox": {
           "style": "light"
          },
          "paper_bgcolor": "white",
          "plot_bgcolor": "#E5ECF6",
          "polar": {
           "angularaxis": {
            "gridcolor": "white",
            "linecolor": "white",
            "ticks": ""
           },
           "bgcolor": "#E5ECF6",
           "radialaxis": {
            "gridcolor": "white",
            "linecolor": "white",
            "ticks": ""
           }
          },
          "scene": {
           "xaxis": {
            "backgroundcolor": "#E5ECF6",
            "gridcolor": "white",
            "gridwidth": 2,
            "linecolor": "white",
            "showbackground": true,
            "ticks": "",
            "zerolinecolor": "white"
           },
           "yaxis": {
            "backgroundcolor": "#E5ECF6",
            "gridcolor": "white",
            "gridwidth": 2,
            "linecolor": "white",
            "showbackground": true,
            "ticks": "",
            "zerolinecolor": "white"
           },
           "zaxis": {
            "backgroundcolor": "#E5ECF6",
            "gridcolor": "white",
            "gridwidth": 2,
            "linecolor": "white",
            "showbackground": true,
            "ticks": "",
            "zerolinecolor": "white"
           }
          },
          "shapedefaults": {
           "line": {
            "color": "#2a3f5f"
           }
          },
          "ternary": {
           "aaxis": {
            "gridcolor": "white",
            "linecolor": "white",
            "ticks": ""
           },
           "baxis": {
            "gridcolor": "white",
            "linecolor": "white",
            "ticks": ""
           },
           "bgcolor": "#E5ECF6",
           "caxis": {
            "gridcolor": "white",
            "linecolor": "white",
            "ticks": ""
           }
          },
          "title": {
           "x": 0.05
          },
          "xaxis": {
           "automargin": true,
           "gridcolor": "white",
           "linecolor": "white",
           "ticks": "",
           "title": {
            "standoff": 15
           },
           "zerolinecolor": "white",
           "zerolinewidth": 2
          },
          "yaxis": {
           "automargin": true,
           "gridcolor": "white",
           "linecolor": "white",
           "ticks": "",
           "title": {
            "standoff": 15
           },
           "zerolinecolor": "white",
           "zerolinewidth": 2
          }
         }
        },
        "title": {
         "text": "Consumo médio de cerveja mensal"
        },
        "xaxis": {
         "anchor": "y",
         "autorange": true,
         "domain": [
          0,
          1
         ],
         "range": [
          -0.5,
          6.5
         ],
         "title": {
          "text": " Meses"
         },
         "type": "category"
        },
        "yaxis": {
         "anchor": "x",
         "autorange": true,
         "domain": [
          0,
          1
         ],
         "range": [
          0,
          29116.275303643724
         ],
         "title": {
          "text": "Consumo de cerveja"
         },
         "type": "linear"
        }
       }
      },
      "image/png": "[encoded data removed]",
      "text/html": [
       "<div>                            <div id=\"25dbbd28-945a-4bc0-a776-39de1a06cab1\" class=\"plotly-graph-div\" style=\"height:525px; width:100%;\"></div>            <script type=\"text/javascript\">                require([\"plotly\"], function(Plotly) {                    window.PLOTLYENV=window.PLOTLYENV || {};                                    if (document.getElementById(\"25dbbd28-945a-4bc0-a776-39de1a06cab1\")) {                    Plotly.newPlot(                        \"25dbbd28-945a-4bc0-a776-39de1a06cab1\",                        [{\"alignmentgroup\":\"True\",\"hovertemplate\":\"dia_da_semana=%{x}<br>consumo=%{y}<extra></extra>\",\"legendgroup\":\"\",\"marker\":{\"color\":\"#636efa\",\"pattern\":{\"shape\":\"\"}},\"name\":\"\",\"offsetgroup\":\"\",\"orientation\":\"v\",\"showlegend\":false,\"textposition\":\"auto\",\"type\":\"bar\",\"x\":[\"Domingo\",\"Segunda\",\"Ter\\u00e7a\",\"Quarta\",\"Quinta\",\"Sexta\",\"S\\u00e1bado\"],\"xaxis\":\"x\",\"y\":[24445.19230769231,25101.25,24113.75,24477.754716981133,24611.846153846152,27417.076923076922,27660.46153846154],\"yaxis\":\"y\"}],                        {\"barmode\":\"relative\",\"font\":{\"color\":\"navy\",\"family\":\"New latin, monospace\",\"size\":16},\"legend\":{\"tracegroupgap\":0},\"margin\":{\"t\":60},\"template\":{\"data\":{\"bar\":[{\"error_x\":{\"color\":\"#2a3f5f\"},\"error_y\":{\"color\":\"#2a3f5f\"},\"marker\":{\"line\":{\"color\":\"#E5ECF6\",\"width\":0.5},\"pattern\":{\"fillmode\":\"overlay\",\"size\":10,\"solidity\":0.2}},\"type\":\"bar\"}],\"barpolar\":[{\"marker\":{\"line\":{\"color\":\"#E5ECF6\",\"width\":0.5},\"pattern\":{\"fillmode\":\"overlay\",\"size\":10,\"solidity\":0.2}},\"type\":\"barpolar\"}],\"carpet\":[{\"aaxis\":{\"endlinecolor\":\"#2a3f5f\",\"gridcolor\":\"white\",\"linecolor\":\"white\",\"minorgridcolor\":\"white\",\"startlinecolor\":\"#2a3f5f\"},\"baxis\":{\"endlinecolor\":\"#2a3f5f\",\"gridcolor\":\"white\",\"linecolor\":\"white\",\"minorgridcolor\":\"white\",\"startlinecolor\":\"#2a3f5f\"},\"type\":\"carpet\"}],\"choropleth\":[{\"colorbar\":{\"outlinewidth\":0,\"ticks\":\"\"},\"type\":\"choropleth\"}],\"contour\":[{\"colorbar\":{\"outlinewidth\":0,\"ticks\":\"\"},\"colorscale\":[[0.0,\"#0d0887\"],[0.1111111111111111,\"#46039f\"],[0.2222222222222222,\"#7201a8\"],[0.3333333333333333,\"#9c179e\"],[0.4444444444444444,\"#bd3786\"],[0.5555555555555556,\"#d8576b\"],[0.6666666666666666,\"#ed7953\"],[0.7777777777777778,\"#fb9f3a\"],[0.8888888888888888,\"#fdca26\"],[1.0,\"#f0f921\"]],\"type\":\"contour\"}],\"contourcarpet\":[{\"colorbar\":{\"outlinewidth\":0,\"ticks\":\"\"},\"type\":\"contourcarpet\"}],\"heatmap\":[{\"colorbar\":{\"outlinewidth\":0,\"ticks\":\"\"},\"colorscale\":[[0.0,\"#0d0887\"],[0.1111111111111111,\"#46039f\"],[0.2222222222222222,\"#7201a8\"],[0.3333333333333333,\"#9c179e\"],[0.4444444444444444,\"#bd3786\"],[0.5555555555555556,\"#d8576b\"],[0.6666666666666666,\"#ed7953\"],[0.7777777777777778,\"#fb9f3a\"],[0.8888888888888888,\"#fdca26\"],[1.0,\"#f0f921\"]],\"type\":\"heatmap\"}],\"heatmapgl\":[{\"colorbar\":{\"outlinewidth\":0,\"ticks\":\"\"},\"colorscale\":[[0.0,\"#0d0887\"],[0.1111111111111111,\"#46039f\"],[0.2222222222222222,\"#7201a8\"],[0.3333333333333333,\"#9c179e\"],[0.4444444444444444,\"#bd3786\"],[0.5555555555555556,\"#d8576b\"],[0.6666666666666666,\"#ed7953\"],[0.7777777777777778,\"#fb9f3a\"],[0.8888888888888888,\"#fdca26\"],[1.0,\"#f0f921\"]],\"type\":\"heatmapgl\"}],\"histogram\":[{\"marker\":{\"pattern\":{\"fillmode\":\"overlay\",\"size\":10,\"solidity\":0.2}},\"type\":\"histogram\"}],\"histogram2d\":[{\"colorbar\":{\"outlinewidth\":0,\"ticks\":\"\"},\"colorscale\":[[0.0,\"#0d0887\"],[0.1111111111111111,\"#46039f\"],[0.2222222222222222,\"#7201a8\"],[0.3333333333333333,\"#9c179e\"],[0.4444444444444444,\"#bd3786\"],[0.5555555555555556,\"#d8576b\"],[0.6666666666666666,\"#ed7953\"],[0.7777777777777778,\"#fb9f3a\"],[0.8888888888888888,\"#fdca26\"],[1.0,\"#f0f921\"]],\"type\":\"histogram2d\"}],\"histogram2dcontour\":[{\"colorbar\":{\"outlinewidth\":0,\"ticks\":\"\"},\"colorscale\":[[0.0,\"#0d0887\"],[0.1111111111111111,\"#46039f\"],[0.2222222222222222,\"#7201a8\"],[0.3333333333333333,\"#9c179e\"],[0.4444444444444444,\"#bd3786\"],[0.5555555555555556,\"#d8576b\"],[0.6666666666666666,\"#ed7953\"],[0.7777777777777778,\"#fb9f3a\"],[0.8888888888888888,\"#fdca26\"],[1.0,\"#f0f921\"]],\"type\":\"histogram2dcontour\"}],\"mesh3d\":[{\"colorbar\":{\"outlinewidth\":0,\"ticks\":\"\"},\"type\":\"mesh3d\"}],\"parcoords\":[{\"line\":{\"colorbar\":{\"outlinewidth\":0,\"ticks\":\"\"}},\"type\":\"parcoords\"}],\"pie\":[{\"automargin\":true,\"type\":\"pie\"}],\"scatter\":[{\"marker\":{\"colorbar\":{\"outlinewidth\":0,\"ticks\":\"\"}},\"type\":\"scatter\"}],\"scatter3d\":[{\"line\":{\"colorbar\":{\"outlinewidth\":0,\"ticks\":\"\"}},\"marker\":{\"colorbar\":{\"outlinewidth\":0,\"ticks\":\"\"}},\"type\":\"scatter3d\"}],\"scattercarpet\":[{\"marker\":{\"colorbar\":{\"outlinewidth\":0,\"ticks\":\"\"}},\"type\":\"scattercarpet\"}],\"scattergeo\":[{\"marker\":{\"colorbar\":{\"outlinewidth\":0,\"ticks\":\"\"}},\"type\":\"scattergeo\"}],\"scattergl\":[{\"marker\":{\"colorbar\":{\"outlinewidth\":0,\"ticks\":\"\"}},\"type\":\"scattergl\"}],\"scattermapbox\":[{\"marker\":{\"colorbar\":{\"outlinewidth\":0,\"ticks\":\"\"}},\"type\":\"scattermapbox\"}],\"scatterpolar\":[{\"marker\":{\"colorbar\":{\"outlinewidth\":0,\"ticks\":\"\"}},\"type\":\"scatterpolar\"}],\"scatterpolargl\":[{\"marker\":{\"colorbar\":{\"outlinewidth\":0,\"ticks\":\"\"}},\"type\":\"scatterpolargl\"}],\"scatterternary\":[{\"marker\":{\"colorbar\":{\"outlinewidth\":0,\"ticks\":\"\"}},\"type\":\"scatterternary\"}],\"surface\":[{\"colorbar\":{\"outlinewidth\":0,\"ticks\":\"\"},\"colorscale\":[[0.0,\"#0d0887\"],[0.1111111111111111,\"#46039f\"],[0.2222222222222222,\"#7201a8\"],[0.3333333333333333,\"#9c179e\"],[0.4444444444444444,\"#bd3786\"],[0.5555555555555556,\"#d8576b\"],[0.6666666666666666,\"#ed7953\"],[0.7777777777777778,\"#fb9f3a\"],[0.8888888888888888,\"#fdca26\"],[1.0,\"#f0f921\"]],\"type\":\"surface\"}],\"table\":[{\"cells\":{\"fill\":{\"color\":\"#EBF0F8\"},\"line\":{\"color\":\"white\"}},\"header\":{\"fill\":{\"color\":\"#C8D4E3\"},\"line\":{\"color\":\"white\"}},\"type\":\"table\"}]},\"layout\":{\"annotationdefaults\":{\"arrowcolor\":\"#2a3f5f\",\"arrowhead\":0,\"arrowwidth\":1},\"autotypenumbers\":\"strict\",\"coloraxis\":{\"colorbar\":{\"outlinewidth\":0,\"ticks\":\"\"}},\"colorscale\":{\"diverging\":[[0,\"#8e0152\"],[0.1,\"#c51b7d\"],[0.2,\"#de77ae\"],[0.3,\"#f1b6da\"],[0.4,\"#fde0ef\"],[0.5,\"#f7f7f7\"],[0.6,\"#e6f5d0\"],[0.7,\"#b8e186\"],[0.8,\"#7fbc41\"],[0.9,\"#4d9221\"],[1,\"#276419\"]],\"sequential\":[[0.0,\"#0d0887\"],[0.1111111111111111,\"#46039f\"],[0.2222222222222222,\"#7201a8\"],[0.3333333333333333,\"#9c179e\"],[0.4444444444444444,\"#bd3786\"],[0.5555555555555556,\"#d8576b\"],[0.6666666666666666,\"#ed7953\"],[0.7777777777777778,\"#fb9f3a\"],[0.8888888888888888,\"#fdca26\"],[1.0,\"#f0f921\"]],\"sequentialminus\":[[0.0,\"#0d0887\"],[0.1111111111111111,\"#46039f\"],[0.2222222222222222,\"#7201a8\"],[0.3333333333333333,\"#9c179e\"],[0.4444444444444444,\"#bd3786\"],[0.5555555555555556,\"#d8576b\"],[0.6666666666666666,\"#ed7953\"],[0.7777777777777778,\"#fb9f3a\"],[0.8888888888888888,\"#fdca26\"],[1.0,\"#f0f921\"]]},\"colorway\":[\"#636efa\",\"#EF553B\",\"#00cc96\",\"#ab63fa\",\"#FFA15A\",\"#19d3f3\",\"#FF6692\",\"#B6E880\",\"#FF97FF\",\"#FECB52\"],\"font\":{\"color\":\"#2a3f5f\"},\"geo\":{\"bgcolor\":\"white\",\"lakecolor\":\"white\",\"landcolor\":\"#E5ECF6\",\"showlakes\":true,\"showland\":true,\"subunitcolor\":\"white\"},\"hoverlabel\":{\"align\":\"left\"},\"hovermode\":\"closest\",\"mapbox\":{\"style\":\"light\"},\"paper_bgcolor\":\"white\",\"plot_bgcolor\":\"#E5ECF6\",\"polar\":{\"angularaxis\":{\"gridcolor\":\"white\",\"linecolor\":\"white\",\"ticks\":\"\"},\"bgcolor\":\"#E5ECF6\",\"radialaxis\":{\"gridcolor\":\"white\",\"linecolor\":\"white\",\"ticks\":\"\"}},\"scene\":{\"xaxis\":{\"backgroundcolor\":\"#E5ECF6\",\"gridcolor\":\"white\",\"gridwidth\":2,\"linecolor\":\"white\",\"showbackground\":true,\"ticks\":\"\",\"zerolinecolor\":\"white\"},\"yaxis\":{\"backgroundcolor\":\"#E5ECF6\",\"gridcolor\":\"white\",\"gridwidth\":2,\"linecolor\":\"white\",\"showbackground\":true,\"ticks\":\"\",\"zerolinecolor\":\"white\"},\"zaxis\":{\"backgroundcolor\":\"#E5ECF6\",\"gridcolor\":\"white\",\"gridwidth\":2,\"linecolor\":\"white\",\"showbackground\":true,\"ticks\":\"\",\"zerolinecolor\":\"white\"}},\"shapedefaults\":{\"line\":{\"color\":\"#2a3f5f\"}},\"ternary\":{\"aaxis\":{\"gridcolor\":\"white\",\"linecolor\":\"white\",\"ticks\":\"\"},\"baxis\":{\"gridcolor\":\"white\",\"linecolor\":\"white\",\"ticks\":\"\"},\"bgcolor\":\"#E5ECF6\",\"caxis\":{\"gridcolor\":\"white\",\"linecolor\":\"white\",\"ticks\":\"\"}},\"title\":{\"x\":0.05},\"xaxis\":{\"automargin\":true,\"gridcolor\":\"white\",\"linecolor\":\"white\",\"ticks\":\"\",\"title\":{\"standoff\":15},\"zerolinecolor\":\"white\",\"zerolinewidth\":2},\"yaxis\":{\"automargin\":true,\"gridcolor\":\"white\",\"linecolor\":\"white\",\"ticks\":\"\",\"title\":{\"standoff\":15},\"zerolinecolor\":\"white\",\"zerolinewidth\":2}}},\"title\":{\"text\":\"Consumo m\\u00e9dio de cerveja mensal\"},\"xaxis\":{\"anchor\":\"y\",\"domain\":[0.0,1.0],\"title\":{\"text\":\" Meses\"}},\"yaxis\":{\"anchor\":\"x\",\"domain\":[0.0,1.0],\"title\":{\"text\":\"Consumo de cerveja\"}}},                        {\"responsive\": true}                    ).then(function(){\n",
       "                            \n",
       "var gd = document.getElementById('25dbbd28-945a-4bc0-a776-39de1a06cab1');\n",
       "var x = new MutationObserver(function (mutations, observer) {{\n",
       "        var display = window.getComputedStyle(gd).display;\n",
       "        if (!display || display === 'none') {{\n",
       "            console.log([gd, 'removed!']);\n",
       "            Plotly.purge(gd);\n",
       "            observer.disconnect();\n",
       "        }}\n",
       "}});\n",
       "\n",
       "// Listen for the removal of the full notebook cells\n",
       "var notebookContainer = gd.closest('#notebook-container');\n",
       "if (notebookContainer) {{\n",
       "    x.observe(notebookContainer, {childList: true});\n",
       "}}\n",
       "\n",
       "// Listen for the clearing of the current output cell\n",
       "var outputEl = gd.closest('.output');\n",
       "if (outputEl) {{\n",
       "    x.observe(outputEl, {childList: true});\n",
       "}}\n",
       "\n",
       "                        })                };                });            </script>        </div>"
      ]
     },
     "metadata": {},
     "output_type": "display_data"
    }
   ],
   "source": [
    "# plotando a figura\n",
    "fig = px.bar(consumo_dia_da_semana, x=consumo_dia_da_semana.index,\n",
    "             y='consumo')\n",
    "\n",
    "\n",
    "# fig = px.bar(df, y='pop', x='country', text_auto='.2s',\n",
    "#             title=\"Default: various text sizes, positions and angles\")\n",
    "# fig.show()\n",
    "\n",
    "# ajustando o layout\n",
    "fig.update_layout(\n",
    "    title=\"Consumo médio de cerveja mensal\",\n",
    "    xaxis_title=\" Meses\",\n",
    "    yaxis_title=\"Consumo de cerveja\",\n",
    "    font=dict(family=\"New latin, monospace\", size=16, color=\"navy\"),\n",
    "#     legend=dict(x=1.5, y=1.5)\n",
    ")\n",
    "\n",
    "fig.show()"
   ]
  },
  {
   "cell_type": "markdown",
   "id": "2973d2fc-9501-437f-81a2-1bc3a903c38c",
   "metadata": {},
   "source": [
    "# Regressão linear"
   ]
  },
  {
   "cell_type": "markdown",
   "id": "282c5186-ac1b-4e00-99ea-4b176ae69802",
   "metadata": {},
   "source": [
    "## Métricas de avaliação para modelos regressivos\n",
    "\n",
    "As [métricas](https://scikit-learn.org/stable/modules/model_evaluation.html#regression-metrics) de avaliação para modelos regressivos são as seguintes:\n",
    "\n",
    "*  **R2**\n",
    "\n",
    "\n",
    "$R^{2}(y, \\hat{y})= 1 - \\frac{\\sum_{i=1}^{n}(y_{i} - \\hat{y_{i}})^{2}}{\\sum_{i=1}^{n}(y_{i} - \\bar{y_{i}})^{2}}$\n",
    "\n",
    "The best possible score is 1.0, lower values are worse.\n",
    "\n",
    "*  **MAE**\n",
    "\n",
    "Como o próprio nome sugere, o MAE calcula o erro médio absoluto entre os valores\n",
    "reais e os previstos. Ela retorna um valor não negativo, que quanto mais próximo de 0 indica que\n",
    "os valores previstos encontram-se bem próximos dos reais. O cálculo do MAE é realizado com a a seguinte expressão:\n",
    "\n",
    "$\\text{MAE}(y, \\hat{y}) = \\frac{1}{n_{amostras}} \\sum_{i=0}^{n_{amostras}-1} |y_{i} - \\hat{y_{i}}|$\n",
    "\n",
    "* **MSE**\n",
    "\n",
    "Mais próximo de zero, melhor o modelo.\n",
    "\n",
    "$\\text{MSE}(y, \\hat{y}) = \\frac{1}{n_{amostras}} \\sum_{i=0}^{n_{amostras}-1} (y_{i} - \\hat{y_{i}})^{2}$\n",
    "\n",
    "* **Explained variance**\n",
    "\n",
    "$explained\\_variance (y, \\hat{y}) = 1 - \\frac{Var(y - \\hat{y})}{Var(y)}  $\n",
    "\n",
    "The best possible score is 1.0, lower values are worse."
   ]
  },
  {
   "cell_type": "code",
   "execution_count": 226,
   "id": "6075c03b-7ec9-452f-94a9-254f39694d39",
   "metadata": {},
   "outputs": [],
   "source": [
    "from sklearn.metrics import r2_score\n",
    "from sklearn.metrics import mean_squared_error \n",
    "from sklearn.metrics import mean_absolute_error \n",
    "from sklearn.metrics import explained_variance_score\n",
    "\n",
    "def metricas_regressao(y_test, y_pred):\n",
    "    a = r2_score(y_test, y_pred)\n",
    "    b = explained_variance_score(y_test, y_pred)\n",
    "    c = mean_absolute_error(y_test, y_pred)\n",
    "    d = mean_squared_error(y_test, y_pred)\n",
    "    chaves = {'R2':a, 'EVS':b, 'MAE':c, 'MSE':d}\n",
    "    frame = pd.DataFrame(chaves.values(), index=chaves.keys(), columns=['Values']).round(3)\n",
    "    return frame"
   ]
  },
  {
   "cell_type": "markdown",
   "id": "13cb487d-8f83-4160-862a-43e3ce07dec6",
   "metadata": {},
   "source": [
    "## Ajustes das features"
   ]
  },
  {
   "cell_type": "code",
   "execution_count": 203,
   "id": "defff198-560e-4748-b1de-0fbb8f2ad1fa",
   "metadata": {},
   "outputs": [
    {
     "data": {
      "text/html": [
       "<div>\n",
       "<style scoped>\n",
       "    .dataframe tbody tr th:only-of-type {\n",
       "        vertical-align: middle;\n",
       "    }\n",
       "\n",
       "    .dataframe tbody tr th {\n",
       "        vertical-align: top;\n",
       "    }\n",
       "\n",
       "    .dataframe thead th {\n",
       "        text-align: right;\n",
       "    }\n",
       "</style>\n",
       "<table border=\"1\" class=\"dataframe\">\n",
       "  <thead>\n",
       "    <tr style=\"text-align: right;\">\n",
       "      <th></th>\n",
       "      <th>temp_media</th>\n",
       "      <th>chuva</th>\n",
       "      <th>fds</th>\n",
       "      <th>consumo</th>\n",
       "    </tr>\n",
       "    <tr>\n",
       "      <th>data</th>\n",
       "      <th></th>\n",
       "      <th></th>\n",
       "      <th></th>\n",
       "      <th></th>\n",
       "    </tr>\n",
       "  </thead>\n",
       "  <tbody>\n",
       "    <tr>\n",
       "      <th>2015-01-01</th>\n",
       "      <td>27.30</td>\n",
       "      <td>0.0</td>\n",
       "      <td>0</td>\n",
       "      <td>25461</td>\n",
       "    </tr>\n",
       "    <tr>\n",
       "      <th>2015-02-01</th>\n",
       "      <td>27.02</td>\n",
       "      <td>0.0</td>\n",
       "      <td>0</td>\n",
       "      <td>28972</td>\n",
       "    </tr>\n",
       "    <tr>\n",
       "      <th>2015-03-01</th>\n",
       "      <td>24.82</td>\n",
       "      <td>0.0</td>\n",
       "      <td>1</td>\n",
       "      <td>30814</td>\n",
       "    </tr>\n",
       "    <tr>\n",
       "      <th>2015-04-01</th>\n",
       "      <td>23.98</td>\n",
       "      <td>1.2</td>\n",
       "      <td>1</td>\n",
       "      <td>29799</td>\n",
       "    </tr>\n",
       "    <tr>\n",
       "      <th>2015-05-01</th>\n",
       "      <td>23.82</td>\n",
       "      <td>0.0</td>\n",
       "      <td>0</td>\n",
       "      <td>28900</td>\n",
       "    </tr>\n",
       "    <tr>\n",
       "      <th>...</th>\n",
       "      <td>...</td>\n",
       "      <td>...</td>\n",
       "      <td>...</td>\n",
       "      <td>...</td>\n",
       "    </tr>\n",
       "    <tr>\n",
       "      <th>2015-12-27</th>\n",
       "      <td>24.00</td>\n",
       "      <td>13.6</td>\n",
       "      <td>1</td>\n",
       "      <td>32307</td>\n",
       "    </tr>\n",
       "    <tr>\n",
       "      <th>2015-12-28</th>\n",
       "      <td>22.64</td>\n",
       "      <td>0.0</td>\n",
       "      <td>0</td>\n",
       "      <td>26095</td>\n",
       "    </tr>\n",
       "    <tr>\n",
       "      <th>2015-12-29</th>\n",
       "      <td>21.68</td>\n",
       "      <td>10.3</td>\n",
       "      <td>0</td>\n",
       "      <td>22309</td>\n",
       "    </tr>\n",
       "    <tr>\n",
       "      <th>2015-12-30</th>\n",
       "      <td>21.38</td>\n",
       "      <td>6.3</td>\n",
       "      <td>0</td>\n",
       "      <td>20467</td>\n",
       "    </tr>\n",
       "    <tr>\n",
       "      <th>2015-12-31</th>\n",
       "      <td>24.76</td>\n",
       "      <td>0.0</td>\n",
       "      <td>0</td>\n",
       "      <td>22446</td>\n",
       "    </tr>\n",
       "  </tbody>\n",
       "</table>\n",
       "<p>365 rows × 4 columns</p>\n",
       "</div>"
      ],
      "text/plain": [
       "            temp_media  chuva  fds  consumo\n",
       "data                                       \n",
       "2015-01-01       27.30    0.0    0    25461\n",
       "2015-02-01       27.02    0.0    0    28972\n",
       "2015-03-01       24.82    0.0    1    30814\n",
       "2015-04-01       23.98    1.2    1    29799\n",
       "2015-05-01       23.82    0.0    0    28900\n",
       "...                ...    ...  ...      ...\n",
       "2015-12-27       24.00   13.6    1    32307\n",
       "2015-12-28       22.64    0.0    0    26095\n",
       "2015-12-29       21.68   10.3    0    22309\n",
       "2015-12-30       21.38    6.3    0    20467\n",
       "2015-12-31       24.76    0.0    0    22446\n",
       "\n",
       "[365 rows x 4 columns]"
      ]
     },
     "execution_count": 203,
     "metadata": {},
     "output_type": "execute_result"
    }
   ],
   "source": [
    "reg_df = cerveja.drop(labels=['temp_max', 'temp_min', 'dia_da_semana'], axis=1)\n",
    "reg_df"
   ]
  },
  {
   "cell_type": "markdown",
   "id": "6103e316-7056-4e13-bf97-97de21ec6747",
   "metadata": {},
   "source": [
    "## Separação das variáveis"
   ]
  },
  {
   "cell_type": "code",
   "execution_count": 204,
   "id": "a01e1028-e48f-4396-8827-59dca460dd6e",
   "metadata": {},
   "outputs": [],
   "source": [
    "X = reg_df.drop('consumo', axis=1)\n",
    "y = reg_df.consumo"
   ]
  },
  {
   "cell_type": "markdown",
   "id": "8828516e-f865-46ae-a850-ffb16d99595c",
   "metadata": {},
   "source": [
    "## Validação Holdout\n",
    "\n",
    "Hold-out é quando você divide seu conjunto de dados em um conjunto de `treino` e `teste`. O conjunto de treinamento é onde o modelo é treinado e o conjunto de teste é usado para ver o desempenho desse modelo em dados não vistos. Uma divisão comum ao usar o método hold-out é usar 80% dos dados para treinamento e os 20% restantes dos dados para teste."
   ]
  },
  {
   "cell_type": "markdown",
   "id": "7fd085eb-b1c8-4939-816d-1f4a3e541972",
   "metadata": {},
   "source": [
    "### Pré-processamento"
   ]
  },
  {
   "cell_type": "code",
   "execution_count": 212,
   "id": "8c7b8d12-da51-48d5-b6f6-61d1c86cfe60",
   "metadata": {},
   "outputs": [],
   "source": [
    "from sklearn.preprocessing import MinMaxScaler\n",
    "\n",
    "mmscaler = MinMaxScaler()\n",
    "X = mmscaler.fit_transform(X.select_dtypes(exclude=['object']))"
   ]
  },
  {
   "cell_type": "markdown",
   "id": "aa3db4ec-4614-40ee-bef0-cfc0f4139591",
   "metadata": {},
   "source": [
    "### Separação das amostras em treino e teste"
   ]
  },
  {
   "cell_type": "code",
   "execution_count": 213,
   "id": "5fcb71a9-94bc-4e4e-8fa0-2adf4c49c7cd",
   "metadata": {},
   "outputs": [],
   "source": [
    "from sklearn.model_selection import train_test_split\n",
    "X_train, X_test, y_train, y_test = train_test_split(X, y, test_size = 0.25, random_state=20)"
   ]
  },
  {
   "cell_type": "markdown",
   "id": "3327e38e-ea40-4fc5-8b53-17e62cb9a73f",
   "metadata": {},
   "source": [
    "### Dummy Regressor\n",
    "\n",
    "dummy_stratified = DummyClassifier()\n",
    "dummy_stratified.fit(treino_x, treino_y)"
   ]
  },
  {
   "cell_type": "markdown",
   "id": "7b65fdc1-171f-4286-a6ba-409875d96577",
   "metadata": {},
   "source": [
    "### Modelo de regressão linear"
   ]
  },
  {
   "cell_type": "code",
   "execution_count": 259,
   "id": "7e4830f8-3d5e-4a3b-862a-cc3bf3c014f3",
   "metadata": {},
   "outputs": [
    {
     "name": "stdout",
     "output_type": "stream",
     "text": [
      "Wall time: 4.99 ms\n"
     ]
    },
    {
     "data": {
      "text/html": [
       "<div>\n",
       "<style scoped>\n",
       "    .dataframe tbody tr th:only-of-type {\n",
       "        vertical-align: middle;\n",
       "    }\n",
       "\n",
       "    .dataframe tbody tr th {\n",
       "        vertical-align: top;\n",
       "    }\n",
       "\n",
       "    .dataframe thead th {\n",
       "        text-align: right;\n",
       "    }\n",
       "</style>\n",
       "<table border=\"1\" class=\"dataframe\">\n",
       "  <thead>\n",
       "    <tr style=\"text-align: right;\">\n",
       "      <th></th>\n",
       "      <th>Values</th>\n",
       "    </tr>\n",
       "  </thead>\n",
       "  <tbody>\n",
       "    <tr>\n",
       "      <th>R2</th>\n",
       "      <td>0.608</td>\n",
       "    </tr>\n",
       "    <tr>\n",
       "      <th>EVS</th>\n",
       "      <td>0.608</td>\n",
       "    </tr>\n",
       "    <tr>\n",
       "      <th>MAE</th>\n",
       "      <td>2231.538</td>\n",
       "    </tr>\n",
       "    <tr>\n",
       "      <th>MSE</th>\n",
       "      <td>7045581.573</td>\n",
       "    </tr>\n",
       "  </tbody>\n",
       "</table>\n",
       "</div>"
      ],
      "text/plain": [
       "          Values\n",
       "R2         0.608\n",
       "EVS        0.608\n",
       "MAE     2231.538\n",
       "MSE  7045581.573"
      ]
     },
     "execution_count": 259,
     "metadata": {},
     "output_type": "execute_result"
    }
   ],
   "source": [
    "%%time\n",
    "from sklearn.linear_model import LinearRegression\n",
    "\n",
    "model = LinearRegression()\n",
    "model.fit(X_train, y_train)\n",
    "metricas_regressao(y_test, model.predict(X_test))"
   ]
  },
  {
   "cell_type": "markdown",
   "id": "0c41e5f3-b1a7-41b6-bc60-434ff2ac869e",
   "metadata": {},
   "source": [
    "**INTERPRETAÇÃO DO MODELO DE REGRESSÃO**\n",
    "\n",
    "\n",
    "$y_{i} = \\beta_{1} + \\beta_{2}x_{2i} + \\beta_{3}x_{3i} + \\beta_{4}x_{4i} + u_{i} $\n",
    "\n",
    "onde:\n",
    "* $y_{i}$ é a variável dependente -> consumo de cerveja;\n",
    "* $\\beta_{1}$ é o intercepto;\n",
    "* $\\beta_{2}$, $\\beta_{3}$ e $\\beta_{4}$ são os coeficientes de regressão;\n",
    "* $x_{2i}$, $x_{3i}$ e $x_{4i}$ são as variáveis independentes;\n",
    "* $u_{i}$ é o termo de erro."
   ]
  },
  {
   "cell_type": "code",
   "execution_count": 276,
   "id": "ea8fce3f-f980-46a8-973f-1a63e355d77b",
   "metadata": {},
   "outputs": [
    {
     "data": {
      "application/vnd.plotly.v1+json": {
       "config": {
        "plotlyServerURL": "https://plot.ly"
       },
       "data": [
        {
         "hovertemplate": "previsao_rl=%{x}<br>consumo=%{y}<extra></extra>",
         "legendgroup": "",
         "marker": {
          "color": "#636efa",
          "symbol": "circle"
         },
         "mode": "markers",
         "name": "",
         "orientation": "v",
         "showlegend": false,
         "type": "scatter",
         "x": [
          29608.054626957368,
          29363.366161455502,
          32707.936981501443,
          31881.71507341767,
          26566.926555719925,
          25595.046526270038,
          26724.226283542554,
          23778.386203739286,
          30056.646056950496,
          34403.27849247864,
          34893.7115203819,
          28437.045542055595,
          27991.097421881495,
          28314.170193284685,
          28119.2655254309,
          28755.350539559833,
          36238.44198374261,
          35714.109557667194,
          30127.881769573618,
          29894.05357434938,
          27877.75762090848,
          22368.53092955541,
          23861.05011350259,
          30223.966232190774,
          32340.90428324865,
          23728.626946652927,
          26282.514821247423,
          27816.051320942817,
          27598.113660334922,
          25675.56143139171,
          29913.61570470535,
          32131.171312818482,
          25050.330552399966,
          25867.28553826605,
          24835.56731763108,
          23043.301521176756,
          22741.93088490752,
          28838.71889339966,
          30109.039218298247,
          26724.226283542554,
          24181.448899384595,
          27761.23725895602,
          29922.65408260262,
          28070.012843802797,
          32270.99329310526,
          29693.803800176447,
          22883.60256855358,
          19089.813904970866,
          24139.625706895764,
          26470.002270242796,
          27353.425194833057,
          33040.01418468254,
          32375.859778320348,
          27947.668611051864,
          26986.392496580265,
          25032.590314424342,
          24169.795022647224,
          27237.43594890058,
          30593.12952966391,
          29366.506641175158,
          25116.273510244595,
          25990.16088703696,
          26444.582322968992,
          27091.25898179535,
          25500.783956033236,
          27240.014636898097,
          25103.993219963573,
          18503.787449210646,
          25210.273590041626,
          25015.90003820782,
          25111.50573634565,
          25273.57323806722,
          30075.67093614606,
          30290.446441195807,
          23186.285657021683,
          23048.050889654412,
          24312.297123595614,
          24538.445609521674,
          24093.553586247104,
          28135.903450106776,
          28103.078554255422,
          21649.306105907068,
          24085.0864056296,
          24591.94108416917,
          25832.861159214335,
          26129.982867323743,
          31362.150421241196,
          30365.9188116979,
          23984.969288892167,
          25895.886046519296,
          25430.872965889845,
          24032.65316302206,
          24120.041900701293,
          30558.174034592215,
          30960.162227916706,
          24417.163608810697,
          20393.832489006156,
          22044.426601814423,
          22704.344350297655,
          23630.664969697566,
          30016.36386098095,
          28425.888835218837,
          23997.697667950364,
          24714.285316920104,
          24924.018287350274,
          22379.128709393266,
          21612.744992494583,
          31432.061411384584,
          30680.51826734315,
          25172.925005309815,
          25430.872965889845,
          23096.796995824254,
          23156.104070989364,
          25430.872965889845,
          27779.212176392484,
          27595.430269256096,
          23071.37704855045,
          23455.88749433909,
          22057.667691471303,
          19925.382492097924,
          20904.136354105376,
          27849.123166535875,
          29404.642697226293,
          23116.924188319565,
          20842.955035019266,
          21271.169052358175,
          21306.12454742987,
          19855.471501954533,
          26782.980566849186,
          25821.70445237758,
          19653.66232584103,
          20711.881131211056,
          19815.217116963915,
          20362.326180494107,
          20467.19266570919,
          26031.437422807747,
          26975.235789743507,
          22005.23444886376,
          22040.189943935457,
          22112.219263018327,
          22756.7775929052,
          23455.88749433909,
          28443.366582754687,
          30068.79710358849,
          25028.884772565354,
          24347.252618667313,
          25797.905664142643,
          21832.04418642479,
          20648.318992745688,
          26328.55913091715,
          24814.87506299643,
          19808.862130145466,
          19729.684217784386,
          21428.4687801808,
          21795.501478433594,
          21760.5459833619,
          28198.67811725282,
          29037.609998973494,
          23980.219920414514,
          23508.320736946633,
          23700.575959840953,
          25605.65044124832,
          22180.011924222235,
          29457.075939833834,
          30907.728985309164,
          19750.60501673945,
          18010.766327752237,
          23053.899301014604,
          23123.81029115799,
          18270.289230970917,
          24842.95059037013,
          26153.78165555868,
          21952.80120625622,
          22372.267147116556,
          18165.422745755834,
          18537.75433392755,
          19086.45061037725,
          24423.484649509788,
          24545.82888226072,
          20781.792121354443,
          22669.38885522596,
          21288.64679989402,
          20658.916772583532,
          19694.447826851625,
          22906.613885469196,
          21953.292241016406,
          19540.872046309283,
          20432.237170637498,
          20278.905475113632,
          21078.913829463847,
          22564.522370010876,
          26276.12588830961,
          28545.05250699033,
          25028.884772565354,
          26112.505119787893,
          23385.976504195703,
          23123.81029115799,
          22477.133632331643,
          28670.5773007207,
          28478.32207782638,
          23718.0537073768,
          20362.326180494107,
          18439.773951550895,
          20624.49239353182,
          21882.89021611283,
          23638.029837015325,
          25563.243781198857,
          20257.459695279023,
          20135.11546252809,
          19907.904744562074,
          20397.281675565802,
          22564.522370010876,
          28303.544602467908,
          28583.188563041465,
          24242.386133452226,
          24137.51964823714,
          24067.60865809375,
          24154.99739577299,
          25046.362520101204,
          29509.509182441376,
          28163.72262218113,
          24277.341628523922,
          22879.12182565613,
          23333.543261588162,
          23595.709474625874,
          23980.219920414514,
          29754.19764794324,
          28985.176756365952,
          24609.418831705018,
          24364.73036620316,
          23875.353435199428,
          19907.904744562074,
          20390.39557272737,
          26817.93606192088,
          28688.055048256545,
          20589.536898460123,
          20405.223875303756,
          22238.80015364823,
          19620.84356513011,
          18057.888410159994,
          27150.01326510198,
          30697.996014878994,
          27196.12546701043,
          24487.07459895409,
          19789.79716969011,
          22616.955612618418,
          20309.892937886565,
          24920.803780251474,
          25419.71625905309,
          22102.421224780664,
          18864.514241768433,
          17743.258278812587,
          22284.87840943732,
          18060.000603959044,
          21132.875798309815,
          23409.77529243064,
          20119.756043931728,
          24259.863880988072,
          27807.84663076509,
          29573.099131885676,
          30272.209033319567,
          35486.89883970118,
          31641.794381814754,
          27353.425194833057,
          28209.83482408958,
          28594.34526987822,
          30481.94200374974,
          26060.07187718035,
          26806.25764462178,
          30367.506024617403,
          22205.938446954293,
          24801.67405459934,
          24556.98558909748,
          23483.95075143193,
          27370.902942368906,
          26820.56096631862,
          27256.998079256547,
          20921.614101641222,
          21708.112740754357,
          27161.169971938736,
          28961.37796813101,
          27178.647719474582,
          31146.856070452326,
          30663.040519807302,
          25640.605936320015,
          24267.806080726026,
          26392.14908036145,
          30324.64227592711,
          28681.734007557454,
          29561.942425048917,
          25656.725015256772,
          23106.332543622142,
          28734.167250165,
          27266.036457153823,
          22020.050481159284,
          22636.53941881289,
          26695.59182916995,
          26433.42561613224,
          21799.182479730858,
          24968.771820659633,
          23595.709474625874,
          23718.0537073768,
          26601.882050791617,
          31274.76168356196,
          26599.174119151074,
          21777.986920055162,
          24592.9971810687,
          24034.76535682111,
          21783.54830041386,
          23018.94380594291,
          26918.03477323702,
          28659.454540003302,
          25494.953950094332,
          25680.84805102977,
          28646.778512485762,
          26531.97106064823,
          25658.08368385586,
          31658.197627029782,
          30555.51845449232,
          24242.386133452226,
          24766.718559527646,
          26952.21833768746,
          28611.82301741407,
          25572.80713997568,
          27453.48382488941,
          30470.78529691298,
          22883.346213254237,
          23879.583957937968,
          24299.056033938738,
          25221.139995459678,
          25221.139995459678,
          31729.183119493988,
          29239.382364244415,
          20645.126161485387,
          23316.065514052316,
          25063.840267637053,
          25360.961975746457,
          25640.605936320015,
          32682.779524667418,
          31214.648731656238,
          19592.731226913827,
          24714.285316920104,
          26689.270788470858,
          26724.226283542554,
          26759.18177861425,
          31921.438342388312,
          31526.32398162139,
          28563.095316665516,
          27867.690957090606,
          24896.21138555678,
          26129.982867323743,
          28831.354026081903,
          31664.30239368932,
          30332.544394405275,
          23866.324462859797,
          23946.283711399767,
          29517.48532829869,
          27092.31507869487,
          23362.10695899882,
          24134.21924917231,
          30946.908867978967,
          25535.739451104928,
          23905.797511671524,
          23950.819670561086,
          27388.380689904756
         ],
         "xaxis": "x",
         "y": [
          25461,
          28972,
          30814,
          29799,
          28900,
          28218,
          29732,
          28397,
          24886,
          37937,
          36254,
          25743,
          26990,
          31825,
          25724,
          29938,
          37690,
          30524,
          29265,
          35127,
          29130,
          25795,
          21784,
          28348,
          31088,
          21520,
          29972,
          22603,
          22696,
          26845,
          27030,
          32057,
          24097,
          31655,
          24738,
          19950,
          22821,
          28893,
          29926,
          24062,
          21137,
          26805,
          26389,
          24219,
          30231,
          24968,
          25343,
          17399,
          21392,
          22922,
          24567,
          30943,
          30825,
          25692,
          26959,
          25366,
          22784,
          26241,
          26467,
          27475,
          28749,
          24146,
          22988,
          30300,
          22654,
          29090,
          24619,
          20016,
          23042,
          22933,
          22409,
          21281,
          28844,
          32872,
          20903,
          26275,
          20167,
          23628,
          24213,
          28631,
          25855,
          21406,
          21617,
          22401,
          27989,
          24974,
          29760,
          26116,
          25850,
          24925,
          21979,
          22116,
          24867,
          33450,
          32713,
          22356,
          21004,
          23362,
          20298,
          24862,
          30505,
          25070,
          22620,
          22001,
          23469,
          21735,
          21593,
          33822,
          28028,
          24304,
          31108,
          19113,
          23198,
          24388,
          27420,
          30479,
          21838,
          20812,
          19761,
          20452,
          17939,
          25272,
          28049,
          25317,
          21826,
          20680,
          19143,
          18146,
          25489,
          23537,
          16956,
          19052,
          17287,
          20300,
          20538,
          23702,
          28411,
          21073,
          24215,
          19525,
          20786,
          20429,
          27250,
          31387,
          26075,
          22162,
          24258,
          24683,
          21245,
          25937,
          26081,
          16228,
          20106,
          21055,
          22772,
          25142,
          31129,
          30498,
          26150,
          21327,
          22008,
          24615,
          22375,
          29607,
          32983,
          19119,
          21029,
          23898,
          24534,
          16748,
          23055,
          28857,
          23022,
          27146,
          17241,
          19463,
          21860,
          24227,
          27594,
          24863,
          20161,
          20824,
          19727,
          14940,
          24632,
          21294,
          18448,
          21237,
          19849,
          20740,
          25698,
          26691,
          33298,
          25640,
          23937,
          28742,
          21748,
          22032,
          24827,
          32473,
          20620,
          21825,
          14343,
          19029,
          21104,
          20738,
          25233,
          18975,
          19640,
          22522,
          24227,
          24726,
          32467,
          31663,
          25867,
          27724,
          22039,
          26127,
          26580,
          31310,
          33517,
          23181,
          24183,
          24594,
          22610,
          25479,
          29621,
          26272,
          22541,
          23070,
          26021,
          17655,
          23243,
          30177,
          27518,
          23210,
          21092,
          23357,
          17888,
          22217,
          31681,
          31833,
          28441,
          22389,
          20681,
          24222,
          19345,
          21827,
          23566,
          20227,
          17075,
          16977,
          21525,
          21454,
          21814,
          21252,
          20464,
          30775,
          25343,
          33930,
          26311,
          31836,
          34695,
          29829,
          26362,
          32589,
          30345,
          29411,
          29637,
          32184,
          17731,
          24114,
          28034,
          22664,
          27488,
          24876,
          24862,
          24679,
          22304,
          30329,
          33182,
          23849,
          33330,
          34496,
          26249,
          26523,
          26793,
          35861,
          27387,
          32666,
          22199,
          24000,
          27871,
          31139,
          23065,
          26594,
          27657,
          26594,
          28084,
          27582,
          24862,
          22634,
          31649,
          35781,
          24429,
          20648,
          22741,
          21479,
          23134,
          20575,
          24330,
          28610,
          28456,
          27964,
          29569,
          29267,
          28647,
          26836,
          29386,
          24609,
          26964,
          23614,
          22960,
          20332,
          30392,
          31933,
          21662,
          21689,
          25119,
          25285,
          28979,
          34382,
          30617,
          20238,
          24529,
          30471,
          28405,
          29513,
          32451,
          32780,
          23375,
          27713,
          27137,
          22933,
          30740,
          29579,
          29188,
          28131,
          28617,
          21062,
          24337,
          27042,
          32536,
          30127,
          24834,
          26828,
          26468,
          31572,
          26308,
          21955,
          32307,
          26095,
          22309,
          20467,
          22446
         ],
         "yaxis": "y"
        },
        {
         "hovertemplate": "<b>OLS trendline</b><br>consumo = 0.973722 * previsao_rl + 666.823<br>R<sup>2</sup>=0.660999<br><br>previsao_rl=%{x}<br>consumo=%{y} <b>(trend)</b><extra></extra>",
         "legendgroup": "",
         "marker": {
          "color": "#636efa",
          "symbol": "circle"
         },
         "mode": "lines",
         "name": "",
         "showlegend": false,
         "type": "scatter",
         "x": [
          17743.258278812587,
          18010.766327752237,
          18057.888410159994,
          18060.000603959044,
          18165.422745755834,
          18270.289230970917,
          18439.773951550895,
          18503.787449210646,
          18537.75433392755,
          18864.514241768433,
          19086.45061037725,
          19089.813904970866,
          19540.872046309283,
          19592.731226913827,
          19620.84356513011,
          19653.66232584103,
          19694.447826851625,
          19729.684217784386,
          19750.60501673945,
          19789.79716969011,
          19808.862130145466,
          19815.217116963915,
          19855.471501954533,
          19907.904744562074,
          19907.904744562074,
          19925.382492097924,
          20119.756043931728,
          20135.11546252809,
          20257.459695279023,
          20278.905475113632,
          20309.892937886565,
          20362.326180494107,
          20362.326180494107,
          20390.39557272737,
          20393.832489006156,
          20397.281675565802,
          20405.223875303756,
          20432.237170637498,
          20467.19266570919,
          20589.536898460123,
          20624.49239353182,
          20645.126161485387,
          20648.318992745688,
          20658.916772583532,
          20711.881131211056,
          20781.792121354443,
          20842.955035019266,
          20904.136354105376,
          20921.614101641222,
          21078.913829463847,
          21132.875798309815,
          21271.169052358175,
          21288.64679989402,
          21306.12454742987,
          21428.4687801808,
          21612.744992494583,
          21649.306105907068,
          21708.112740754357,
          21760.5459833619,
          21777.986920055162,
          21783.54830041386,
          21795.501478433594,
          21799.182479730858,
          21832.04418642479,
          21882.89021611283,
          21952.80120625622,
          21953.292241016406,
          22005.23444886376,
          22020.050481159284,
          22040.189943935457,
          22044.426601814423,
          22057.667691471303,
          22102.421224780664,
          22112.219263018327,
          22180.011924222235,
          22205.938446954293,
          22238.80015364823,
          22284.87840943732,
          22368.53092955541,
          22372.267147116556,
          22379.128709393266,
          22477.133632331643,
          22564.522370010876,
          22564.522370010876,
          22616.955612618418,
          22636.53941881289,
          22669.38885522596,
          22704.344350297655,
          22741.93088490752,
          22756.7775929052,
          22879.12182565613,
          22883.346213254237,
          22883.60256855358,
          22906.613885469196,
          23018.94380594291,
          23043.301521176756,
          23048.050889654412,
          23053.899301014604,
          23071.37704855045,
          23096.796995824254,
          23106.332543622142,
          23116.924188319565,
          23123.81029115799,
          23123.81029115799,
          23156.104070989364,
          23186.285657021683,
          23316.065514052316,
          23333.543261588162,
          23362.10695899882,
          23385.976504195703,
          23409.77529243064,
          23455.88749433909,
          23455.88749433909,
          23483.95075143193,
          23508.320736946633,
          23595.709474625874,
          23595.709474625874,
          23630.664969697566,
          23638.029837015325,
          23700.575959840953,
          23718.0537073768,
          23718.0537073768,
          23728.626946652927,
          23778.386203739286,
          23861.05011350259,
          23866.324462859797,
          23875.353435199428,
          23879.583957937968,
          23905.797511671524,
          23946.283711399767,
          23950.819670561086,
          23980.219920414514,
          23980.219920414514,
          23984.969288892167,
          23997.697667950364,
          24032.65316302206,
          24034.76535682111,
          24067.60865809375,
          24085.0864056296,
          24093.553586247104,
          24120.041900701293,
          24134.21924917231,
          24137.51964823714,
          24139.625706895764,
          24154.99739577299,
          24169.795022647224,
          24181.448899384595,
          24242.386133452226,
          24242.386133452226,
          24259.863880988072,
          24267.806080726026,
          24277.341628523922,
          24299.056033938738,
          24312.297123595614,
          24347.252618667313,
          24364.73036620316,
          24417.163608810697,
          24423.484649509788,
          24487.07459895409,
          24538.445609521674,
          24545.82888226072,
          24556.98558909748,
          24591.94108416917,
          24592.9971810687,
          24609.418831705018,
          24714.285316920104,
          24714.285316920104,
          24766.718559527646,
          24801.67405459934,
          24814.87506299643,
          24835.56731763108,
          24842.95059037013,
          24896.21138555678,
          24920.803780251474,
          24924.018287350274,
          24968.771820659633,
          25015.90003820782,
          25028.884772565354,
          25028.884772565354,
          25032.590314424342,
          25046.362520101204,
          25050.330552399966,
          25063.840267637053,
          25103.993219963573,
          25111.50573634565,
          25116.273510244595,
          25172.925005309815,
          25210.273590041626,
          25221.139995459678,
          25221.139995459678,
          25273.57323806722,
          25360.961975746457,
          25419.71625905309,
          25430.872965889845,
          25430.872965889845,
          25430.872965889845,
          25494.953950094332,
          25500.783956033236,
          25535.739451104928,
          25563.243781198857,
          25572.80713997568,
          25595.046526270038,
          25605.65044124832,
          25640.605936320015,
          25640.605936320015,
          25656.725015256772,
          25658.08368385586,
          25675.56143139171,
          25680.84805102977,
          25797.905664142643,
          25821.70445237758,
          25832.861159214335,
          25867.28553826605,
          25895.886046519296,
          25990.16088703696,
          26031.437422807747,
          26060.07187718035,
          26112.505119787893,
          26129.982867323743,
          26129.982867323743,
          26153.78165555868,
          26276.12588830961,
          26282.514821247423,
          26328.55913091715,
          26392.14908036145,
          26433.42561613224,
          26444.582322968992,
          26470.002270242796,
          26531.97106064823,
          26566.926555719925,
          26599.174119151074,
          26601.882050791617,
          26689.270788470858,
          26695.59182916995,
          26724.226283542554,
          26724.226283542554,
          26724.226283542554,
          26759.18177861425,
          26782.980566849186,
          26806.25764462178,
          26817.93606192088,
          26820.56096631862,
          26918.03477323702,
          26952.21833768746,
          26975.235789743507,
          26986.392496580265,
          27091.25898179535,
          27092.31507869487,
          27150.01326510198,
          27161.169971938736,
          27178.647719474582,
          27196.12546701043,
          27237.43594890058,
          27240.014636898097,
          27256.998079256547,
          27266.036457153823,
          27353.425194833057,
          27353.425194833057,
          27370.902942368906,
          27388.380689904756,
          27453.48382488941,
          27595.430269256096,
          27598.113660334922,
          27761.23725895602,
          27779.212176392484,
          27807.84663076509,
          27816.051320942817,
          27849.123166535875,
          27867.690957090606,
          27877.75762090848,
          27947.668611051864,
          27991.097421881495,
          28070.012843802797,
          28103.078554255422,
          28119.2655254309,
          28135.903450106776,
          28163.72262218113,
          28198.67811725282,
          28209.83482408958,
          28303.544602467908,
          28314.170193284685,
          28425.888835218837,
          28437.045542055595,
          28443.366582754687,
          28478.32207782638,
          28545.05250699033,
          28563.095316665516,
          28583.188563041465,
          28594.34526987822,
          28611.82301741407,
          28646.778512485762,
          28659.454540003302,
          28670.5773007207,
          28681.734007557454,
          28688.055048256545,
          28734.167250165,
          28755.350539559833,
          28831.354026081903,
          28838.71889339966,
          28961.37796813101,
          28985.176756365952,
          29037.609998973494,
          29239.382364244415,
          29363.366161455502,
          29366.506641175158,
          29404.642697226293,
          29457.075939833834,
          29509.509182441376,
          29517.48532829869,
          29561.942425048917,
          29573.099131885676,
          29608.054626957368,
          29693.803800176447,
          29754.19764794324,
          29894.05357434938,
          29913.61570470535,
          29922.65408260262,
          30016.36386098095,
          30056.646056950496,
          30068.79710358849,
          30075.67093614606,
          30109.039218298247,
          30127.881769573618,
          30223.966232190774,
          30272.209033319567,
          30290.446441195807,
          30324.64227592711,
          30332.544394405275,
          30365.9188116979,
          30367.506024617403,
          30470.78529691298,
          30481.94200374974,
          30555.51845449232,
          30558.174034592215,
          30593.12952966391,
          30663.040519807302,
          30680.51826734315,
          30697.996014878994,
          30907.728985309164,
          30946.908867978967,
          30960.162227916706,
          31146.856070452326,
          31214.648731656238,
          31274.76168356196,
          31362.150421241196,
          31432.061411384584,
          31526.32398162139,
          31641.794381814754,
          31658.197627029782,
          31664.30239368932,
          31729.183119493988,
          31881.71507341767,
          31921.438342388312,
          32131.171312818482,
          32270.99329310526,
          32340.90428324865,
          32375.859778320348,
          32682.779524667418,
          32707.936981501443,
          33040.01418468254,
          34403.27849247864,
          34893.7115203819,
          35486.89883970118,
          35714.109557667194,
          36238.44198374261
         ],
         "xaxis": "x",
         "y": [
          17943.829774842652,
          18204.308335413654,
          18250.192159266182,
          18252.24884953253,
          18354.900743022787,
          18457.01158129191,
          18622.04263822811,
          18684.374010288204,
          18717.448324400288,
          19035.621743047242,
          19251.726140887706,
          19255.001055934164,
          19694.206440053906,
          19744.70288219764,
          19772.076493653025,
          19804.032853783454,
          19843.746606836932,
          19878.057067498823,
          19898.428116592153,
          19936.59039106102,
          19955.154368767257,
          19961.342361336,
          20000.538954861273,
          20051.594373995835,
          20051.594373995835,
          20068.61284704069,
          20257.87871472366,
          20272.834523578935,
          20391.963834892915,
          20412.84606959121,
          20443.019254027473,
          20494.074673162035,
          20494.074673162035,
          20521.406467154797,
          20524.75306928004,
          20528.111619251744,
          20535.845116481865,
          20562.148565341453,
          20596.18551143116,
          20715.314822745135,
          20749.351768834844,
          20769.44332943276,
          20772.55226052521,
          20782.87155539635,
          20834.444134059115,
          20902.51802623853,
          20962.07372101067,
          21021.647337552506,
          21038.66581059736,
          21191.83206800104,
          21244.376042009637,
          21379.035271494442,
          21396.053744539295,
          21413.07221758415,
          21532.201528898124,
          21711.635391622007,
          21747.23576414278,
          21804.497097615786,
          21855.552516750347,
          21872.53514625581,
          21877.950386493863,
          21889.589462840057,
          21893.173735998083,
          21925.171913591137,
          21974.681828064324,
          22042.75572024374,
          22043.23385175429,
          22093.8111393783,
          22108.237840858903,
          22127.84808546801,
          22131.97341384717,
          22144.866558512862,
          22188.444073219787,
          22197.984641837003,
          22263.99586982684,
          22289.24110393709,
          22321.239281530146,
          22366.106708095962,
          22447.561034853108,
          22451.199073320233,
          22457.880329724256,
          22553.309911589356,
          22638.402276813624,
          22638.402276813624,
          22689.457695948186,
          22708.526885336156,
          22740.513115082744,
          22774.550061172453,
          22811.14890921025,
          22825.60548030702,
          22944.734791620995,
          22948.848172153695,
          22949.097791032946,
          22971.504424144667,
          23080.882575979824,
          23104.600227198396,
          23109.224793336067,
          23114.919522069533,
          23131.937995114386,
          23156.68996538936,
          23165.97494120409,
          23176.288262152,
          23182.993414248947,
          23182.993414248947,
          23214.438588774407,
          23243.827073033517,
          23370.196617742342,
          23387.215090787195,
          23415.028200768764,
          23438.270509921756,
          23461.443921440932,
          23506.344402101167,
          23506.344402101167,
          23533.670222170702,
          23557.39982123573,
          23642.492186460004,
          23642.492186460004,
          23676.52913254971,
          23683.700468310748,
          23744.603024729124,
          23761.621497773973,
          23761.621497773973,
          23771.916896952185,
          23820.36859667604,
          23900.860291455563,
          23905.99604319821,
          23914.787755177662,
          23918.907109633597,
          23944.43183223926,
          23983.854148950868,
          23988.270913671902,
          24016.898593446786,
          24016.898593446786,
          24021.523159584456,
          24033.917066491642,
          24067.95401258135,
          24070.0107028477,
          24101.990958671056,
          24119.009431715913,
          24127.254114551004,
          24153.04637780562,
          24166.851178584817,
          24170.06485085047,
          24172.11556719359,
          24187.083323895327,
          24201.49210360624,
          24212.839743610548,
          24272.175689119595,
          24272.175689119595,
          24289.194162164447,
          24296.92765939457,
          24306.212635209304,
          24327.356436633323,
          24340.24958129901,
          24374.286527388722,
          24391.305000433575,
          24442.360419568133,
          24448.515358042456,
          24510.43431174755,
          24560.455411825704,
          24567.644669356436,
          24578.508203926966,
          24612.54515001667,
          24613.573495149845,
          24629.563623061524,
          24731.67446133065,
          24731.67446133065,
          24782.72988046521,
          24816.76682655492,
          24829.620943202957,
          24849.769453588222,
          24856.95871111895,
          24908.81993667862,
          24932.76610052849,
          24935.8961378689,
          24979.47365257582,
          25025.363450351582,
          25038.006976138015,
          25038.006976138015,
          25041.615144988977,
          25055.02544918287,
          25058.889210836318,
          25072.043922227727,
          25111.141748503032,
          25118.456853454925,
          25123.09934136229,
          25178.26216710632,
          25214.629318034556,
          25225.210179631413,
          25225.210179631413,
          25276.265598765975,
          25361.357963990242,
          25418.568321599127,
          25429.431856169656,
          25429.431856169656,
          25429.431856169656,
          25491.828941385298,
          25497.505748349075,
          25531.54269443878,
          25558.324274808918,
          25567.63633079484,
          25589.291317823823,
          25599.616586618195,
          25633.653532707904,
          25633.653532707904,
          25649.349039799446,
          25650.672005752756,
          25667.690478797613,
          25672.838178386715,
          25786.819790111593,
          25809.99320163077,
          25820.856736201295,
          25854.3765227628,
          25882.225476283766,
          25974.02299360498,
          26014.214878169012,
          26042.0968857844,
          26093.152304918956,
          26110.170777963813,
          26110.170777963813,
          26133.34418948299,
          26252.473500796965,
          26258.694547460134,
          26303.528919931527,
          26365.447873636618,
          26405.639758200654,
          26416.50329277118,
          26441.255263046158,
          26501.59565799545,
          26535.63260408516,
          26567.032776669734,
          26569.66955017486,
          26654.761915399136,
          26660.91685387346,
          26688.798861488845,
          26688.798861488845,
          26688.798861488845,
          26722.835807578555,
          26746.00921909773,
          26768.674629490193,
          26780.046165187436,
          26782.602093212292,
          26877.514515549195,
          26910.79981555617,
          26933.21242259112,
          26944.075957161655,
          27046.186795430778,
          27047.21514056395,
          27103.397153039663,
          27114.26068761019,
          27131.27916065504,
          27148.297633699898,
          27188.522572358354,
          27191.033498442324,
          27207.570655498366,
          27216.371525879316,
          27301.463891103584,
          27301.463891103584,
          27318.48236414844,
          27335.500837193293,
          27398.893213447693,
          27537.10963591933,
          27539.72251373154,
          27698.55960417576,
          27716.062182654397,
          27743.944190269784,
          27751.93328030239,
          27784.136074833816,
          27802.215947106262,
          27812.0180824492,
          27880.09197462861,
          27922.379577476644,
          27999.22128594259,
          28031.41810655078,
          28047.179721831162,
          28063.380440604447,
          28090.468589641187,
          28124.505535730892,
          28135.36907030142,
          28226.616374000016,
          28236.96274904234,
          28345.745685313992,
          28356.60921988452,
          28362.76415835885,
          28396.801104448554,
          28461.778013381983,
          28479.34670004946,
          28498.911942717677,
          28509.775477288207,
          28526.793950333064,
          28560.83089642277,
          28573.173827465835,
          28584.004307941945,
          28594.867842512474,
          28601.022780986797,
          28645.923261647036,
          28666.549903542847,
          28740.556195488527,
          28747.72753124956,
          28867.163411230136,
          28890.336822749316,
          28941.392241883874,
          29137.862499422306,
          29258.588291261774,
          29261.646246490116,
          29298.78017582581,
          29349.835594960372,
          29400.891014094934,
          29408.657565419475,
          29451.946433229492,
          29462.809967800025,
          29496.84691388973,
          29580.342798588506,
          29639.14963672289,
          29775.33047517614,
          29794.37855831615,
          29803.1794286971,
          29894.426732395696,
          29933.650406092158,
          29945.482151530257,
          29952.17535578074,
          29984.666797209065,
          30003.014210130466,
          30096.573796897897,
          30143.548889594178,
          30161.3070608753,
          30194.60430872874,
          30202.298777941207,
          30234.796193292772,
          30236.34169795415,
          30336.907031561896,
          30347.77056613243,
          30419.413599145144,
          30421.999396786163,
          30456.036342875872,
          30524.110235055286,
          30541.12870810014,
          30558.147181144992,
          30762.36885768324,
          30800.51918430565,
          30813.4242768178,
          30995.212240073135,
          31061.223468062977,
          31119.756791625172,
          31204.849156849443,
          31272.923049028854,
          31364.70861850361,
          31477.144725567105,
          31493.116931709086,
          31499.061279321806,
          31562.23709079137,
          31710.76086028769,
          31749.440294284766,
          31953.661970823014,
          32089.809755181843,
          32157.883647361257,
          32191.92059345097,
          32490.7752038307,
          32515.27158130319,
          32838.62256915541,
          34166.06346665401,
          34643.6090570431,
          35221.20879543495,
          35442.448945018055,
          35953.003136363666
         ],
         "yaxis": "y"
        }
       ],
       "layout": {
        "autosize": true,
        "font": {
         "color": "navy",
         "family": "New latin, monospace",
         "size": 14
        },
        "legend": {
         "tracegroupgap": 0,
         "x": 1.5,
         "y": 1.5
        },
        "margin": {
         "t": 60
        },
        "template": {
         "data": {
          "bar": [
           {
            "error_x": {
             "color": "#2a3f5f"
            },
            "error_y": {
             "color": "#2a3f5f"
            },
            "marker": {
             "line": {
              "color": "#E5ECF6",
              "width": 0.5
             },
             "pattern": {
              "fillmode": "overlay",
              "size": 10,
              "solidity": 0.2
             }
            },
            "type": "bar"
           }
          ],
          "barpolar": [
           {
            "marker": {
             "line": {
              "color": "#E5ECF6",
              "width": 0.5
             },
             "pattern": {
              "fillmode": "overlay",
              "size": 10,
              "solidity": 0.2
             }
            },
            "type": "barpolar"
           }
          ],
          "carpet": [
           {
            "aaxis": {
             "endlinecolor": "#2a3f5f",
             "gridcolor": "white",
             "linecolor": "white",
             "minorgridcolor": "white",
             "startlinecolor": "#2a3f5f"
            },
            "baxis": {
             "endlinecolor": "#2a3f5f",
             "gridcolor": "white",
             "linecolor": "white",
             "minorgridcolor": "white",
             "startlinecolor": "#2a3f5f"
            },
            "type": "carpet"
           }
          ],
          "choropleth": [
           {
            "colorbar": {
             "outlinewidth": 0,
             "ticks": ""
            },
            "type": "choropleth"
           }
          ],
          "contour": [
           {
            "colorbar": {
             "outlinewidth": 0,
             "ticks": ""
            },
            "colorscale": [
             [
              0,
              "#0d0887"
             ],
             [
              0.1111111111111111,
              "#46039f"
             ],
             [
              0.2222222222222222,
              "#7201a8"
             ],
             [
              0.3333333333333333,
              "#9c179e"
             ],
             [
              0.4444444444444444,
              "#bd3786"
             ],
             [
              0.5555555555555556,
              "#d8576b"
             ],
             [
              0.6666666666666666,
              "#ed7953"
             ],
             [
              0.7777777777777778,
              "#fb9f3a"
             ],
             [
              0.8888888888888888,
              "#fdca26"
             ],
             [
              1,
              "#f0f921"
             ]
            ],
            "type": "contour"
           }
          ],
          "contourcarpet": [
           {
            "colorbar": {
             "outlinewidth": 0,
             "ticks": ""
            },
            "type": "contourcarpet"
           }
          ],
          "heatmap": [
           {
            "colorbar": {
             "outlinewidth": 0,
             "ticks": ""
            },
            "colorscale": [
             [
              0,
              "#0d0887"
             ],
             [
              0.1111111111111111,
              "#46039f"
             ],
             [
              0.2222222222222222,
              "#7201a8"
             ],
             [
              0.3333333333333333,
              "#9c179e"
             ],
             [
              0.4444444444444444,
              "#bd3786"
             ],
             [
              0.5555555555555556,
              "#d8576b"
             ],
             [
              0.6666666666666666,
              "#ed7953"
             ],
             [
              0.7777777777777778,
              "#fb9f3a"
             ],
             [
              0.8888888888888888,
              "#fdca26"
             ],
             [
              1,
              "#f0f921"
             ]
            ],
            "type": "heatmap"
           }
          ],
          "heatmapgl": [
           {
            "colorbar": {
             "outlinewidth": 0,
             "ticks": ""
            },
            "colorscale": [
             [
              0,
              "#0d0887"
             ],
             [
              0.1111111111111111,
              "#46039f"
             ],
             [
              0.2222222222222222,
              "#7201a8"
             ],
             [
              0.3333333333333333,
              "#9c179e"
             ],
             [
              0.4444444444444444,
              "#bd3786"
             ],
             [
              0.5555555555555556,
              "#d8576b"
             ],
             [
              0.6666666666666666,
              "#ed7953"
             ],
             [
              0.7777777777777778,
              "#fb9f3a"
             ],
             [
              0.8888888888888888,
              "#fdca26"
             ],
             [
              1,
              "#f0f921"
             ]
            ],
            "type": "heatmapgl"
           }
          ],
          "histogram": [
           {
            "marker": {
             "pattern": {
              "fillmode": "overlay",
              "size": 10,
              "solidity": 0.2
             }
            },
            "type": "histogram"
           }
          ],
          "histogram2d": [
           {
            "colorbar": {
             "outlinewidth": 0,
             "ticks": ""
            },
            "colorscale": [
             [
              0,
              "#0d0887"
             ],
             [
              0.1111111111111111,
              "#46039f"
             ],
             [
              0.2222222222222222,
              "#7201a8"
             ],
             [
              0.3333333333333333,
              "#9c179e"
             ],
             [
              0.4444444444444444,
              "#bd3786"
             ],
             [
              0.5555555555555556,
              "#d8576b"
             ],
             [
              0.6666666666666666,
              "#ed7953"
             ],
             [
              0.7777777777777778,
              "#fb9f3a"
             ],
             [
              0.8888888888888888,
              "#fdca26"
             ],
             [
              1,
              "#f0f921"
             ]
            ],
            "type": "histogram2d"
           }
          ],
          "histogram2dcontour": [
           {
            "colorbar": {
             "outlinewidth": 0,
             "ticks": ""
            },
            "colorscale": [
             [
              0,
              "#0d0887"
             ],
             [
              0.1111111111111111,
              "#46039f"
             ],
             [
              0.2222222222222222,
              "#7201a8"
             ],
             [
              0.3333333333333333,
              "#9c179e"
             ],
             [
              0.4444444444444444,
              "#bd3786"
             ],
             [
              0.5555555555555556,
              "#d8576b"
             ],
             [
              0.6666666666666666,
              "#ed7953"
             ],
             [
              0.7777777777777778,
              "#fb9f3a"
             ],
             [
              0.8888888888888888,
              "#fdca26"
             ],
             [
              1,
              "#f0f921"
             ]
            ],
            "type": "histogram2dcontour"
           }
          ],
          "mesh3d": [
           {
            "colorbar": {
             "outlinewidth": 0,
             "ticks": ""
            },
            "type": "mesh3d"
           }
          ],
          "parcoords": [
           {
            "line": {
             "colorbar": {
              "outlinewidth": 0,
              "ticks": ""
             }
            },
            "type": "parcoords"
           }
          ],
          "pie": [
           {
            "automargin": true,
            "type": "pie"
           }
          ],
          "scatter": [
           {
            "marker": {
             "colorbar": {
              "outlinewidth": 0,
              "ticks": ""
             }
            },
            "type": "scatter"
           }
          ],
          "scatter3d": [
           {
            "line": {
             "colorbar": {
              "outlinewidth": 0,
              "ticks": ""
             }
            },
            "marker": {
             "colorbar": {
              "outlinewidth": 0,
              "ticks": ""
             }
            },
            "type": "scatter3d"
           }
          ],
          "scattercarpet": [
           {
            "marker": {
             "colorbar": {
              "outlinewidth": 0,
              "ticks": ""
             }
            },
            "type": "scattercarpet"
           }
          ],
          "scattergeo": [
           {
            "marker": {
             "colorbar": {
              "outlinewidth": 0,
              "ticks": ""
             }
            },
            "type": "scattergeo"
           }
          ],
          "scattergl": [
           {
            "marker": {
             "colorbar": {
              "outlinewidth": 0,
              "ticks": ""
             }
            },
            "type": "scattergl"
           }
          ],
          "scattermapbox": [
           {
            "marker": {
             "colorbar": {
              "outlinewidth": 0,
              "ticks": ""
             }
            },
            "type": "scattermapbox"
           }
          ],
          "scatterpolar": [
           {
            "marker": {
             "colorbar": {
              "outlinewidth": 0,
              "ticks": ""
             }
            },
            "type": "scatterpolar"
           }
          ],
          "scatterpolargl": [
           {
            "marker": {
             "colorbar": {
              "outlinewidth": 0,
              "ticks": ""
             }
            },
            "type": "scatterpolargl"
           }
          ],
          "scatterternary": [
           {
            "marker": {
             "colorbar": {
              "outlinewidth": 0,
              "ticks": ""
             }
            },
            "type": "scatterternary"
           }
          ],
          "surface": [
           {
            "colorbar": {
             "outlinewidth": 0,
             "ticks": ""
            },
            "colorscale": [
             [
              0,
              "#0d0887"
             ],
             [
              0.1111111111111111,
              "#46039f"
             ],
             [
              0.2222222222222222,
              "#7201a8"
             ],
             [
              0.3333333333333333,
              "#9c179e"
             ],
             [
              0.4444444444444444,
              "#bd3786"
             ],
             [
              0.5555555555555556,
              "#d8576b"
             ],
             [
              0.6666666666666666,
              "#ed7953"
             ],
             [
              0.7777777777777778,
              "#fb9f3a"
             ],
             [
              0.8888888888888888,
              "#fdca26"
             ],
             [
              1,
              "#f0f921"
             ]
            ],
            "type": "surface"
           }
          ],
          "table": [
           {
            "cells": {
             "fill": {
              "color": "#EBF0F8"
             },
             "line": {
              "color": "white"
             }
            },
            "header": {
             "fill": {
              "color": "#C8D4E3"
             },
             "line": {
              "color": "white"
             }
            },
            "type": "table"
           }
          ]
         },
         "layout": {
          "annotationdefaults": {
           "arrowcolor": "#2a3f5f",
           "arrowhead": 0,
           "arrowwidth": 1
          },
          "autotypenumbers": "strict",
          "coloraxis": {
           "colorbar": {
            "outlinewidth": 0,
            "ticks": ""
           }
          },
          "colorscale": {
           "diverging": [
            [
             0,
             "#8e0152"
            ],
            [
             0.1,
             "#c51b7d"
            ],
            [
             0.2,
             "#de77ae"
            ],
            [
             0.3,
             "#f1b6da"
            ],
            [
             0.4,
             "#fde0ef"
            ],
            [
             0.5,
             "#f7f7f7"
            ],
            [
             0.6,
             "#e6f5d0"
            ],
            [
             0.7,
             "#b8e186"
            ],
            [
             0.8,
             "#7fbc41"
            ],
            [
             0.9,
             "#4d9221"
            ],
            [
             1,
             "#276419"
            ]
           ],
           "sequential": [
            [
             0,
             "#0d0887"
            ],
            [
             0.1111111111111111,
             "#46039f"
            ],
            [
             0.2222222222222222,
             "#7201a8"
            ],
            [
             0.3333333333333333,
             "#9c179e"
            ],
            [
             0.4444444444444444,
             "#bd3786"
            ],
            [
             0.5555555555555556,
             "#d8576b"
            ],
            [
             0.6666666666666666,
             "#ed7953"
            ],
            [
             0.7777777777777778,
             "#fb9f3a"
            ],
            [
             0.8888888888888888,
             "#fdca26"
            ],
            [
             1,
             "#f0f921"
            ]
           ],
           "sequentialminus": [
            [
             0,
             "#0d0887"
            ],
            [
             0.1111111111111111,
             "#46039f"
            ],
            [
             0.2222222222222222,
             "#7201a8"
            ],
            [
             0.3333333333333333,
             "#9c179e"
            ],
            [
             0.4444444444444444,
             "#bd3786"
            ],
            [
             0.5555555555555556,
             "#d8576b"
            ],
            [
             0.6666666666666666,
             "#ed7953"
            ],
            [
             0.7777777777777778,
             "#fb9f3a"
            ],
            [
             0.8888888888888888,
             "#fdca26"
            ],
            [
             1,
             "#f0f921"
            ]
           ]
          },
          "colorway": [
           "#636efa",
           "#EF553B",
           "#00cc96",
           "#ab63fa",
           "#FFA15A",
           "#19d3f3",
           "#FF6692",
           "#B6E880",
           "#FF97FF",
           "#FECB52"
          ],
          "font": {
           "color": "#2a3f5f"
          },
          "geo": {
           "bgcolor": "white",
           "lakecolor": "white",
           "landcolor": "#E5ECF6",
           "showlakes": true,
           "showland": true,
           "subunitcolor": "white"
          },
          "hoverlabel": {
           "align": "left"
          },
          "hovermode": "closest",
          "mapbox": {
           "style": "light"
          },
          "paper_bgcolor": "white",
          "plot_bgcolor": "#E5ECF6",
          "polar": {
           "angularaxis": {
            "gridcolor": "white",
            "linecolor": "white",
            "ticks": ""
           },
           "bgcolor": "#E5ECF6",
           "radialaxis": {
            "gridcolor": "white",
            "linecolor": "white",
            "ticks": ""
           }
          },
          "scene": {
           "xaxis": {
            "backgroundcolor": "#E5ECF6",
            "gridcolor": "white",
            "gridwidth": 2,
            "linecolor": "white",
            "showbackground": true,
            "ticks": "",
            "zerolinecolor": "white"
           },
           "yaxis": {
            "backgroundcolor": "#E5ECF6",
            "gridcolor": "white",
            "gridwidth": 2,
            "linecolor": "white",
            "showbackground": true,
            "ticks": "",
            "zerolinecolor": "white"
           },
           "zaxis": {
            "backgroundcolor": "#E5ECF6",
            "gridcolor": "white",
            "gridwidth": 2,
            "linecolor": "white",
            "showbackground": true,
            "ticks": "",
            "zerolinecolor": "white"
           }
          },
          "shapedefaults": {
           "line": {
            "color": "#2a3f5f"
           }
          },
          "ternary": {
           "aaxis": {
            "gridcolor": "white",
            "linecolor": "white",
            "ticks": ""
           },
           "baxis": {
            "gridcolor": "white",
            "linecolor": "white",
            "ticks": ""
           },
           "bgcolor": "#E5ECF6",
           "caxis": {
            "gridcolor": "white",
            "linecolor": "white",
            "ticks": ""
           }
          },
          "title": {
           "x": 0.05
          },
          "xaxis": {
           "automargin": true,
           "gridcolor": "white",
           "linecolor": "white",
           "ticks": "",
           "title": {
            "standoff": 15
           },
           "zerolinecolor": "white",
           "zerolinewidth": 2
          },
          "yaxis": {
           "automargin": true,
           "gridcolor": "white",
           "linecolor": "white",
           "ticks": "",
           "title": {
            "standoff": 15
           },
           "zerolinecolor": "white",
           "zerolinewidth": 2
          }
         }
        },
        "title": {
         "text": "Correlação entre o consumo pela temperatura"
        },
        "xaxis": {
         "anchor": "y",
         "autorange": true,
         "domain": [
          0,
          1
         ],
         "range": [
          16633.309834389638,
          37348.39042816556
         ],
         "title": {
          "text": "Consumo real"
         },
         "type": "linear"
        },
        "yaxis": {
         "anchor": "x",
         "autorange": true,
         "domain": [
          0,
          1
         ],
         "range": [
          12516.167979002625,
          39763.832020997375
         ],
         "title": {
          "text": "Consumo previsto"
         },
         "type": "linear"
        }
       }
      },
      "image/png": "[encoded data removed]",
      "text/html": [
       "<div>                            <div id=\"44456c77-79f8-446b-8fe3-0841040d1450\" class=\"plotly-graph-div\" style=\"height:525px; width:100%;\"></div>            <script type=\"text/javascript\">                require([\"plotly\"], function(Plotly) {                    window.PLOTLYENV=window.PLOTLYENV || {};                                    if (document.getElementById(\"44456c77-79f8-446b-8fe3-0841040d1450\")) {                    Plotly.newPlot(                        \"44456c77-79f8-446b-8fe3-0841040d1450\",                        [{\"hovertemplate\":\"previsao_rl=%{x}<br>consumo=%{y}<extra></extra>\",\"legendgroup\":\"\",\"marker\":{\"color\":\"#636efa\",\"symbol\":\"circle\"},\"mode\":\"markers\",\"name\":\"\",\"orientation\":\"v\",\"showlegend\":false,\"type\":\"scatter\",\"x\":[29608.054626957368,29363.366161455502,32707.936981501443,31881.71507341767,26566.926555719925,25595.046526270038,26724.226283542554,23778.386203739286,30056.646056950496,34403.27849247864,34893.7115203819,28437.045542055595,27991.097421881495,28314.170193284685,28119.2655254309,28755.350539559833,36238.44198374261,35714.109557667194,30127.881769573618,29894.05357434938,27877.75762090848,22368.53092955541,23861.05011350259,30223.966232190774,32340.90428324865,23728.626946652927,26282.514821247423,27816.051320942817,27598.113660334922,25675.56143139171,29913.61570470535,32131.171312818482,25050.330552399966,25867.28553826605,24835.56731763108,23043.301521176756,22741.93088490752,28838.71889339966,30109.039218298247,26724.226283542554,24181.448899384595,27761.23725895602,29922.65408260262,28070.012843802797,32270.99329310526,29693.803800176447,22883.60256855358,19089.813904970866,24139.625706895764,26470.002270242796,27353.425194833057,33040.01418468254,32375.859778320348,27947.668611051864,26986.392496580265,25032.590314424342,24169.795022647224,27237.43594890058,30593.12952966391,29366.506641175158,25116.273510244595,25990.16088703696,26444.582322968992,27091.25898179535,25500.783956033236,27240.014636898097,25103.993219963573,18503.787449210646,25210.273590041626,25015.90003820782,25111.50573634565,25273.57323806722,30075.67093614606,30290.446441195807,23186.285657021683,23048.050889654412,24312.297123595614,24538.445609521674,24093.553586247104,28135.903450106776,28103.078554255422,21649.306105907068,24085.0864056296,24591.94108416917,25832.861159214335,26129.982867323743,31362.150421241196,30365.9188116979,23984.969288892167,25895.886046519296,25430.872965889845,24032.65316302206,24120.041900701293,30558.174034592215,30960.162227916706,24417.163608810697,20393.832489006156,22044.426601814423,22704.344350297655,23630.664969697566,30016.36386098095,28425.888835218837,23997.697667950364,24714.285316920104,24924.018287350274,22379.128709393266,21612.744992494583,31432.061411384584,30680.51826734315,25172.925005309815,25430.872965889845,23096.796995824254,23156.104070989364,25430.872965889845,27779.212176392484,27595.430269256096,23071.37704855045,23455.88749433909,22057.667691471303,19925.382492097924,20904.136354105376,27849.123166535875,29404.642697226293,23116.924188319565,20842.955035019266,21271.169052358175,21306.12454742987,19855.471501954533,26782.980566849186,25821.70445237758,19653.66232584103,20711.881131211056,19815.217116963915,20362.326180494107,20467.19266570919,26031.437422807747,26975.235789743507,22005.23444886376,22040.189943935457,22112.219263018327,22756.7775929052,23455.88749433909,28443.366582754687,30068.79710358849,25028.884772565354,24347.252618667313,25797.905664142643,21832.04418642479,20648.318992745688,26328.55913091715,24814.87506299643,19808.862130145466,19729.684217784386,21428.4687801808,21795.501478433594,21760.5459833619,28198.67811725282,29037.609998973494,23980.219920414514,23508.320736946633,23700.575959840953,25605.65044124832,22180.011924222235,29457.075939833834,30907.728985309164,19750.60501673945,18010.766327752237,23053.899301014604,23123.81029115799,18270.289230970917,24842.95059037013,26153.78165555868,21952.80120625622,22372.267147116556,18165.422745755834,18537.75433392755,19086.45061037725,24423.484649509788,24545.82888226072,20781.792121354443,22669.38885522596,21288.64679989402,20658.916772583532,19694.447826851625,22906.613885469196,21953.292241016406,19540.872046309283,20432.237170637498,20278.905475113632,21078.913829463847,22564.522370010876,26276.12588830961,28545.05250699033,25028.884772565354,26112.505119787893,23385.976504195703,23123.81029115799,22477.133632331643,28670.5773007207,28478.32207782638,23718.0537073768,20362.326180494107,18439.773951550895,20624.49239353182,21882.89021611283,23638.029837015325,25563.243781198857,20257.459695279023,20135.11546252809,19907.904744562074,20397.281675565802,22564.522370010876,28303.544602467908,28583.188563041465,24242.386133452226,24137.51964823714,24067.60865809375,24154.99739577299,25046.362520101204,29509.509182441376,28163.72262218113,24277.341628523922,22879.12182565613,23333.543261588162,23595.709474625874,23980.219920414514,29754.19764794324,28985.176756365952,24609.418831705018,24364.73036620316,23875.353435199428,19907.904744562074,20390.39557272737,26817.93606192088,28688.055048256545,20589.536898460123,20405.223875303756,22238.80015364823,19620.84356513011,18057.888410159994,27150.01326510198,30697.996014878994,27196.12546701043,24487.07459895409,19789.79716969011,22616.955612618418,20309.892937886565,24920.803780251474,25419.71625905309,22102.421224780664,18864.514241768433,17743.258278812587,22284.87840943732,18060.000603959044,21132.875798309815,23409.77529243064,20119.756043931728,24259.863880988072,27807.84663076509,29573.099131885676,30272.209033319567,35486.89883970118,31641.794381814754,27353.425194833057,28209.83482408958,28594.34526987822,30481.94200374974,26060.07187718035,26806.25764462178,30367.506024617403,22205.938446954293,24801.67405459934,24556.98558909748,23483.95075143193,27370.902942368906,26820.56096631862,27256.998079256547,20921.614101641222,21708.112740754357,27161.169971938736,28961.37796813101,27178.647719474582,31146.856070452326,30663.040519807302,25640.605936320015,24267.806080726026,26392.14908036145,30324.64227592711,28681.734007557454,29561.942425048917,25656.725015256772,23106.332543622142,28734.167250165,27266.036457153823,22020.050481159284,22636.53941881289,26695.59182916995,26433.42561613224,21799.182479730858,24968.771820659633,23595.709474625874,23718.0537073768,26601.882050791617,31274.76168356196,26599.174119151074,21777.986920055162,24592.9971810687,24034.76535682111,21783.54830041386,23018.94380594291,26918.03477323702,28659.454540003302,25494.953950094332,25680.84805102977,28646.778512485762,26531.97106064823,25658.08368385586,31658.197627029782,30555.51845449232,24242.386133452226,24766.718559527646,26952.21833768746,28611.82301741407,25572.80713997568,27453.48382488941,30470.78529691298,22883.346213254237,23879.583957937968,24299.056033938738,25221.139995459678,25221.139995459678,31729.183119493988,29239.382364244415,20645.126161485387,23316.065514052316,25063.840267637053,25360.961975746457,25640.605936320015,32682.779524667418,31214.648731656238,19592.731226913827,24714.285316920104,26689.270788470858,26724.226283542554,26759.18177861425,31921.438342388312,31526.32398162139,28563.095316665516,27867.690957090606,24896.21138555678,26129.982867323743,28831.354026081903,31664.30239368932,30332.544394405275,23866.324462859797,23946.283711399767,29517.48532829869,27092.31507869487,23362.10695899882,24134.21924917231,30946.908867978967,25535.739451104928,23905.797511671524,23950.819670561086,27388.380689904756],\"xaxis\":\"x\",\"y\":[25461,28972,30814,29799,28900,28218,29732,28397,24886,37937,36254,25743,26990,31825,25724,29938,37690,30524,29265,35127,29130,25795,21784,28348,31088,21520,29972,22603,22696,26845,27030,32057,24097,31655,24738,19950,22821,28893,29926,24062,21137,26805,26389,24219,30231,24968,25343,17399,21392,22922,24567,30943,30825,25692,26959,25366,22784,26241,26467,27475,28749,24146,22988,30300,22654,29090,24619,20016,23042,22933,22409,21281,28844,32872,20903,26275,20167,23628,24213,28631,25855,21406,21617,22401,27989,24974,29760,26116,25850,24925,21979,22116,24867,33450,32713,22356,21004,23362,20298,24862,30505,25070,22620,22001,23469,21735,21593,33822,28028,24304,31108,19113,23198,24388,27420,30479,21838,20812,19761,20452,17939,25272,28049,25317,21826,20680,19143,18146,25489,23537,16956,19052,17287,20300,20538,23702,28411,21073,24215,19525,20786,20429,27250,31387,26075,22162,24258,24683,21245,25937,26081,16228,20106,21055,22772,25142,31129,30498,26150,21327,22008,24615,22375,29607,32983,19119,21029,23898,24534,16748,23055,28857,23022,27146,17241,19463,21860,24227,27594,24863,20161,20824,19727,14940,24632,21294,18448,21237,19849,20740,25698,26691,33298,25640,23937,28742,21748,22032,24827,32473,20620,21825,14343,19029,21104,20738,25233,18975,19640,22522,24227,24726,32467,31663,25867,27724,22039,26127,26580,31310,33517,23181,24183,24594,22610,25479,29621,26272,22541,23070,26021,17655,23243,30177,27518,23210,21092,23357,17888,22217,31681,31833,28441,22389,20681,24222,19345,21827,23566,20227,17075,16977,21525,21454,21814,21252,20464,30775,25343,33930,26311,31836,34695,29829,26362,32589,30345,29411,29637,32184,17731,24114,28034,22664,27488,24876,24862,24679,22304,30329,33182,23849,33330,34496,26249,26523,26793,35861,27387,32666,22199,24000,27871,31139,23065,26594,27657,26594,28084,27582,24862,22634,31649,35781,24429,20648,22741,21479,23134,20575,24330,28610,28456,27964,29569,29267,28647,26836,29386,24609,26964,23614,22960,20332,30392,31933,21662,21689,25119,25285,28979,34382,30617,20238,24529,30471,28405,29513,32451,32780,23375,27713,27137,22933,30740,29579,29188,28131,28617,21062,24337,27042,32536,30127,24834,26828,26468,31572,26308,21955,32307,26095,22309,20467,22446],\"yaxis\":\"y\"},{\"hovertemplate\":\"<b>OLS trendline</b><br>consumo = 0.973722 * previsao_rl + 666.823<br>R<sup>2</sup>=0.660999<br><br>previsao_rl=%{x}<br>consumo=%{y} <b>(trend)</b><extra></extra>\",\"legendgroup\":\"\",\"marker\":{\"color\":\"#636efa\",\"symbol\":\"circle\"},\"mode\":\"lines\",\"name\":\"\",\"showlegend\":false,\"type\":\"scatter\",\"x\":[17743.258278812587,18010.766327752237,18057.888410159994,18060.000603959044,18165.422745755834,18270.289230970917,18439.773951550895,18503.787449210646,18537.75433392755,18864.514241768433,19086.45061037725,19089.813904970866,19540.872046309283,19592.731226913827,19620.84356513011,19653.66232584103,19694.447826851625,19729.684217784386,19750.60501673945,19789.79716969011,19808.862130145466,19815.217116963915,19855.471501954533,19907.904744562074,19907.904744562074,19925.382492097924,20119.756043931728,20135.11546252809,20257.459695279023,20278.905475113632,20309.892937886565,20362.326180494107,20362.326180494107,20390.39557272737,20393.832489006156,20397.281675565802,20405.223875303756,20432.237170637498,20467.19266570919,20589.536898460123,20624.49239353182,20645.126161485387,20648.318992745688,20658.916772583532,20711.881131211056,20781.792121354443,20842.955035019266,20904.136354105376,20921.614101641222,21078.913829463847,21132.875798309815,21271.169052358175,21288.64679989402,21306.12454742987,21428.4687801808,21612.744992494583,21649.306105907068,21708.112740754357,21760.5459833619,21777.986920055162,21783.54830041386,21795.501478433594,21799.182479730858,21832.04418642479,21882.89021611283,21952.80120625622,21953.292241016406,22005.23444886376,22020.050481159284,22040.189943935457,22044.426601814423,22057.667691471303,22102.421224780664,22112.219263018327,22180.011924222235,22205.938446954293,22238.80015364823,22284.87840943732,22368.53092955541,22372.267147116556,22379.128709393266,22477.133632331643,22564.522370010876,22564.522370010876,22616.955612618418,22636.53941881289,22669.38885522596,22704.344350297655,22741.93088490752,22756.7775929052,22879.12182565613,22883.346213254237,22883.60256855358,22906.613885469196,23018.94380594291,23043.301521176756,23048.050889654412,23053.899301014604,23071.37704855045,23096.796995824254,23106.332543622142,23116.924188319565,23123.81029115799,23123.81029115799,23156.104070989364,23186.285657021683,23316.065514052316,23333.543261588162,23362.10695899882,23385.976504195703,23409.77529243064,23455.88749433909,23455.88749433909,23483.95075143193,23508.320736946633,23595.709474625874,23595.709474625874,23630.664969697566,23638.029837015325,23700.575959840953,23718.0537073768,23718.0537073768,23728.626946652927,23778.386203739286,23861.05011350259,23866.324462859797,23875.353435199428,23879.583957937968,23905.797511671524,23946.283711399767,23950.819670561086,23980.219920414514,23980.219920414514,23984.969288892167,23997.697667950364,24032.65316302206,24034.76535682111,24067.60865809375,24085.0864056296,24093.553586247104,24120.041900701293,24134.21924917231,24137.51964823714,24139.625706895764,24154.99739577299,24169.795022647224,24181.448899384595,24242.386133452226,24242.386133452226,24259.863880988072,24267.806080726026,24277.341628523922,24299.056033938738,24312.297123595614,24347.252618667313,24364.73036620316,24417.163608810697,24423.484649509788,24487.07459895409,24538.445609521674,24545.82888226072,24556.98558909748,24591.94108416917,24592.9971810687,24609.418831705018,24714.285316920104,24714.285316920104,24766.718559527646,24801.67405459934,24814.87506299643,24835.56731763108,24842.95059037013,24896.21138555678,24920.803780251474,24924.018287350274,24968.771820659633,25015.90003820782,25028.884772565354,25028.884772565354,25032.590314424342,25046.362520101204,25050.330552399966,25063.840267637053,25103.993219963573,25111.50573634565,25116.273510244595,25172.925005309815,25210.273590041626,25221.139995459678,25221.139995459678,25273.57323806722,25360.961975746457,25419.71625905309,25430.872965889845,25430.872965889845,25430.872965889845,25494.953950094332,25500.783956033236,25535.739451104928,25563.243781198857,25572.80713997568,25595.046526270038,25605.65044124832,25640.605936320015,25640.605936320015,25656.725015256772,25658.08368385586,25675.56143139171,25680.84805102977,25797.905664142643,25821.70445237758,25832.861159214335,25867.28553826605,25895.886046519296,25990.16088703696,26031.437422807747,26060.07187718035,26112.505119787893,26129.982867323743,26129.982867323743,26153.78165555868,26276.12588830961,26282.514821247423,26328.55913091715,26392.14908036145,26433.42561613224,26444.582322968992,26470.002270242796,26531.97106064823,26566.926555719925,26599.174119151074,26601.882050791617,26689.270788470858,26695.59182916995,26724.226283542554,26724.226283542554,26724.226283542554,26759.18177861425,26782.980566849186,26806.25764462178,26817.93606192088,26820.56096631862,26918.03477323702,26952.21833768746,26975.235789743507,26986.392496580265,27091.25898179535,27092.31507869487,27150.01326510198,27161.169971938736,27178.647719474582,27196.12546701043,27237.43594890058,27240.014636898097,27256.998079256547,27266.036457153823,27353.425194833057,27353.425194833057,27370.902942368906,27388.380689904756,27453.48382488941,27595.430269256096,27598.113660334922,27761.23725895602,27779.212176392484,27807.84663076509,27816.051320942817,27849.123166535875,27867.690957090606,27877.75762090848,27947.668611051864,27991.097421881495,28070.012843802797,28103.078554255422,28119.2655254309,28135.903450106776,28163.72262218113,28198.67811725282,28209.83482408958,28303.544602467908,28314.170193284685,28425.888835218837,28437.045542055595,28443.366582754687,28478.32207782638,28545.05250699033,28563.095316665516,28583.188563041465,28594.34526987822,28611.82301741407,28646.778512485762,28659.454540003302,28670.5773007207,28681.734007557454,28688.055048256545,28734.167250165,28755.350539559833,28831.354026081903,28838.71889339966,28961.37796813101,28985.176756365952,29037.609998973494,29239.382364244415,29363.366161455502,29366.506641175158,29404.642697226293,29457.075939833834,29509.509182441376,29517.48532829869,29561.942425048917,29573.099131885676,29608.054626957368,29693.803800176447,29754.19764794324,29894.05357434938,29913.61570470535,29922.65408260262,30016.36386098095,30056.646056950496,30068.79710358849,30075.67093614606,30109.039218298247,30127.881769573618,30223.966232190774,30272.209033319567,30290.446441195807,30324.64227592711,30332.544394405275,30365.9188116979,30367.506024617403,30470.78529691298,30481.94200374974,30555.51845449232,30558.174034592215,30593.12952966391,30663.040519807302,30680.51826734315,30697.996014878994,30907.728985309164,30946.908867978967,30960.162227916706,31146.856070452326,31214.648731656238,31274.76168356196,31362.150421241196,31432.061411384584,31526.32398162139,31641.794381814754,31658.197627029782,31664.30239368932,31729.183119493988,31881.71507341767,31921.438342388312,32131.171312818482,32270.99329310526,32340.90428324865,32375.859778320348,32682.779524667418,32707.936981501443,33040.01418468254,34403.27849247864,34893.7115203819,35486.89883970118,35714.109557667194,36238.44198374261],\"xaxis\":\"x\",\"y\":[17943.829774842652,18204.308335413654,18250.192159266182,18252.24884953253,18354.900743022787,18457.01158129191,18622.04263822811,18684.374010288204,18717.448324400288,19035.621743047242,19251.726140887706,19255.001055934164,19694.206440053906,19744.70288219764,19772.076493653025,19804.032853783454,19843.746606836932,19878.057067498823,19898.428116592153,19936.59039106102,19955.154368767257,19961.342361336,20000.538954861273,20051.594373995835,20051.594373995835,20068.61284704069,20257.87871472366,20272.834523578935,20391.963834892915,20412.84606959121,20443.019254027473,20494.074673162035,20494.074673162035,20521.406467154797,20524.75306928004,20528.111619251744,20535.845116481865,20562.148565341453,20596.18551143116,20715.314822745135,20749.351768834844,20769.44332943276,20772.55226052521,20782.87155539635,20834.444134059115,20902.51802623853,20962.07372101067,21021.647337552506,21038.66581059736,21191.83206800104,21244.376042009637,21379.035271494442,21396.053744539295,21413.07221758415,21532.201528898124,21711.635391622007,21747.23576414278,21804.497097615786,21855.552516750347,21872.53514625581,21877.950386493863,21889.589462840057,21893.173735998083,21925.171913591137,21974.681828064324,22042.75572024374,22043.23385175429,22093.8111393783,22108.237840858903,22127.84808546801,22131.97341384717,22144.866558512862,22188.444073219787,22197.984641837003,22263.99586982684,22289.24110393709,22321.239281530146,22366.106708095962,22447.561034853108,22451.199073320233,22457.880329724256,22553.309911589356,22638.402276813624,22638.402276813624,22689.457695948186,22708.526885336156,22740.513115082744,22774.550061172453,22811.14890921025,22825.60548030702,22944.734791620995,22948.848172153695,22949.097791032946,22971.504424144667,23080.882575979824,23104.600227198396,23109.224793336067,23114.919522069533,23131.937995114386,23156.68996538936,23165.97494120409,23176.288262152,23182.993414248947,23182.993414248947,23214.438588774407,23243.827073033517,23370.196617742342,23387.215090787195,23415.028200768764,23438.270509921756,23461.443921440932,23506.344402101167,23506.344402101167,23533.670222170702,23557.39982123573,23642.492186460004,23642.492186460004,23676.52913254971,23683.700468310748,23744.603024729124,23761.621497773973,23761.621497773973,23771.916896952185,23820.36859667604,23900.860291455563,23905.99604319821,23914.787755177662,23918.907109633597,23944.43183223926,23983.854148950868,23988.270913671902,24016.898593446786,24016.898593446786,24021.523159584456,24033.917066491642,24067.95401258135,24070.0107028477,24101.990958671056,24119.009431715913,24127.254114551004,24153.04637780562,24166.851178584817,24170.06485085047,24172.11556719359,24187.083323895327,24201.49210360624,24212.839743610548,24272.175689119595,24272.175689119595,24289.194162164447,24296.92765939457,24306.212635209304,24327.356436633323,24340.24958129901,24374.286527388722,24391.305000433575,24442.360419568133,24448.515358042456,24510.43431174755,24560.455411825704,24567.644669356436,24578.508203926966,24612.54515001667,24613.573495149845,24629.563623061524,24731.67446133065,24731.67446133065,24782.72988046521,24816.76682655492,24829.620943202957,24849.769453588222,24856.95871111895,24908.81993667862,24932.76610052849,24935.8961378689,24979.47365257582,25025.363450351582,25038.006976138015,25038.006976138015,25041.615144988977,25055.02544918287,25058.889210836318,25072.043922227727,25111.141748503032,25118.456853454925,25123.09934136229,25178.26216710632,25214.629318034556,25225.210179631413,25225.210179631413,25276.265598765975,25361.357963990242,25418.568321599127,25429.431856169656,25429.431856169656,25429.431856169656,25491.828941385298,25497.505748349075,25531.54269443878,25558.324274808918,25567.63633079484,25589.291317823823,25599.616586618195,25633.653532707904,25633.653532707904,25649.349039799446,25650.672005752756,25667.690478797613,25672.838178386715,25786.819790111593,25809.99320163077,25820.856736201295,25854.3765227628,25882.225476283766,25974.02299360498,26014.214878169012,26042.0968857844,26093.152304918956,26110.170777963813,26110.170777963813,26133.34418948299,26252.473500796965,26258.694547460134,26303.528919931527,26365.447873636618,26405.639758200654,26416.50329277118,26441.255263046158,26501.59565799545,26535.63260408516,26567.032776669734,26569.66955017486,26654.761915399136,26660.91685387346,26688.798861488845,26688.798861488845,26688.798861488845,26722.835807578555,26746.00921909773,26768.674629490193,26780.046165187436,26782.602093212292,26877.514515549195,26910.79981555617,26933.21242259112,26944.075957161655,27046.186795430778,27047.21514056395,27103.397153039663,27114.26068761019,27131.27916065504,27148.297633699898,27188.522572358354,27191.033498442324,27207.570655498366,27216.371525879316,27301.463891103584,27301.463891103584,27318.48236414844,27335.500837193293,27398.893213447693,27537.10963591933,27539.72251373154,27698.55960417576,27716.062182654397,27743.944190269784,27751.93328030239,27784.136074833816,27802.215947106262,27812.0180824492,27880.09197462861,27922.379577476644,27999.22128594259,28031.41810655078,28047.179721831162,28063.380440604447,28090.468589641187,28124.505535730892,28135.36907030142,28226.616374000016,28236.96274904234,28345.745685313992,28356.60921988452,28362.76415835885,28396.801104448554,28461.778013381983,28479.34670004946,28498.911942717677,28509.775477288207,28526.793950333064,28560.83089642277,28573.173827465835,28584.004307941945,28594.867842512474,28601.022780986797,28645.923261647036,28666.549903542847,28740.556195488527,28747.72753124956,28867.163411230136,28890.336822749316,28941.392241883874,29137.862499422306,29258.588291261774,29261.646246490116,29298.78017582581,29349.835594960372,29400.891014094934,29408.657565419475,29451.946433229492,29462.809967800025,29496.84691388973,29580.342798588506,29639.14963672289,29775.33047517614,29794.37855831615,29803.1794286971,29894.426732395696,29933.650406092158,29945.482151530257,29952.17535578074,29984.666797209065,30003.014210130466,30096.573796897897,30143.548889594178,30161.3070608753,30194.60430872874,30202.298777941207,30234.796193292772,30236.34169795415,30336.907031561896,30347.77056613243,30419.413599145144,30421.999396786163,30456.036342875872,30524.110235055286,30541.12870810014,30558.147181144992,30762.36885768324,30800.51918430565,30813.4242768178,30995.212240073135,31061.223468062977,31119.756791625172,31204.849156849443,31272.923049028854,31364.70861850361,31477.144725567105,31493.116931709086,31499.061279321806,31562.23709079137,31710.76086028769,31749.440294284766,31953.661970823014,32089.809755181843,32157.883647361257,32191.92059345097,32490.7752038307,32515.27158130319,32838.62256915541,34166.06346665401,34643.6090570431,35221.20879543495,35442.448945018055,35953.003136363666],\"yaxis\":\"y\"}],                        {\"font\":{\"color\":\"navy\",\"family\":\"New latin, monospace\",\"size\":14},\"legend\":{\"tracegroupgap\":0,\"x\":1.5,\"y\":1.5},\"margin\":{\"t\":60},\"template\":{\"data\":{\"bar\":[{\"error_x\":{\"color\":\"#2a3f5f\"},\"error_y\":{\"color\":\"#2a3f5f\"},\"marker\":{\"line\":{\"color\":\"#E5ECF6\",\"width\":0.5},\"pattern\":{\"fillmode\":\"overlay\",\"size\":10,\"solidity\":0.2}},\"type\":\"bar\"}],\"barpolar\":[{\"marker\":{\"line\":{\"color\":\"#E5ECF6\",\"width\":0.5},\"pattern\":{\"fillmode\":\"overlay\",\"size\":10,\"solidity\":0.2}},\"type\":\"barpolar\"}],\"carpet\":[{\"aaxis\":{\"endlinecolor\":\"#2a3f5f\",\"gridcolor\":\"white\",\"linecolor\":\"white\",\"minorgridcolor\":\"white\",\"startlinecolor\":\"#2a3f5f\"},\"baxis\":{\"endlinecolor\":\"#2a3f5f\",\"gridcolor\":\"white\",\"linecolor\":\"white\",\"minorgridcolor\":\"white\",\"startlinecolor\":\"#2a3f5f\"},\"type\":\"carpet\"}],\"choropleth\":[{\"colorbar\":{\"outlinewidth\":0,\"ticks\":\"\"},\"type\":\"choropleth\"}],\"contour\":[{\"colorbar\":{\"outlinewidth\":0,\"ticks\":\"\"},\"colorscale\":[[0.0,\"#0d0887\"],[0.1111111111111111,\"#46039f\"],[0.2222222222222222,\"#7201a8\"],[0.3333333333333333,\"#9c179e\"],[0.4444444444444444,\"#bd3786\"],[0.5555555555555556,\"#d8576b\"],[0.6666666666666666,\"#ed7953\"],[0.7777777777777778,\"#fb9f3a\"],[0.8888888888888888,\"#fdca26\"],[1.0,\"#f0f921\"]],\"type\":\"contour\"}],\"contourcarpet\":[{\"colorbar\":{\"outlinewidth\":0,\"ticks\":\"\"},\"type\":\"contourcarpet\"}],\"heatmap\":[{\"colorbar\":{\"outlinewidth\":0,\"ticks\":\"\"},\"colorscale\":[[0.0,\"#0d0887\"],[0.1111111111111111,\"#46039f\"],[0.2222222222222222,\"#7201a8\"],[0.3333333333333333,\"#9c179e\"],[0.4444444444444444,\"#bd3786\"],[0.5555555555555556,\"#d8576b\"],[0.6666666666666666,\"#ed7953\"],[0.7777777777777778,\"#fb9f3a\"],[0.8888888888888888,\"#fdca26\"],[1.0,\"#f0f921\"]],\"type\":\"heatmap\"}],\"heatmapgl\":[{\"colorbar\":{\"outlinewidth\":0,\"ticks\":\"\"},\"colorscale\":[[0.0,\"#0d0887\"],[0.1111111111111111,\"#46039f\"],[0.2222222222222222,\"#7201a8\"],[0.3333333333333333,\"#9c179e\"],[0.4444444444444444,\"#bd3786\"],[0.5555555555555556,\"#d8576b\"],[0.6666666666666666,\"#ed7953\"],[0.7777777777777778,\"#fb9f3a\"],[0.8888888888888888,\"#fdca26\"],[1.0,\"#f0f921\"]],\"type\":\"heatmapgl\"}],\"histogram\":[{\"marker\":{\"pattern\":{\"fillmode\":\"overlay\",\"size\":10,\"solidity\":0.2}},\"type\":\"histogram\"}],\"histogram2d\":[{\"colorbar\":{\"outlinewidth\":0,\"ticks\":\"\"},\"colorscale\":[[0.0,\"#0d0887\"],[0.1111111111111111,\"#46039f\"],[0.2222222222222222,\"#7201a8\"],[0.3333333333333333,\"#9c179e\"],[0.4444444444444444,\"#bd3786\"],[0.5555555555555556,\"#d8576b\"],[0.6666666666666666,\"#ed7953\"],[0.7777777777777778,\"#fb9f3a\"],[0.8888888888888888,\"#fdca26\"],[1.0,\"#f0f921\"]],\"type\":\"histogram2d\"}],\"histogram2dcontour\":[{\"colorbar\":{\"outlinewidth\":0,\"ticks\":\"\"},\"colorscale\":[[0.0,\"#0d0887\"],[0.1111111111111111,\"#46039f\"],[0.2222222222222222,\"#7201a8\"],[0.3333333333333333,\"#9c179e\"],[0.4444444444444444,\"#bd3786\"],[0.5555555555555556,\"#d8576b\"],[0.6666666666666666,\"#ed7953\"],[0.7777777777777778,\"#fb9f3a\"],[0.8888888888888888,\"#fdca26\"],[1.0,\"#f0f921\"]],\"type\":\"histogram2dcontour\"}],\"mesh3d\":[{\"colorbar\":{\"outlinewidth\":0,\"ticks\":\"\"},\"type\":\"mesh3d\"}],\"parcoords\":[{\"line\":{\"colorbar\":{\"outlinewidth\":0,\"ticks\":\"\"}},\"type\":\"parcoords\"}],\"pie\":[{\"automargin\":true,\"type\":\"pie\"}],\"scatter\":[{\"marker\":{\"colorbar\":{\"outlinewidth\":0,\"ticks\":\"\"}},\"type\":\"scatter\"}],\"scatter3d\":[{\"line\":{\"colorbar\":{\"outlinewidth\":0,\"ticks\":\"\"}},\"marker\":{\"colorbar\":{\"outlinewidth\":0,\"ticks\":\"\"}},\"type\":\"scatter3d\"}],\"scattercarpet\":[{\"marker\":{\"colorbar\":{\"outlinewidth\":0,\"ticks\":\"\"}},\"type\":\"scattercarpet\"}],\"scattergeo\":[{\"marker\":{\"colorbar\":{\"outlinewidth\":0,\"ticks\":\"\"}},\"type\":\"scattergeo\"}],\"scattergl\":[{\"marker\":{\"colorbar\":{\"outlinewidth\":0,\"ticks\":\"\"}},\"type\":\"scattergl\"}],\"scattermapbox\":[{\"marker\":{\"colorbar\":{\"outlinewidth\":0,\"ticks\":\"\"}},\"type\":\"scattermapbox\"}],\"scatterpolar\":[{\"marker\":{\"colorbar\":{\"outlinewidth\":0,\"ticks\":\"\"}},\"type\":\"scatterpolar\"}],\"scatterpolargl\":[{\"marker\":{\"colorbar\":{\"outlinewidth\":0,\"ticks\":\"\"}},\"type\":\"scatterpolargl\"}],\"scatterternary\":[{\"marker\":{\"colorbar\":{\"outlinewidth\":0,\"ticks\":\"\"}},\"type\":\"scatterternary\"}],\"surface\":[{\"colorbar\":{\"outlinewidth\":0,\"ticks\":\"\"},\"colorscale\":[[0.0,\"#0d0887\"],[0.1111111111111111,\"#46039f\"],[0.2222222222222222,\"#7201a8\"],[0.3333333333333333,\"#9c179e\"],[0.4444444444444444,\"#bd3786\"],[0.5555555555555556,\"#d8576b\"],[0.6666666666666666,\"#ed7953\"],[0.7777777777777778,\"#fb9f3a\"],[0.8888888888888888,\"#fdca26\"],[1.0,\"#f0f921\"]],\"type\":\"surface\"}],\"table\":[{\"cells\":{\"fill\":{\"color\":\"#EBF0F8\"},\"line\":{\"color\":\"white\"}},\"header\":{\"fill\":{\"color\":\"#C8D4E3\"},\"line\":{\"color\":\"white\"}},\"type\":\"table\"}]},\"layout\":{\"annotationdefaults\":{\"arrowcolor\":\"#2a3f5f\",\"arrowhead\":0,\"arrowwidth\":1},\"autotypenumbers\":\"strict\",\"coloraxis\":{\"colorbar\":{\"outlinewidth\":0,\"ticks\":\"\"}},\"colorscale\":{\"diverging\":[[0,\"#8e0152\"],[0.1,\"#c51b7d\"],[0.2,\"#de77ae\"],[0.3,\"#f1b6da\"],[0.4,\"#fde0ef\"],[0.5,\"#f7f7f7\"],[0.6,\"#e6f5d0\"],[0.7,\"#b8e186\"],[0.8,\"#7fbc41\"],[0.9,\"#4d9221\"],[1,\"#276419\"]],\"sequential\":[[0.0,\"#0d0887\"],[0.1111111111111111,\"#46039f\"],[0.2222222222222222,\"#7201a8\"],[0.3333333333333333,\"#9c179e\"],[0.4444444444444444,\"#bd3786\"],[0.5555555555555556,\"#d8576b\"],[0.6666666666666666,\"#ed7953\"],[0.7777777777777778,\"#fb9f3a\"],[0.8888888888888888,\"#fdca26\"],[1.0,\"#f0f921\"]],\"sequentialminus\":[[0.0,\"#0d0887\"],[0.1111111111111111,\"#46039f\"],[0.2222222222222222,\"#7201a8\"],[0.3333333333333333,\"#9c179e\"],[0.4444444444444444,\"#bd3786\"],[0.5555555555555556,\"#d8576b\"],[0.6666666666666666,\"#ed7953\"],[0.7777777777777778,\"#fb9f3a\"],[0.8888888888888888,\"#fdca26\"],[1.0,\"#f0f921\"]]},\"colorway\":[\"#636efa\",\"#EF553B\",\"#00cc96\",\"#ab63fa\",\"#FFA15A\",\"#19d3f3\",\"#FF6692\",\"#B6E880\",\"#FF97FF\",\"#FECB52\"],\"font\":{\"color\":\"#2a3f5f\"},\"geo\":{\"bgcolor\":\"white\",\"lakecolor\":\"white\",\"landcolor\":\"#E5ECF6\",\"showlakes\":true,\"showland\":true,\"subunitcolor\":\"white\"},\"hoverlabel\":{\"align\":\"left\"},\"hovermode\":\"closest\",\"mapbox\":{\"style\":\"light\"},\"paper_bgcolor\":\"white\",\"plot_bgcolor\":\"#E5ECF6\",\"polar\":{\"angularaxis\":{\"gridcolor\":\"white\",\"linecolor\":\"white\",\"ticks\":\"\"},\"bgcolor\":\"#E5ECF6\",\"radialaxis\":{\"gridcolor\":\"white\",\"linecolor\":\"white\",\"ticks\":\"\"}},\"scene\":{\"xaxis\":{\"backgroundcolor\":\"#E5ECF6\",\"gridcolor\":\"white\",\"gridwidth\":2,\"linecolor\":\"white\",\"showbackground\":true,\"ticks\":\"\",\"zerolinecolor\":\"white\"},\"yaxis\":{\"backgroundcolor\":\"#E5ECF6\",\"gridcolor\":\"white\",\"gridwidth\":2,\"linecolor\":\"white\",\"showbackground\":true,\"ticks\":\"\",\"zerolinecolor\":\"white\"},\"zaxis\":{\"backgroundcolor\":\"#E5ECF6\",\"gridcolor\":\"white\",\"gridwidth\":2,\"linecolor\":\"white\",\"showbackground\":true,\"ticks\":\"\",\"zerolinecolor\":\"white\"}},\"shapedefaults\":{\"line\":{\"color\":\"#2a3f5f\"}},\"ternary\":{\"aaxis\":{\"gridcolor\":\"white\",\"linecolor\":\"white\",\"ticks\":\"\"},\"baxis\":{\"gridcolor\":\"white\",\"linecolor\":\"white\",\"ticks\":\"\"},\"bgcolor\":\"#E5ECF6\",\"caxis\":{\"gridcolor\":\"white\",\"linecolor\":\"white\",\"ticks\":\"\"}},\"title\":{\"x\":0.05},\"xaxis\":{\"automargin\":true,\"gridcolor\":\"white\",\"linecolor\":\"white\",\"ticks\":\"\",\"title\":{\"standoff\":15},\"zerolinecolor\":\"white\",\"zerolinewidth\":2},\"yaxis\":{\"automargin\":true,\"gridcolor\":\"white\",\"linecolor\":\"white\",\"ticks\":\"\",\"title\":{\"standoff\":15},\"zerolinecolor\":\"white\",\"zerolinewidth\":2}}},\"title\":{\"text\":\"Correla\\u00e7\\u00e3o entre o consumo pela temperatura\"},\"xaxis\":{\"anchor\":\"y\",\"domain\":[0.0,1.0],\"title\":{\"text\":\"Consumo real\"}},\"yaxis\":{\"anchor\":\"x\",\"domain\":[0.0,1.0],\"title\":{\"text\":\"Consumo previsto\"}}},                        {\"responsive\": true}                    ).then(function(){\n",
       "                            \n",
       "var gd = document.getElementById('44456c77-79f8-446b-8fe3-0841040d1450');\n",
       "var x = new MutationObserver(function (mutations, observer) {{\n",
       "        var display = window.getComputedStyle(gd).display;\n",
       "        if (!display || display === 'none') {{\n",
       "            console.log([gd, 'removed!']);\n",
       "            Plotly.purge(gd);\n",
       "            observer.disconnect();\n",
       "        }}\n",
       "}});\n",
       "\n",
       "// Listen for the removal of the full notebook cells\n",
       "var notebookContainer = gd.closest('#notebook-container');\n",
       "if (notebookContainer) {{\n",
       "    x.observe(notebookContainer, {childList: true});\n",
       "}}\n",
       "\n",
       "// Listen for the clearing of the current output cell\n",
       "var outputEl = gd.closest('.output');\n",
       "if (outputEl) {{\n",
       "    x.observe(outputEl, {childList: true});\n",
       "}}\n",
       "\n",
       "                        })                };                });            </script>        </div>"
      ]
     },
     "metadata": {},
     "output_type": "display_data"
    }
   ],
   "source": [
    "cerveja['previsao_rl'] = model.predict(X)\n",
    "\n",
    "fig = px.scatter(cerveja, x=\"previsao_rl\", y=\"consumo\", trendline=\"ols\")\n",
    "\n",
    "fig.update_layout(\n",
    "    title=\"Correlação entre o consumo pela temperatura\",\n",
    "    xaxis_title=\"Consumo real\",\n",
    "    yaxis_title=\"Consumo previsto\",\n",
    "    font=dict(family=\"New latin, monospace\", size=14, color=\"navy\"),\n",
    "    legend=dict(x=1.5, y=1.5)\n",
    ")\n",
    "fig.show()"
   ]
  },
  {
   "cell_type": "code",
   "execution_count": 236,
   "id": "67f39419-986f-4834-8118-247e87dd4d17",
   "metadata": {},
   "outputs": [
    {
     "data": {
      "text/html": [
       "<div>\n",
       "<style scoped>\n",
       "    .dataframe tbody tr th:only-of-type {\n",
       "        vertical-align: middle;\n",
       "    }\n",
       "\n",
       "    .dataframe tbody tr th {\n",
       "        vertical-align: top;\n",
       "    }\n",
       "\n",
       "    .dataframe thead th {\n",
       "        text-align: right;\n",
       "    }\n",
       "</style>\n",
       "<table border=\"1\" class=\"dataframe\">\n",
       "  <thead>\n",
       "    <tr style=\"text-align: right;\">\n",
       "      <th></th>\n",
       "      <th>Values</th>\n",
       "    </tr>\n",
       "  </thead>\n",
       "  <tbody>\n",
       "    <tr>\n",
       "      <th>R2</th>\n",
       "      <td>-2.000000e-03</td>\n",
       "    </tr>\n",
       "    <tr>\n",
       "      <th>EVS</th>\n",
       "      <td>0.000000e+00</td>\n",
       "    </tr>\n",
       "    <tr>\n",
       "      <th>MAE</th>\n",
       "      <td>3.472652e+03</td>\n",
       "    </tr>\n",
       "    <tr>\n",
       "      <th>MSE</th>\n",
       "      <td>1.800488e+07</td>\n",
       "    </tr>\n",
       "  </tbody>\n",
       "</table>\n",
       "</div>"
      ],
      "text/plain": [
       "           Values\n",
       "R2  -2.000000e-03\n",
       "EVS  0.000000e+00\n",
       "MAE  3.472652e+03\n",
       "MSE  1.800488e+07"
      ]
     },
     "execution_count": 236,
     "metadata": {},
     "output_type": "execute_result"
    }
   ],
   "source": [
    "from sklearn.dummy import DummyRegressor\n",
    "\n",
    "dummy_stratified = DummyRegressor()\n",
    "dummy_stratified.fit(treino_x, treino_y)\n",
    "metricas_regressao(y_test, dummy_stratified.predict(X_test) )\n"
   ]
  },
  {
   "cell_type": "code",
   "execution_count": null,
   "id": "2b8290b6-37bb-4b80-8f83-a60bf633a3d9",
   "metadata": {},
   "outputs": [],
   "source": []
  },
  {
   "cell_type": "code",
   "execution_count": null,
   "id": "6f842126-f285-4b16-b762-a7dd67d8ab3b",
   "metadata": {},
   "outputs": [],
   "source": []
  },
  {
   "attachments": {
    "5d279993-4cd7-4606-a424-e3004c9c25d3.png": {
     "image/png": "[encoded data removed]"
    }
   },
   "cell_type": "markdown",
   "id": "72308cd4-35c6-47f9-9433-66d3876c1aea",
   "metadata": {},
   "source": [
    "## Validação Cruzada\n",
    "\n",
    "A validação cruzada é quando o conjunto de dados é dividido aleatoriamente em \"k\" grupo. Um dos grupos é usado como conjunto de teste e os demais são usados como conjunto de treinamento. O modelo é treinado no conjunto de treinamento e pontuado no conjunto de teste. Em seguida, o processo é repetido até que cada grupo único seja usado como conjunto de teste.\n",
    "\n",
    "https://drigols.medium.com/introdu%C3%A7%C3%A3o-a-valida%C3%A7%C3%A3o-cruzada-k-fold-2a6bced32a90\n",
    "\n",
    "https://medium.com/@eijaz/holdout-vs-cross-validation-in-machine-learning-7637112d3f8f\n",
    "\n",
    "https://minerandodados.com.br/validacao-cruzada-aprenda-de-forma-simples-como-usar-essa-tecnica/\n",
    "\n",
    "\n",
    "\n",
    "![image.png](attachment:5d279993-4cd7-4606-a424-e3004c9c25d3.png)"
   ]
  },
  {
   "cell_type": "markdown",
   "id": "84274c3d-22f3-4a84-88cb-02ee367165cb",
   "metadata": {},
   "source": [
    "### Criando vários modelos de regressão linear"
   ]
  },
  {
   "cell_type": "code",
   "execution_count": 278,
   "id": "d4308952-ec2f-4839-b00c-c6b13bdcca7b",
   "metadata": {},
   "outputs": [],
   "source": [
    "from sklearn.linear_model import LinearRegression # apesar de já ter sido criado, preferi chamar novamente\n",
    "from sklearn.linear_model import ElasticNet\n",
    "from sklearn.linear_model import Ridge\n",
    "from sklearn.linear_model import Lasso"
   ]
  },
  {
   "cell_type": "code",
   "execution_count": 292,
   "id": "3c6725ee-bf72-4967-b34f-796a60604102",
   "metadata": {},
   "outputs": [],
   "source": [
    "from sklearn.model_selection import KFold\n",
    "from sklearn.model_selection import cross_val_score\n",
    "\n",
    "# Models instances.\n",
    "linearRegression = LinearRegression()\n",
    "elasticNet = ElasticNet()\n",
    "ridge = Ridge()\n",
    "lasso = Lasso()\n",
    "\n",
    "# instânciando o kfold\n",
    "cv = KFold(n_splits = 10, shuffle=True)\n",
    "\n",
    "# Applyes KFold to models.\n",
    "linearRegression_result = cross_val_score(linearRegression, X, y, cv=cv)\n",
    "elasticNet_result = cross_val_score(elasticNet, X, y, cv=cv)\n",
    "ridge_result = cross_val_score(ridge, X, y, cv=cv)\n",
    "lasso_result = cross_val_score(lasso, X, y, cv=cv)\n",
    "\n",
    "# Creates a dictionary to store Linear Models.\n",
    "dic_models = {\n",
    "    \"LinearRegression\": linearRegression_result.mean(),\n",
    "    \"ElasticNet\": elasticNet_result.mean(),\n",
    "    \"Ridge\": ridge_result.mean(),\n",
    "    \"Lasso\": lasso_result.mean()\n",
    "  }"
   ]
  },
  {
   "cell_type": "code",
   "execution_count": 293,
   "id": "6a88a21b-326d-4a47-a962-baf4f22f0439",
   "metadata": {},
   "outputs": [
    {
     "name": "stdout",
     "output_type": "stream",
     "text": [
      "LinearRegression\n",
      "0.6201708937414245\n",
      "ElasticNet\n",
      "0.15482310971237587\n",
      "Ridge\n",
      "0.6336659216763447\n",
      "Lasso\n",
      "0.6184090553266337\n"
     ]
    }
   ],
   "source": [
    "for i in dic_models:\n",
    "    print(i)\n",
    "    print(dic_models[i])"
   ]
  },
  {
   "cell_type": "code",
   "execution_count": null,
   "id": "48d80bf5-1473-4be5-920f-b7dd88caa92c",
   "metadata": {},
   "outputs": [],
   "source": []
  },
  {
   "cell_type": "code",
   "execution_count": null,
   "id": "a33bd45a-5faf-4ed2-a886-d4d3b270b14d",
   "metadata": {},
   "outputs": [],
   "source": []
  },
  {
   "cell_type": "code",
   "execution_count": 304,
   "id": "89565b5b-2756-4636-9768-244f6e2035ff",
   "metadata": {},
   "outputs": [
    {
     "name": "stdout",
     "output_type": "stream",
     "text": [
      "0.5142998323619888\n",
      "0.6267981650507526\n",
      "0.7392964977395163\n"
     ]
    }
   ],
   "source": [
    "from sklearn.model_selection import KFold\n",
    "from sklearn.linear_model import LinearRegression\n",
    "from sklearn.model_selection import cross_val_score\n",
    "\n",
    "SEED = 45\n",
    "np.random.seed(SEED)\n",
    "\n",
    "cv = KFold(n_splits = 10, shuffle=True)\n",
    "modelo = LinearRegression()\n",
    "results = cross_val_score(modelo, X, y, cv = cv)\n",
    "media = results.mean()\n",
    "std = results.std()\n",
    "print(media - std)\n",
    "print(media)\n",
    "print(media + std)"
   ]
  },
  {
   "cell_type": "code",
   "execution_count": null,
   "id": "4236946f-e06f-4aae-9913-e2f72a3b7bf2",
   "metadata": {},
   "outputs": [],
   "source": []
  },
  {
   "cell_type": "code",
   "execution_count": null,
   "id": "ccec80b8-e395-4699-952b-ca0074079b05",
   "metadata": {},
   "outputs": [],
   "source": []
  }
 ],
 "metadata": {
  "kernelspec": {
   "display_name": "Python 3",
   "language": "python",
   "name": "python3"
  },
  "language_info": {
   "codemirror_mode": {
    "name": "ipython",
    "version": 3
   },
   "file_extension": ".py",
   "mimetype": "text/x-python",
   "name": "python",
   "nbconvert_exporter": "python",
   "pygments_lexer": "ipython3",
   "version": "3.8.8"
  }
 },
 "nbformat": 4,
 "nbformat_minor": 5
}
