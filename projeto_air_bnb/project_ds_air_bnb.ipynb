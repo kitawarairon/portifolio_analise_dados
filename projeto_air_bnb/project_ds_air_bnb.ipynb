{
 "cells": [
  {
   "cell_type": "markdown",
   "metadata": {},
   "source": [
    "# Projeto Airbnb Rio - Ferramenta de Previsão de Preço de Imóvel para pessoas comuns "
   ]
  },
  {
   "cell_type": "markdown",
   "metadata": {},
   "source": [
    "### Contexto:\n",
    "\n",
    "No Airbnb, qualquer pessoa que tenha um quarto ou um imóvel de qualquer tipo (apartamento, casa, chalé, pousada, etc.) pode ofertar o seu imóvel para ser alugado por diária.\n",
    "\n",
    "Você cria o seu perfil de host (pessoa que disponibiliza um imóvel para aluguel por diária) e cria o anúncio do seu imóvel.\n",
    "\n",
    "Nesse anúncio, o host deve descrever as características do imóvel da forma mais completa possível, de forma a ajudar os locadores/viajantes a escolherem o melhor imóvel para eles (e de forma a tornar o seu anúncio mais atrativo)\n",
    "\n",
    "Existem dezenas de personalizações possíveis no seu anúncio, desde quantidade mínima de diária, preço, quantidade de quartos, até regras de cancelamento, taxa extra para hóspedes extras, exigência de verificação de identidade do locador, etc.\n",
    "\n",
    "### Nosso objetivo:\n",
    "\n",
    "Construir um **<font color=red>modelo de previsão</font>** de preço que permita uma pessoa comum que possui um imóvel possa saber quanto deve cobrar pela diária do seu imóvel.\n",
    "\n",
    "Ou ainda, para o locador comum, dado o imóvel que ele está buscando, ajudar a saber se aquele imóvel está com preço atrativo (abaixo da média para imóveis com as mesmas características) ou não.\n",
    "\n",
    "### O que temos disponível:\n",
    "\n",
    "As bases de dados foram retiradas do site kaggle: https://www.kaggle.com/allanbruno/airbnb-rio-de-janeiro\n",
    "\n",
    "- As bases de dados são os preços dos imóveis obtidos e suas respectivas características em cada mês.\n",
    "- Os preços são dados em reais (R$)\n",
    "- Temos bases de abril de 2018 a maio de 2020, com exceção de junho de 2018 que não possui base de dados\n",
    "\n",
    "### Expectativas Iniciais:\n",
    "\n",
    "- A sazonalidade deve ser um fator importante, visto que meses como dezembro costumam ser bem caros no RJ;\n",
    "- A localização do imóvel faz muita diferença no preço, já que no Rio de Janeiro a localização pode mudar completamente as características do lugar (segurança, beleza natural, pontos turísticos);\n",
    "- Adicionais/Comodidades podem ter um impacto significativo, visto que temos muitos prédios e casas antigos no Rio de Janeiro;\n"
   ]
  },
  {
   "cell_type": "markdown",
   "metadata": {},
   "source": [
    "### Importar Bibliotecas e Bases de Dados"
   ]
  },
  {
   "cell_type": "code",
   "execution_count": 1,
   "metadata": {},
   "outputs": [],
   "source": [
    "import pandas as pd\n",
    "import pathlib\n",
    "import numpy as np\n",
    "import seaborn as sns\n",
    "import matplotlib.pyplot as plt\n",
    "import plotly.express as px\n",
    "from sklearn.metrics import r2_score, mean_squared_error\n",
    "from sklearn.linear_model import LinearRegression\n",
    "from sklearn.ensemble import RandomForestRegressor, ExtraTreesRegressor\n",
    "from sklearn.model_selection import train_test_split"
   ]
  },
  {
   "cell_type": "markdown",
   "metadata": {},
   "source": [
    "### Agora vamos importar as bases de dados\n",
    "\n",
    "Para isso, vamos criar um dicionário com os 3 primeiros caracteres com os nomes dos meses e o número correspondente daquele mês.\n",
    "\n",
    "Para cada arquivo da base de dados a gente vai importar o arquivo e criar uma coluna na base de dados com o mês e o ano de cada informação"
   ]
  },
  {
   "cell_type": "code",
   "execution_count": null,
   "metadata": {},
   "outputs": [],
   "source": [
    "meses = {'jan': 1, 'fev':2, 'mar':3, 'abr': 4, 'mai':5, 'jun': 6, 'jul': 7, 'ago': 8, 'set': 9, 'out': 10, 'nov': 11, 'dez': 12}\n",
    "\n",
    "caminho_bases = pathlib.Path('dataset')\n",
    "\n",
    "base_airbnb = pd.DataFrame()\n",
    "\n",
    "for arquivo in caminho_bases.iterdir():\n",
    "    nome_mes = arquivo.name[:3]\n",
    "    mes = meses[nome_mes]\n",
    "    \n",
    "    ano = arquivo.name[-8:]\n",
    "    ano = int(ano.replace('.csv', ''))\n",
    "    \n",
    "    df = pd.read_csv(caminho_bases / arquivo.name, low_memory=False)\n",
    "    df['ano'] = ano\n",
    "    df['mes'] = mes\n",
    "    base_airbnb = base_airbnb.append(df)\n",
    "\n",
    "display(base_airbnb)"
   ]
  },
  {
   "cell_type": "markdown",
   "metadata": {},
   "source": [
    "### Agora vamos começar os tratamentos\n",
    "\n",
    "- Como temos muitas colunas, nosso modelo pode acabar ficando muito lento.\n",
    "- Além disso, uma análise rápida permite ver que várias colunas não são necessárias para o nosso modelo de previsão, por isso, vamos excluir algumas colunas da nossa base\n",
    "- Tipos de colunas que vamos excluir:\n",
    "    1. IDs, Links e informações não relevantes para o modelo\n",
    "    2. Colunas repetidas ou extremamente parecidas com outra (que dão a mesma informação para o modelo. Ex: Data x Ano/Mês\n",
    "    3. Colunas preenchidas com texto livre -> Não rodaremos nenhuma análise de palavras ou algo do tipo\n",
    "    4. Colunas em que todos ou quase todos os valores são iguais\n",
    "    \n",
    "- Para isso, vamos criar um arquivo em excel com os 1.000 primeiros registros e fazer uma análise qualitativa, olhando as colunas e identificando quais são desnecessárias"
   ]
  },
  {
   "cell_type": "code",
   "execution_count": null,
   "metadata": {},
   "outputs": [],
   "source": [
    "print(list(base_airbnb.columns))\n",
    "base_airbnb.head(1000).to_csv('primeiros_registros.csv', sep=';')"
   ]
  },
  {
   "cell_type": "markdown",
   "metadata": {},
   "source": [
    "### Depois da análise qualitativa das colunas, levando em conta os critérios explicados acima, ficamos com as seguintes colunas:\n"
   ]
  },
  {
   "cell_type": "code",
   "execution_count": null,
   "metadata": {},
   "outputs": [],
   "source": [
    "colunas = ['host_response_time','host_response_rate','host_is_superhost','host_listings_count',\n",
    "           'latitude','longitude','property_type','room_type','accommodates','bathrooms','bedrooms',\n",
    "           'beds','bed_type','amenities','price','security_deposit','cleaning_fee','guests_included',\n",
    "           'extra_people','minimum_nights','maximum_nights','number_of_reviews','review_scores_rating',\n",
    "           'review_scores_accuracy','review_scores_cleanliness','review_scores_checkin','review_scores_communication',\n",
    "           'review_scores_location','review_scores_value','instant_bookable','is_business_travel_ready','cancellation_policy',\n",
    "           'ano','mes']\n",
    "\n",
    "base_airbnb = base_airbnb.loc[:, colunas]\n",
    "print(list(base_airbnb.columns))\n",
    "display(base_airbnb)"
   ]
  },
  {
   "cell_type": "markdown",
   "metadata": {},
   "source": [
    "### Tratar Valores Faltando\n",
    "\n",
    "- Visualizando os dados, percebemos que existe uma grande disparidade em dados faltantes. As colunas com mais de 300.000 valores NaN foram excluídas da análise\n",
    "- Para as outras colunas, como temos muitos dados (mais de 900.000 linhas) vamos excluir as linhas que contém dados NaN"
   ]
  },
  {
   "cell_type": "code",
   "execution_count": null,
   "metadata": {},
   "outputs": [],
   "source": [
    "for coluna in base_airbnb:\n",
    "    if base_airbnb[coluna].isnull().sum() > 300000:\n",
    "        base_airbnb = base_airbnb.drop(coluna, axis=1)\n",
    "print(base_airbnb.isnull().sum())"
   ]
  },
  {
   "cell_type": "markdown",
   "metadata": {},
   "source": [
    "- Agora vamos excluir as linhas vazias"
   ]
  },
  {
   "cell_type": "code",
   "execution_count": null,
   "metadata": {},
   "outputs": [],
   "source": [
    "base_airbnb = base_airbnb.dropna()\n",
    "\n",
    "print(base_airbnb.shape)\n",
    "print(base_airbnb.isnull().sum())"
   ]
  },
  {
   "cell_type": "markdown",
   "metadata": {},
   "source": [
    "### Verificar Tipos de Dados em cada coluna"
   ]
  },
  {
   "cell_type": "code",
   "execution_count": null,
   "metadata": {},
   "outputs": [],
   "source": [
    "print(base_airbnb.dtypes)\n",
    "print('-'*60)\n",
    "print(base_airbnb.iloc[0])"
   ]
  },
  {
   "cell_type": "markdown",
   "metadata": {},
   "source": [
    "- Como preço e extra people estão sendo reconhecidos como objeto (ao invés de ser um float) temos que mudar o tipo de variável da coluna."
   ]
  },
  {
   "cell_type": "code",
   "execution_count": null,
   "metadata": {},
   "outputs": [],
   "source": [
    "#price\n",
    "base_airbnb['price'] = base_airbnb['price'].str.replace('$', '')\n",
    "base_airbnb['price'] = base_airbnb['price'].str.replace(',', '')\n",
    "base_airbnb['price'] = base_airbnb['price'].astype(np.float32, copy=False)\n",
    "#extra people\n",
    "base_airbnb['extra_people'] = base_airbnb['extra_people'].str.replace('$', '')\n",
    "base_airbnb['extra_people'] = base_airbnb['extra_people'].str.replace(',', '')\n",
    "base_airbnb['extra_people'] = base_airbnb['extra_people'].astype(np.float32, copy=False)\n",
    "#verificando os tipos\n",
    "print(base_airbnb.dtypes)"
   ]
  },
  {
   "cell_type": "markdown",
   "metadata": {},
   "source": [
    "### Análise Exploratória e Tratar Outliers\n",
    "\n",
    "- Vamos basicamente olhar feature por feature para:\n",
    "    1. Ver a correlação entre as features e decidir se manteremos todas as features que temos.\n",
    "    2. Excluir outliers (usaremos como regra, valores abaixo de Q1 - 1.5xAmplitude e valores acima de Q3 + 1.5x Amplitude). Amplitude = Q3 - Q1\n",
    "    3. Confirmar se todas as features que temos fazem realmente sentido para o nosso modelo ou se alguma delas não vai nos ajudar e se devemos excluir\n",
    "    \n",
    "- Vamos começar pelas colunas de preço (resultado final que queremos) e de extra_people (também valor monetário). Esses são os valores numéricos contínuos.\n",
    "\n",
    "- Depois vamos analisar as colunas de valores numéricos discretos (accomodates, bedrooms, guests_included, etc.)\n",
    "\n",
    "- Por fim, vamos avaliar as colunas de texto e definir quais categorias fazem sentido mantermos ou não."
   ]
  },
  {
   "cell_type": "code",
   "execution_count": null,
   "metadata": {},
   "outputs": [],
   "source": [
    "plt.figure(figsize=(15, 10))\n",
    "sns.heatmap(base_airbnb.corr(), annot=True, cmap='Greens')\n",
    "#print(base_airbnb.corr())"
   ]
  },
  {
   "cell_type": "markdown",
   "metadata": {},
   "source": [
    "### Definição de Funções para Análise de Outliers\n",
    "\n",
    "Vamos definir algumas funções para ajudar na análise de outliers das colunas"
   ]
  },
  {
   "cell_type": "code",
   "execution_count": null,
   "metadata": {},
   "outputs": [],
   "source": [
    "def limites(coluna):\n",
    "    q1 = coluna.quantile(0.25)\n",
    "    q3 = coluna.quantile(0.75)\n",
    "    amplitude = q3 - q1\n",
    "    return q1 - 1.5 * amplitude, q3 + 1.5 * amplitude\n",
    "def excluir_outliers(df, nome_coluna):\n",
    "    qtde_linhas = df.shape[0]\n",
    "    lim_inf, lim_sup = limites(df[nome_coluna])\n",
    "    df = df.loc[(df[nome_coluna] >= lim_inf) & (df[nome_coluna] <= lim_sup), :]\n",
    "    linhas_removidas = qtde_linhas - df.shape[0]\n",
    "    return df,  linhas_removidas"
   ]
  },
  {
   "cell_type": "code",
   "execution_count": null,
   "metadata": {},
   "outputs": [],
   "source": [
    "def diagrama_caixa(coluna):\n",
    "    fig, (ax1, ax2) = plt.subplots(1, 2)\n",
    "    fig.set_size_inches(15, 5)\n",
    "    sns.boxplot(x=coluna, ax=ax1)\n",
    "    ax2.set_xlim(limites(coluna))\n",
    "    sns.boxplot(x=coluna, ax=ax2)\n",
    "    \n",
    "def histograma(coluna):\n",
    "    plt.figure(figsize=(15, 5))\n",
    "    sns.distplot(coluna, hist=True)\n",
    "\n",
    "def grafico_barra(coluna):  \n",
    "    plt.figure(figsize=(15, 5))\n",
    "    ax = sns.barplot(x=coluna.value_counts().index, y=coluna.value_counts())\n",
    "    ax.set_xlim(limites(coluna))"
   ]
  },
  {
   "cell_type": "markdown",
   "metadata": {},
   "source": [
    "### price"
   ]
  },
  {
   "cell_type": "code",
   "execution_count": null,
   "metadata": {},
   "outputs": [],
   "source": [
    "diagrama_caixa(base_airbnb['price'])\n",
    "histograma(base_airbnb['price'])"
   ]
  },
  {
   "cell_type": "markdown",
   "metadata": {},
   "source": [
    "Como estamos construindo um modelo para imóveis comuns, os valores acima do limite superior serão apenas de apartamentos de altíssimo luxo, que não é o nosso objetivo principal. Por isso, podemos excluir esses outliers."
   ]
  },
  {
   "cell_type": "code",
   "execution_count": null,
   "metadata": {},
   "outputs": [],
   "source": [
    "base_airbnb, linhas_removidas = excluir_outliers(base_airbnb, 'price')\n",
    "print('{} linhas removidas'.format(linhas_removidas))"
   ]
  },
  {
   "cell_type": "code",
   "execution_count": null,
   "metadata": {
    "scrolled": true
   },
   "outputs": [],
   "source": [
    "histograma(base_airbnb['price'])\n",
    "print(base_airbnb.shape)"
   ]
  },
  {
   "cell_type": "markdown",
   "metadata": {},
   "source": [
    "### extra_people"
   ]
  },
  {
   "cell_type": "code",
   "execution_count": null,
   "metadata": {},
   "outputs": [],
   "source": [
    "diagrama_caixa(base_airbnb['extra_people'])\n",
    "histograma(base_airbnb['extra_people'])"
   ]
  },
  {
   "cell_type": "code",
   "execution_count": null,
   "metadata": {},
   "outputs": [],
   "source": [
    "base_airbnb, linhas_removidas = excluir_outliers(base_airbnb, 'extra_people')\n",
    "print('{} linhas removidas'.format(linhas_removidas))"
   ]
  },
  {
   "cell_type": "code",
   "execution_count": null,
   "metadata": {},
   "outputs": [],
   "source": [
    "histograma(base_airbnb['extra_people'])\n",
    "print(base_airbnb.shape)"
   ]
  },
  {
   "cell_type": "markdown",
   "metadata": {},
   "source": [
    "### host_listings_count"
   ]
  },
  {
   "cell_type": "code",
   "execution_count": null,
   "metadata": {},
   "outputs": [],
   "source": [
    "diagrama_caixa(base_airbnb['host_listings_count'])\n",
    "grafico_barra(base_airbnb['host_listings_count'])"
   ]
  },
  {
   "cell_type": "markdown",
   "metadata": {},
   "source": [
    "Podemos excluir os outliers, porque para o objetivo do nosso projeto porque hosts com mais de 6 imóveis no airbnb não é o público alvo do objetivo do projeto."
   ]
  },
  {
   "cell_type": "code",
   "execution_count": null,
   "metadata": {},
   "outputs": [],
   "source": [
    "base_airbnb, linhas_removidas = excluir_outliers(base_airbnb, 'host_listings_count')\n",
    "print('{} linhas removidas'.format(linhas_removidas))"
   ]
  },
  {
   "cell_type": "markdown",
   "metadata": {},
   "source": [
    "### accommodates"
   ]
  },
  {
   "cell_type": "code",
   "execution_count": null,
   "metadata": {},
   "outputs": [],
   "source": [
    "diagrama_caixa(base_airbnb['accommodates'])\n",
    "grafico_barra(base_airbnb['accommodates'])"
   ]
  },
  {
   "cell_type": "markdown",
   "metadata": {},
   "source": [
    "- Pelo mesmo motivo do \"host_listings_count\" vamos excluir os outliers dessa coluna porque apartamentos que acomodam mais de 9 pessoas não são o nosso foco, nosso objetivo aqui é para imóveis comuns.\n",
    "\n",
    "- Caso a gente quisesse incluir apartamentos de alto padrão a gente poderia manter essa variável ou então construir um modelo só focado em imóvei com mais de 9 hóspedes"
   ]
  },
  {
   "cell_type": "code",
   "execution_count": null,
   "metadata": {},
   "outputs": [],
   "source": [
    "base_airbnb, linhas_removidas = excluir_outliers(base_airbnb, 'accommodates')\n",
    "print('{} linhas removidas'.format(linhas_removidas))"
   ]
  },
  {
   "cell_type": "markdown",
   "metadata": {},
   "source": [
    "### bathrooms "
   ]
  },
  {
   "cell_type": "code",
   "execution_count": null,
   "metadata": {},
   "outputs": [],
   "source": [
    "diagrama_caixa(base_airbnb['bathrooms'])\n",
    "plt.figure(figsize=(15, 5))\n",
    "sns.barplot(x=base_airbnb['bathrooms'].value_counts().index, y=base_airbnb['bathrooms'].value_counts())"
   ]
  },
  {
   "cell_type": "markdown",
   "metadata": {},
   "source": [
    "- Pelo mesmo motivo dos anteriores, vamos excluir os outliers nos banheiros"
   ]
  },
  {
   "cell_type": "code",
   "execution_count": null,
   "metadata": {},
   "outputs": [],
   "source": [
    "base_airbnb, linhas_removidas = excluir_outliers(base_airbnb, 'bathrooms')\n",
    "print('{} linhas removidas'.format(linhas_removidas))"
   ]
  },
  {
   "cell_type": "markdown",
   "metadata": {},
   "source": [
    "### bedrooms"
   ]
  },
  {
   "cell_type": "code",
   "execution_count": null,
   "metadata": {},
   "outputs": [],
   "source": [
    "diagrama_caixa(base_airbnb['bedrooms'])\n",
    "grafico_barra(base_airbnb['bedrooms'])"
   ]
  },
  {
   "cell_type": "markdown",
   "metadata": {},
   "source": [
    "- Pelo mesmo motivo dos anteriores, vamos excluir outliers em quantidade de quartos"
   ]
  },
  {
   "cell_type": "code",
   "execution_count": null,
   "metadata": {
    "scrolled": true,
    "tags": []
   },
   "outputs": [],
   "source": [
    "base_airbnb, linhas_removidas = excluir_outliers(base_airbnb, 'bedrooms')\n",
    "print('{} linhas removidas'.format(linhas_removidas))"
   ]
  },
  {
   "cell_type": "markdown",
   "metadata": {},
   "source": [
    "### beds"
   ]
  },
  {
   "cell_type": "code",
   "execution_count": null,
   "metadata": {},
   "outputs": [],
   "source": [
    "diagrama_caixa(base_airbnb['beds'])\n",
    "grafico_barra(base_airbnb['beds'])"
   ]
  },
  {
   "cell_type": "markdown",
   "metadata": {},
   "source": [
    "- Pelo mesmo motivo dos anteriores, vamos excluir outliers em quantidade de camas"
   ]
  },
  {
   "cell_type": "code",
   "execution_count": null,
   "metadata": {},
   "outputs": [],
   "source": [
    "base_airbnb, linhas_removidas = excluir_outliers(base_airbnb, 'beds')\n",
    "print('{} linhas removidas'.format(linhas_removidas))"
   ]
  },
  {
   "cell_type": "markdown",
   "metadata": {},
   "source": [
    "### guests_included"
   ]
  },
  {
   "cell_type": "code",
   "execution_count": null,
   "metadata": {},
   "outputs": [],
   "source": [
    "#diagrama_caixa(base_airbnb['guests_included'])\n",
    "#grafico_barra(base_airbnb['guests_included'])\n",
    "print(limites(base_airbnb['guests_included']))\n",
    "plt.figure(figsize=(15, 5))\n",
    "sns.barplot(x=base_airbnb['guests_included'].value_counts().index, y=base_airbnb['guests_included'].value_counts())"
   ]
  },
  {
   "cell_type": "markdown",
   "metadata": {},
   "source": [
    "Vamos remover essa feature da análise. Parece que os usuários do airbnb usam muito o valor padrão do airbnb como 1 guest included. Isso pode levar o nosso modelo a considerar uma feature que na verdade não é essencial para a definição do preço, por isso, me parece melhor excluir a coluna da análise"
   ]
  },
  {
   "cell_type": "code",
   "execution_count": null,
   "metadata": {},
   "outputs": [],
   "source": [
    "base_airbnb = base_airbnb.drop('guests_included', axis=1)\n",
    "base_airbnb.shape"
   ]
  },
  {
   "cell_type": "markdown",
   "metadata": {},
   "source": [
    "### minimum_nights"
   ]
  },
  {
   "cell_type": "code",
   "execution_count": null,
   "metadata": {},
   "outputs": [],
   "source": [
    "diagrama_caixa(base_airbnb['minimum_nights'])\n",
    "grafico_barra(base_airbnb['minimum_nights'])"
   ]
  },
  {
   "cell_type": "markdown",
   "metadata": {},
   "source": [
    "- Aqui temos um motivo talvez até mais forte para excluir esses apartamentos da análise.\n",
    "\n",
    "- Estamos querendo um modelo que ajude a precificar apartamentos comuns como uma pessoa comum gostaria de disponibilizar. No caso, apartamentos com mais de 8 noites como o \"mínimo de noites\" podem ser apartamentos de temporada ou ainda apartamentos para morar, em que o host exige pelo menos 1 mês no apartamento.\n",
    "\n",
    "- Por isso, vamos excluir os outliers dessa coluna"
   ]
  },
  {
   "cell_type": "code",
   "execution_count": null,
   "metadata": {},
   "outputs": [],
   "source": [
    "base_airbnb, linhas_removidas = excluir_outliers(base_airbnb, 'minimum_nights')\n",
    "print('{} linhas removidas'.format(linhas_removidas))"
   ]
  },
  {
   "cell_type": "markdown",
   "metadata": {},
   "source": [
    "### maximum_nights"
   ]
  },
  {
   "cell_type": "code",
   "execution_count": null,
   "metadata": {},
   "outputs": [],
   "source": [
    "diagrama_caixa(base_airbnb['maximum_nights'])\n",
    "grafico_barra(base_airbnb['maximum_nights'])"
   ]
  },
  {
   "cell_type": "markdown",
   "metadata": {},
   "source": [
    "- Essa coluna não parece que vai ajudar na análise.\n",
    "\n",
    "- Isso porque parece que quase todos os hosts não preenchem esse campo de maximum nights, então ele não parece que vai ser um fator relevante.\n",
    "\n",
    "- É melhor excluirmos essa coluna da análise"
   ]
  },
  {
   "cell_type": "code",
   "execution_count": null,
   "metadata": {},
   "outputs": [],
   "source": [
    "base_airbnb = base_airbnb.drop('maximum_nights', axis=1)\n",
    "base_airbnb.shape"
   ]
  },
  {
   "cell_type": "markdown",
   "metadata": {},
   "source": [
    "### number_of_reviews            "
   ]
  },
  {
   "cell_type": "code",
   "execution_count": null,
   "metadata": {},
   "outputs": [],
   "source": [
    "diagrama_caixa(base_airbnb['number_of_reviews'])\n",
    "grafico_barra(base_airbnb['number_of_reviews'])"
   ]
  },
  {
   "cell_type": "markdown",
   "metadata": {},
   "source": [
    "- Aqui poderíamos tomar algumas decisões diferentes. Eu vou tomar uma decisão baseado na minha análise pessoal de tirar essa característica da análise, por alguns motivos:\n",
    "\n",
    "    1. Se excluirmos os outliers, vamos excluir as pessoas que tem a maior quantidade de reviews (o que normalmente são os hosts que têm mais aluguel). Isso pode impactar muito negativamente o nosso modelo\n",
    "    2. Pensando no nosso objetivo, se eu tenho um imóvel parado e quero colocar meu imóvel lá, é claro que eu não tenho review nenhuma. Então talvez tirar essa característica da análise pode na verdade acabar ajudando.\n",
    "    3. Particularmente tenho dúvida se essa característica deveria impactar ou não o preço final"
   ]
  },
  {
   "cell_type": "code",
   "execution_count": null,
   "metadata": {},
   "outputs": [],
   "source": [
    "base_airbnb = base_airbnb.drop('number_of_reviews', axis=1)\n",
    "base_airbnb.shape"
   ]
  },
  {
   "cell_type": "markdown",
   "metadata": {},
   "source": [
    "### Tratamento de Colunas de Valores de Texto"
   ]
  },
  {
   "cell_type": "markdown",
   "metadata": {},
   "source": [
    "### - property_type "
   ]
  },
  {
   "cell_type": "code",
   "execution_count": null,
   "metadata": {},
   "outputs": [],
   "source": [
    "print(base_airbnb['property_type'].value_counts())\n",
    "\n",
    "plt.figure(figsize=(15, 5))\n",
    "grafico = sns.countplot('property_type', data=base_airbnb)\n",
    "grafico.tick_params(axis='x', rotation=90)"
   ]
  },
  {
   "cell_type": "markdown",
   "metadata": {},
   "source": [
    "- Aqui a nossa ação não é \"excluir outliers\", mas sim agrupar valores que são muito pequenos.\n",
    "\n",
    "- Todos os tipos de propriedade que têm menos de 2.000 propriedades na base de dados, portanto agrupa-se em um grupo chamado \"outros\"."
   ]
  },
  {
   "cell_type": "code",
   "execution_count": null,
   "metadata": {},
   "outputs": [],
   "source": [
    "tabela_tipos_casa = base_airbnb['property_type'].value_counts()\n",
    "colunas_agrupar = []\n",
    "\n",
    "for tipo in tabela_tipos_casa.index:\n",
    "    if tabela_tipos_casa[tipo] < 2000:\n",
    "        colunas_agrupar.append(tipo)\n",
    "print(colunas_agrupar)\n",
    "\n",
    "for tipo in colunas_agrupar:\n",
    "    base_airbnb.loc[base_airbnb['property_type']==tipo, 'property_type'] = 'Outros'\n",
    "\n",
    "print(base_airbnb['property_type'].value_counts())\n",
    "plt.figure(figsize=(15, 5))\n",
    "grafico = sns.countplot('property_type', data=base_airbnb)\n",
    "grafico.tick_params(axis='x', rotation=90)"
   ]
  },
  {
   "cell_type": "markdown",
   "metadata": {},
   "source": [
    "### - room_type "
   ]
  },
  {
   "cell_type": "code",
   "execution_count": null,
   "metadata": {},
   "outputs": [],
   "source": [
    "print(base_airbnb['room_type'].value_counts())\n",
    "\n",
    "plt.figure(figsize=(15, 5))\n",
    "grafico = sns.countplot('room_type', data=base_airbnb)\n",
    "grafico.tick_params(axis='x', rotation=90)"
   ]
  },
  {
   "cell_type": "markdown",
   "metadata": {},
   "source": [
    "Em tipo de quarto, não precisamos fazer nada, ele já parece estar bem distribuído"
   ]
  },
  {
   "cell_type": "markdown",
   "metadata": {},
   "source": [
    "### - bed_type "
   ]
  },
  {
   "cell_type": "code",
   "execution_count": null,
   "metadata": {},
   "outputs": [],
   "source": [
    "print(base_airbnb['bed_type'].value_counts())\n",
    "\n",
    "plt.figure(figsize=(15, 5))\n",
    "grafico = sns.countplot('bed_type', data=base_airbnb)\n",
    "grafico.tick_params(axis='x', rotation=90)\n",
    "\n",
    "# agrupando categorias de bed_type\n",
    "tabela_bed = base_airbnb['bed_type'].value_counts()\n",
    "colunas_agrupar = []\n",
    "\n",
    "for tipo in tabela_bed.index:\n",
    "    if tabela_bed[tipo] < 10000:\n",
    "        colunas_agrupar.append(tipo)\n",
    "print(colunas_agrupar)\n",
    "\n",
    "for tipo in colunas_agrupar:\n",
    "    base_airbnb.loc[base_airbnb['bed_type']==tipo, 'bed_type'] = 'Outros'\n",
    "\n",
    "print(base_airbnb['bed_type'].value_counts())\n",
    "plt.figure(figsize=(15, 5))\n",
    "grafico = sns.countplot('bed_type', data=base_airbnb)\n",
    "grafico.tick_params(axis='x', rotation=90)"
   ]
  },
  {
   "cell_type": "markdown",
   "metadata": {},
   "source": [
    "- Aqui a nossa ação não é \"excluir outliers\", mas sim agrupar valores que são muito pequenos.\n",
    "\n",
    "- Como temos 1 valor claramente MUITO maior do que todos os outros, vou criar apenas 2 grupos de camas: \"Real Bed\" e \"outros\"\n",
    "\n",
    "Isso vai simplificar o modelo"
   ]
  },
  {
   "cell_type": "markdown",
   "metadata": {},
   "source": [
    "### - cancellation_policy "
   ]
  },
  {
   "cell_type": "code",
   "execution_count": null,
   "metadata": {},
   "outputs": [],
   "source": [
    "print(base_airbnb['cancellation_policy'].value_counts())\n",
    "\n",
    "plt.figure(figsize=(15, 5))\n",
    "grafico = sns.countplot('cancellation_policy', data=base_airbnb)\n",
    "grafico.tick_params(axis='x', rotation=90)\n",
    "\n",
    "# agrupando categorias de cancellation_pollicy\n",
    "tabela_cancellation = base_airbnb['cancellation_policy'].value_counts()\n",
    "colunas_agrupar = []\n",
    "\n",
    "for tipo in tabela_cancellation.index:\n",
    "    if tabela_cancellation[tipo] < 10000:\n",
    "        colunas_agrupar.append(tipo)\n",
    "print(colunas_agrupar)\n",
    "\n",
    "for tipo in colunas_agrupar:\n",
    "    base_airbnb.loc[base_airbnb['cancellation_policy']==tipo, 'cancellation_policy'] = 'strict'\n",
    "\n",
    "print(base_airbnb['cancellation_policy'].value_counts())\n",
    "plt.figure(figsize=(15, 5))\n",
    "grafico = sns.countplot('cancellation_policy', data=base_airbnb)\n",
    "grafico.tick_params(axis='x', rotation=90)"
   ]
  },
  {
   "cell_type": "markdown",
   "metadata": {},
   "source": [
    "### - amenities \n",
    "\n",
    "Como temos uma diversidade muito grande de amenities e, às vezes, as mesmas amenities podem ser escritas de forma diferente, vamos avaliar a quantidade de amenities como o parâmetro para o nosso modelo."
   ]
  },
  {
   "cell_type": "code",
   "execution_count": null,
   "metadata": {},
   "outputs": [],
   "source": [
    "print(base_airbnb['amenities'].iloc[1].split(','))\n",
    "print(len(base_airbnb['amenities'].iloc[1].split(',')))\n",
    "\n",
    "base_airbnb['n_amenities'] = base_airbnb['amenities'].str.split(',').apply(len)"
   ]
  },
  {
   "cell_type": "code",
   "execution_count": null,
   "metadata": {},
   "outputs": [],
   "source": [
    "base_airbnb = base_airbnb.drop('amenities', axis=1)\n",
    "base_airbnb.shape"
   ]
  },
  {
   "cell_type": "code",
   "execution_count": null,
   "metadata": {},
   "outputs": [],
   "source": [
    "diagrama_caixa(base_airbnb['n_amenities'])\n",
    "grafico_barra(base_airbnb['n_amenities'])"
   ]
  },
  {
   "cell_type": "markdown",
   "metadata": {},
   "source": [
    "Então, essa virou uma coluna de valor numérico e, como todas as outras colunas de valores numéricos, eu exclui outliers com os mesmos modelos anteriores"
   ]
  },
  {
   "cell_type": "code",
   "execution_count": null,
   "metadata": {},
   "outputs": [],
   "source": [
    "base_airbnb, linhas_removidas = excluir_outliers(base_airbnb, 'n_amenities')\n",
    "print('{} linhas removidas'.format(linhas_removidas))"
   ]
  },
  {
   "cell_type": "markdown",
   "metadata": {},
   "source": [
    "### Visualização de Mapa das Propriedades\n",
    "\n",
    "Vamos criar um mapa que exibe um pedaço da nossa base de dados aleatório (50.000 propriedades) para ver como as propriedades estão distribuídas pela cidade e também identificar os locais de maior preço "
   ]
  },
  {
   "cell_type": "code",
   "execution_count": null,
   "metadata": {},
   "outputs": [],
   "source": [
    "amostra = base_airbnb.sample(n=50000)\n",
    "centro_mapa = {'lat':amostra.latitude.mean(), 'lon':amostra.longitude.mean()}\n",
    "mapa = px.density_mapbox(amostra, lat='latitude', lon='longitude',z='price', radius=2.5,\n",
    "                        center=centro_mapa, zoom=10,\n",
    "                        mapbox_style='stamen-terrain')\n",
    "mapa.show()"
   ]
  },
  {
   "cell_type": "markdown",
   "metadata": {},
   "source": [
    "### Encoding\n",
    "\n",
    "Precisamor Ajustar as features para facilitar o trabalho do modelo futuro (features de categoria, true e false, etc.)\n",
    "\n",
    "- Features de Valores True ou False, vamos substituir True por 1 e False por 0.\n",
    "- Features de Categoria (features em que os valores da coluna são textos) vamos utilizar o método de encoding de variáveis dummies"
   ]
  },
  {
   "cell_type": "code",
   "execution_count": null,
   "metadata": {},
   "outputs": [],
   "source": [
    "colunas_tf = ['host_is_superhost', 'instant_bookable', 'is_business_travel_ready']\n",
    "base_airbnb_cod = base_airbnb.copy()\n",
    "for coluna in colunas_tf:\n",
    "    base_airbnb_cod.loc[base_airbnb_cod[coluna]=='t', coluna] = 1\n",
    "    base_airbnb_cod.loc[base_airbnb_cod[coluna]=='f', coluna] = 0"
   ]
  },
  {
   "cell_type": "code",
   "execution_count": null,
   "metadata": {},
   "outputs": [],
   "source": [
    "colunas_categorias = ['property_type', 'room_type', 'bed_type', 'cancellation_policy']\n",
    "base_airbnb_cod = pd.get_dummies(data=base_airbnb_cod, columns=colunas_categorias)\n",
    "display(base_airbnb_cod.head())"
   ]
  },
  {
   "cell_type": "markdown",
   "metadata": {},
   "source": [
    "### Modelo de Previsão"
   ]
  },
  {
   "cell_type": "markdown",
   "metadata": {},
   "source": [
    "- Métricas de Avaliação\n",
    "\n",
    "Vamos usar aqui o `R²` que vai nos dizer o quão bem o nosso modelo consegue explicar o preço. Isso seria um ótimo parâmetro para ver o quão bom é nosso modelo: <br>\n",
    "**->**  <font color=green>Quanto mais próximo de 100%, melhor </font>\n",
    "\n",
    "Calcula-se o `erro Quadrático Médio`, que vai mostrar para gente o quanto o nosso modelo está errando. <br>\n",
    "**->** <font color=green>Quanto menor for o erro, melhor </font>"
   ]
  },
  {
   "cell_type": "code",
   "execution_count": null,
   "metadata": {},
   "outputs": [],
   "source": [
    "def avaliar_modelo(nome_modelo, y_teste, previsao):\n",
    "    r2 = r2_score(y_teste, previsao)\n",
    "    RSME = np.sqrt(mean_squared_error(y_teste, previsao))\n",
    "    return f'Modelo {nome_modelo}:\\nR²:{r2:.2%}\\nRSME:{RSME:.2f}'"
   ]
  },
  {
   "cell_type": "markdown",
   "metadata": {},
   "source": [
    "- Escolha dos Modelos a Serem Testados\n",
    "    1. RandomForest\n",
    "    2. LinearRegression\n",
    "    3. Extra Tree\n",
    "    \n",
    "Esses são alguns dos modelos que existem para fazer previsão de valores numéricos (o que chamamos de regressão). Estamos querendo calcular o preço, portanto, queremos prever um valor numérico."
   ]
  },
  {
   "cell_type": "code",
   "execution_count": null,
   "metadata": {},
   "outputs": [],
   "source": [
    "modelo_rf = RandomForestRegressor()\n",
    "modelo_lr = LinearRegression()\n",
    "modelo_et = ExtraTreesRegressor()\n",
    "\n",
    "modelos = {'RandomForest': modelo_rf,\n",
    "          'LinearRegression': modelo_lr,\n",
    "          'ExtraTrees': modelo_et,\n",
    "          }\n",
    "\n",
    "y = base_airbnb_cod['price']\n",
    "X = base_airbnb_cod.drop('price', axis=1)"
   ]
  },
  {
   "cell_type": "markdown",
   "metadata": {},
   "source": [
    "- Separar os dados em `treino` e `teste + treino do Modelo`"
   ]
  },
  {
   "cell_type": "code",
   "execution_count": null,
   "metadata": {},
   "outputs": [],
   "source": [
    "X_train, X_test, y_train, y_test = train_test_split(X, y, random_state=10)\n",
    "\n",
    "for nome_modelo, modelo in modelos.items():\n",
    "    #treinar\n",
    "    modelo.fit(X_train, y_train)\n",
    "    #testar\n",
    "    previsao = modelo.predict(X_test)\n",
    "    print(avaliar_modelo(nome_modelo, y_test, previsao))"
   ]
  },
  {
   "cell_type": "markdown",
   "metadata": {},
   "source": [
    "### Análise do Melhor Modelo"
   ]
  },
  {
   "cell_type": "code",
   "execution_count": null,
   "metadata": {},
   "outputs": [],
   "source": [
    "for nome_modelo, modelo in modelos.items():\n",
    "    #testar\n",
    "    previsao = modelo.predict(X_test)\n",
    "    print(avaliar_modelo(nome_modelo, y_test, previsao))"
   ]
  },
  {
   "cell_type": "markdown",
   "metadata": {},
   "source": [
    "- Modelo Escolhido como Melhor Modelo: ExtraTressRegressor\n",
    "\n",
    "    Esse foi o modelo com maior valor de R² e ao mesmo tempo o menor valor de RSME. Como não tivemos uma grande diferença de velocidade de treino e de previsão desse modelo com o modelo de RandomForest (que teve resultados próximos de R² e RSME), vamos escolher o Modelo ExtraTrees.\n",
    "    \n",
    "    O modelo de regressão linear não obteve um resultado satisfatório, com valores de R² e RSME muito piores do que os outros 2 modelos.\n",
    "    \n",
    "- Resultados das Métricas de Avaliaçõ no Modelo Vencedor:<br>\n",
    "Modelo ExtraTrees:<br>\n",
    "R²:97.49%<br>\n",
    "RSME:41.99"
   ]
  },
  {
   "cell_type": "markdown",
   "metadata": {},
   "source": [
    "### Ajustes e Melhorias no Melhor Modelo"
   ]
  },
  {
   "cell_type": "code",
   "execution_count": null,
   "metadata": {},
   "outputs": [],
   "source": [
    "#print(modelo_et.feature_importances_)\n",
    "#print(X_train.columns)\n",
    "importancia_features = pd.DataFrame(modelo_et.feature_importances_, X_train.columns)\n",
    "importancia_features = importancia_features.sort_values(by=0, ascending=False)\n",
    "display(importancia_features)\n",
    "plt.figure(figsize=(15, 5))\n",
    "ax = sns.barplot(x=importancia_features.index, y=importancia_features[0])\n",
    "ax.tick_params(axis='x', rotation=90)"
   ]
  },
  {
   "cell_type": "markdown",
   "metadata": {},
   "source": [
    "### Ajustes Finais no Modelo\n",
    "\n",
    "- is_business_travel ready não parece ter muito impacto no nosso modelo. Por isso, para chegar em um modelo mais simples, vamos excluir essa feature e testar o modelo sem ela."
   ]
  },
  {
   "cell_type": "code",
   "execution_count": null,
   "metadata": {},
   "outputs": [],
   "source": [
    "base_airbnb_cod = base_airbnb_cod.drop('is_business_travel_ready', axis=1)\n",
    "\n",
    "y = base_airbnb_cod['price']\n",
    "X = base_airbnb_cod.drop('price', axis=1)\n",
    "\n",
    "X_train, X_test, y_train, y_test = train_test_split(X, y, random_state=10)\n",
    "\n",
    "modelo_et.fit(X_train, y_train)\n",
    "previsao = modelo_et.predict(X_test)\n",
    "print(avaliar_modelo('ExtraTrees', y_test, previsao))"
   ]
  },
  {
   "cell_type": "code",
   "execution_count": null,
   "metadata": {},
   "outputs": [],
   "source": [
    "base_teste = base_airbnb_cod.copy()\n",
    "for coluna in base_teste:\n",
    "    if 'bed_type' in coluna:    \n",
    "        base_teste = base_teste.drop(coluna, axis=1)\n",
    "print(base_teste.columns)\n",
    "y = base_teste['price']\n",
    "X = base_teste.drop('price', axis=1)\n",
    "\n",
    "X_train, X_test, y_train, y_test = train_test_split(X, y, random_state=10)\n",
    "\n",
    "modelo_et.fit(X_train, y_train)\n",
    "previsao = modelo_et.predict(X_test)\n",
    "print(avaliar_modelo('ExtraTrees', y_test, previsao))"
   ]
  },
  {
   "cell_type": "code",
   "execution_count": null,
   "metadata": {},
   "outputs": [],
   "source": [
    "print(previsao)"
   ]
  }
 ],
 "metadata": {
  "kernelspec": {
   "display_name": "Python 3",
   "language": "python",
   "name": "python3"
  },
  "language_info": {
   "codemirror_mode": {
    "name": "ipython",
    "version": 3
   },
   "file_extension": ".py",
   "mimetype": "text/x-python",
   "name": "python",
   "nbconvert_exporter": "python",
   "pygments_lexer": "ipython3",
   "version": "3.8.8"
  }
 },
 "nbformat": 4,
 "nbformat_minor": 4
}
